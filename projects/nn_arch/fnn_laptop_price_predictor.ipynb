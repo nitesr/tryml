{
  "cells": [
    {
      "cell_type": "markdown",
      "metadata": {
        "id": "dNwnV7rflZkO"
      },
      "source": [
        "# Laptops Price Dataset\n",
        "This dataset provides a comprehensive collection of information on various laptops, enabling a detailed analysis of their specifications and pricing. It encompasses a wide range of laptops, encompassing diverse brands, models, and configurations, making it a valuable resource for researchers, data analysts, and machine learning enthusiasts interested in the laptop industry.\n",
        "\n",
        "The data comes from the spanish website PC componentes. The data was collected using Power Automate, more info on: https://github.com/juanmerino89/laptops-data-cleaning\n",
        "\n",
        "#### Fields included:\n",
        "\n",
        "- **Laptop Name**: The unique identifier or model name of the laptop.\n",
        "- **Brand**: Laptop brand.\n",
        "- **Model**: Laptop brand model.\n",
        "- **CPU (Central Processing Unit)**: The processor brand, model, and other relevant details.\n",
        "- **GPU (Graphics Processing Unit)**: The graphics card brand, model, and associated specifications.\n",
        "- **RAM (Random Access Memory)**: The amount of memory available for multitasking.\n",
        "- **Storage**: The storage type (HDD, SSD) and capacity of the laptop.\n",
        "- Price: The cost of the laptop in the respective currency.\n",
        "\n",
        "By utilizing this dataset, researchers and analysts can explore patterns, trends, and relationships between laptop specifications and their pricing. It serves as an excellent resource for tasks such as price prediction, market analysis, and comparison of different laptop configurations. Whether you are interested in identifying the most cost-effective options or understanding the impact of specific hardware components on laptop prices, this dataset offers abundant possibilities for in-depth exploration."
      ]
    },
    {
      "cell_type": "code",
      "execution_count": null,
      "metadata": {},
      "outputs": [],
      "source": [
        "!pip3 install pandas\n",
        "!pip3 install scikit-learn\n",
        "!pip3 install torch\n",
        "!pip3 install matplotlib"
      ]
    },
    {
      "cell_type": "markdown",
      "metadata": {
        "id": "qv-PQqejlidv"
      },
      "source": [
        "# Extract the dataset"
      ]
    },
    {
      "cell_type": "code",
      "execution_count": 68,
      "metadata": {
        "id": "7wDmhNuSlcfE"
      },
      "outputs": [
        {
          "data": {
            "text/html": [
              "<div>\n",
              "<style scoped>\n",
              "    .dataframe tbody tr th:only-of-type {\n",
              "        vertical-align: middle;\n",
              "    }\n",
              "\n",
              "    .dataframe tbody tr th {\n",
              "        vertical-align: top;\n",
              "    }\n",
              "\n",
              "    .dataframe thead th {\n",
              "        text-align: right;\n",
              "    }\n",
              "</style>\n",
              "<table border=\"1\" class=\"dataframe\">\n",
              "  <thead>\n",
              "    <tr style=\"text-align: right;\">\n",
              "      <th></th>\n",
              "      <th>Laptop</th>\n",
              "      <th>Status</th>\n",
              "      <th>Brand</th>\n",
              "      <th>Model</th>\n",
              "      <th>CPU</th>\n",
              "      <th>RAM</th>\n",
              "      <th>Storage</th>\n",
              "      <th>Storage type</th>\n",
              "      <th>GPU</th>\n",
              "      <th>Screen</th>\n",
              "      <th>Touch</th>\n",
              "      <th>Final Price</th>\n",
              "    </tr>\n",
              "  </thead>\n",
              "  <tbody>\n",
              "    <tr>\n",
              "      <th>0</th>\n",
              "      <td>ASUS ExpertBook B1 B1502CBA-EJ0436X Intel Core...</td>\n",
              "      <td>New</td>\n",
              "      <td>Asus</td>\n",
              "      <td>ExpertBook</td>\n",
              "      <td>Intel Core i5</td>\n",
              "      <td>8</td>\n",
              "      <td>512</td>\n",
              "      <td>SSD</td>\n",
              "      <td>NaN</td>\n",
              "      <td>15.6</td>\n",
              "      <td>No</td>\n",
              "      <td>1009.00</td>\n",
              "    </tr>\n",
              "    <tr>\n",
              "      <th>1</th>\n",
              "      <td>Alurin Go Start Intel Celeron N4020/8GB/256GB ...</td>\n",
              "      <td>New</td>\n",
              "      <td>Alurin</td>\n",
              "      <td>Go</td>\n",
              "      <td>Intel Celeron</td>\n",
              "      <td>8</td>\n",
              "      <td>256</td>\n",
              "      <td>SSD</td>\n",
              "      <td>NaN</td>\n",
              "      <td>15.6</td>\n",
              "      <td>No</td>\n",
              "      <td>299.00</td>\n",
              "    </tr>\n",
              "    <tr>\n",
              "      <th>2</th>\n",
              "      <td>ASUS ExpertBook B1 B1502CBA-EJ0424X Intel Core...</td>\n",
              "      <td>New</td>\n",
              "      <td>Asus</td>\n",
              "      <td>ExpertBook</td>\n",
              "      <td>Intel Core i3</td>\n",
              "      <td>8</td>\n",
              "      <td>256</td>\n",
              "      <td>SSD</td>\n",
              "      <td>NaN</td>\n",
              "      <td>15.6</td>\n",
              "      <td>No</td>\n",
              "      <td>789.00</td>\n",
              "    </tr>\n",
              "    <tr>\n",
              "      <th>3</th>\n",
              "      <td>MSI Katana GF66 12UC-082XES Intel Core i7-1270...</td>\n",
              "      <td>New</td>\n",
              "      <td>MSI</td>\n",
              "      <td>Katana</td>\n",
              "      <td>Intel Core i7</td>\n",
              "      <td>16</td>\n",
              "      <td>1000</td>\n",
              "      <td>SSD</td>\n",
              "      <td>RTX 3050</td>\n",
              "      <td>15.6</td>\n",
              "      <td>No</td>\n",
              "      <td>1199.00</td>\n",
              "    </tr>\n",
              "    <tr>\n",
              "      <th>4</th>\n",
              "      <td>HP 15S-FQ5085NS Intel Core i5-1235U/16GB/512GB...</td>\n",
              "      <td>New</td>\n",
              "      <td>HP</td>\n",
              "      <td>15S</td>\n",
              "      <td>Intel Core i5</td>\n",
              "      <td>16</td>\n",
              "      <td>512</td>\n",
              "      <td>SSD</td>\n",
              "      <td>NaN</td>\n",
              "      <td>15.6</td>\n",
              "      <td>No</td>\n",
              "      <td>669.01</td>\n",
              "    </tr>\n",
              "  </tbody>\n",
              "</table>\n",
              "</div>"
            ],
            "text/plain": [
              "                                              Laptop Status   Brand  \\\n",
              "0  ASUS ExpertBook B1 B1502CBA-EJ0436X Intel Core...    New    Asus   \n",
              "1  Alurin Go Start Intel Celeron N4020/8GB/256GB ...    New  Alurin   \n",
              "2  ASUS ExpertBook B1 B1502CBA-EJ0424X Intel Core...    New    Asus   \n",
              "3  MSI Katana GF66 12UC-082XES Intel Core i7-1270...    New     MSI   \n",
              "4  HP 15S-FQ5085NS Intel Core i5-1235U/16GB/512GB...    New      HP   \n",
              "\n",
              "        Model            CPU  RAM  Storage Storage type       GPU  Screen  \\\n",
              "0  ExpertBook  Intel Core i5    8      512          SSD       NaN    15.6   \n",
              "1          Go  Intel Celeron    8      256          SSD       NaN    15.6   \n",
              "2  ExpertBook  Intel Core i3    8      256          SSD       NaN    15.6   \n",
              "3      Katana  Intel Core i7   16     1000          SSD  RTX 3050    15.6   \n",
              "4         15S  Intel Core i5   16      512          SSD       NaN    15.6   \n",
              "\n",
              "  Touch  Final Price  \n",
              "0    No      1009.00  \n",
              "1    No       299.00  \n",
              "2    No       789.00  \n",
              "3    No      1199.00  \n",
              "4    No       669.01  "
            ]
          },
          "execution_count": 68,
          "metadata": {},
          "output_type": "execute_result"
        }
      ],
      "source": [
        "import pandas as pd\n",
        "\n",
        "data_url = 'https://raw.githubusercontent.com/juanmerino89/laptops-data-cleaning/main/laptops.csv'\n",
        "data_raw_df = pd.read_csv(data_url)\n",
        "\n",
        "data_raw_df.head()"
      ]
    },
    {
      "cell_type": "code",
      "execution_count": 69,
      "metadata": {},
      "outputs": [],
      "source": [
        "X_raw = data_raw_df.drop(\"Final Price\", axis=1)\n",
        "X_raw = X_raw.drop(\"Laptop\", axis=1)\n",
        "Y = data_raw_df[\"Final Price\"]"
      ]
    },
    {
      "cell_type": "code",
      "execution_count": 70,
      "metadata": {},
      "outputs": [],
      "source": [
        "from sklearn.model_selection import train_test_split\n",
        "\n",
        "X_raw_train, X_raw_test, Y_train, Y_test = train_test_split(X_raw, Y, test_size=0.2, random_state=123)"
      ]
    },
    {
      "cell_type": "markdown",
      "metadata": {
        "id": "YptSj3i6lsXD"
      },
      "source": [
        "# EDA\n",
        "Perform EDA on the datsaet to understand the data."
      ]
    },
    {
      "cell_type": "code",
      "execution_count": 71,
      "metadata": {},
      "outputs": [
        {
          "data": {
            "text/plain": [
              "(2160, 12)"
            ]
          },
          "execution_count": 71,
          "metadata": {},
          "output_type": "execute_result"
        }
      ],
      "source": [
        "data_raw_df.shape"
      ]
    },
    {
      "cell_type": "markdown",
      "metadata": {},
      "source": [
        "### describe the numeric fields"
      ]
    },
    {
      "cell_type": "code",
      "execution_count": 72,
      "metadata": {
        "id": "B5nDqKbVlsoJ"
      },
      "outputs": [
        {
          "data": {
            "text/html": [
              "<div>\n",
              "<style scoped>\n",
              "    .dataframe tbody tr th:only-of-type {\n",
              "        vertical-align: middle;\n",
              "    }\n",
              "\n",
              "    .dataframe tbody tr th {\n",
              "        vertical-align: top;\n",
              "    }\n",
              "\n",
              "    .dataframe thead th {\n",
              "        text-align: right;\n",
              "    }\n",
              "</style>\n",
              "<table border=\"1\" class=\"dataframe\">\n",
              "  <thead>\n",
              "    <tr style=\"text-align: right;\">\n",
              "      <th></th>\n",
              "      <th>RAM</th>\n",
              "      <th>Storage</th>\n",
              "      <th>Screen</th>\n",
              "      <th>Final Price</th>\n",
              "    </tr>\n",
              "  </thead>\n",
              "  <tbody>\n",
              "    <tr>\n",
              "      <th>count</th>\n",
              "      <td>2160.000000</td>\n",
              "      <td>2160.000000</td>\n",
              "      <td>2156.000000</td>\n",
              "      <td>2160.000000</td>\n",
              "    </tr>\n",
              "    <tr>\n",
              "      <th>mean</th>\n",
              "      <td>15.413889</td>\n",
              "      <td>596.294444</td>\n",
              "      <td>15.168112</td>\n",
              "      <td>1312.638509</td>\n",
              "    </tr>\n",
              "    <tr>\n",
              "      <th>std</th>\n",
              "      <td>9.867815</td>\n",
              "      <td>361.220506</td>\n",
              "      <td>1.203329</td>\n",
              "      <td>911.475417</td>\n",
              "    </tr>\n",
              "    <tr>\n",
              "      <th>min</th>\n",
              "      <td>4.000000</td>\n",
              "      <td>0.000000</td>\n",
              "      <td>10.100000</td>\n",
              "      <td>201.050000</td>\n",
              "    </tr>\n",
              "    <tr>\n",
              "      <th>25%</th>\n",
              "      <td>8.000000</td>\n",
              "      <td>256.000000</td>\n",
              "      <td>14.000000</td>\n",
              "      <td>661.082500</td>\n",
              "    </tr>\n",
              "    <tr>\n",
              "      <th>50%</th>\n",
              "      <td>16.000000</td>\n",
              "      <td>512.000000</td>\n",
              "      <td>15.600000</td>\n",
              "      <td>1031.945000</td>\n",
              "    </tr>\n",
              "    <tr>\n",
              "      <th>75%</th>\n",
              "      <td>16.000000</td>\n",
              "      <td>1000.000000</td>\n",
              "      <td>15.600000</td>\n",
              "      <td>1708.970000</td>\n",
              "    </tr>\n",
              "    <tr>\n",
              "      <th>max</th>\n",
              "      <td>128.000000</td>\n",
              "      <td>4000.000000</td>\n",
              "      <td>18.000000</td>\n",
              "      <td>7150.470000</td>\n",
              "    </tr>\n",
              "  </tbody>\n",
              "</table>\n",
              "</div>"
            ],
            "text/plain": [
              "               RAM      Storage       Screen  Final Price\n",
              "count  2160.000000  2160.000000  2156.000000  2160.000000\n",
              "mean     15.413889   596.294444    15.168112  1312.638509\n",
              "std       9.867815   361.220506     1.203329   911.475417\n",
              "min       4.000000     0.000000    10.100000   201.050000\n",
              "25%       8.000000   256.000000    14.000000   661.082500\n",
              "50%      16.000000   512.000000    15.600000  1031.945000\n",
              "75%      16.000000  1000.000000    15.600000  1708.970000\n",
              "max     128.000000  4000.000000    18.000000  7150.470000"
            ]
          },
          "execution_count": 72,
          "metadata": {},
          "output_type": "execute_result"
        }
      ],
      "source": [
        "data_raw_df.describe()"
      ]
    },
    {
      "cell_type": "markdown",
      "metadata": {},
      "source": [
        "### Check for nan values"
      ]
    },
    {
      "cell_type": "code",
      "execution_count": 73,
      "metadata": {},
      "outputs": [
        {
          "data": {
            "text/plain": [
              "Laptop             0\n",
              "Status             0\n",
              "Brand              0\n",
              "Model              0\n",
              "CPU                0\n",
              "RAM                0\n",
              "Storage            0\n",
              "Storage type      42\n",
              "GPU             1371\n",
              "Screen             4\n",
              "Touch              0\n",
              "Final Price        0\n",
              "dtype: int64"
            ]
          },
          "execution_count": 73,
          "metadata": {},
          "output_type": "execute_result"
        }
      ],
      "source": [
        "df = data_raw_df.isna().sum()\n",
        "df"
      ]
    },
    {
      "cell_type": "markdown",
      "metadata": {},
      "source": [
        "### check values counts of categorical features"
      ]
    },
    {
      "cell_type": "code",
      "execution_count": 74,
      "metadata": {},
      "outputs": [
        {
          "data": {
            "text/plain": [
              "[{'feat': 'Status', 'values': 2},\n",
              " {'feat': 'Brand', 'values': 27},\n",
              " {'feat': 'Storage type', 'values': 3},\n",
              " {'feat': 'Touch', 'values': 2},\n",
              " {'feat': 'GPU', 'values': 45},\n",
              " {'feat': 'CPU', 'values': 28},\n",
              " {'feat': 'Model', 'values': 121}]"
            ]
          },
          "execution_count": 74,
          "metadata": {},
          "output_type": "execute_result"
        }
      ],
      "source": [
        "import pandas as pd\n",
        "\n",
        "categorical_features = [\"Status\", \"Brand\", \"Storage type\", \"Touch\", \"GPU\", \"CPU\", \"Model\"]\n",
        "text_features = [\"Laptop\"]\n",
        "num_features = [ \"RAM\", \"Storage\", \"Screen\"]\n",
        "\n",
        "cat_uniq_values = []\n",
        "for cat_feat in categorical_features:\n",
        "    cat_uniq_values.append({\n",
        "        \"feat\": cat_feat, \n",
        "         \"values\": len(data_raw_df[cat_feat].unique())\n",
        "    })\n",
        "\n",
        "cat_uniq_values"
      ]
    },
    {
      "cell_type": "markdown",
      "metadata": {},
      "source": [
        "### Storage type"
      ]
    },
    {
      "cell_type": "code",
      "execution_count": 75,
      "metadata": {},
      "outputs": [
        {
          "data": {
            "text/plain": [
              "Storage type\n",
              "SSD     2062\n",
              "eMMC      56\n",
              "Name: count, dtype: int64"
            ]
          },
          "execution_count": 75,
          "metadata": {},
          "output_type": "execute_result"
        }
      ],
      "source": [
        "data_raw_df[\"Storage type\"].value_counts()\n"
      ]
    },
    {
      "cell_type": "markdown",
      "metadata": {},
      "source": [
        "### Screen"
      ]
    },
    {
      "cell_type": "code",
      "execution_count": 76,
      "metadata": {},
      "outputs": [
        {
          "data": {
            "text/plain": [
              "Screen\n",
              "15.6    1009\n",
              "14.0     392\n",
              "16.0     174\n",
              "17.3     161\n",
              "13.3     131\n",
              "Name: count, dtype: int64"
            ]
          },
          "execution_count": 76,
          "metadata": {},
          "output_type": "execute_result"
        }
      ],
      "source": [
        "data_raw_df[\"Screen\"].value_counts().head(5)"
      ]
    },
    {
      "cell_type": "markdown",
      "metadata": {},
      "source": [
        "### Impute"
      ]
    },
    {
      "cell_type": "code",
      "execution_count": 77,
      "metadata": {},
      "outputs": [],
      "source": [
        "class LaptopDataImputer():\n",
        "    \n",
        "    def __init__(self):\n",
        "        self._most_frequent_columns = [ \"Storage type\", \"Screen\" ]\n",
        "        self._const_columns = [ {'name': \"GPU\", 'value': ''} ]\n",
        "        self.fit_values = []\n",
        "    \n",
        "    def fit(self, df):\n",
        "        for col_name in self._most_frequent_columns:\n",
        "            freq_value = df[col_name].unique()[0]\n",
        "            self.fit_values.append({'name': col_name, 'value': freq_value})\n",
        "        \n",
        "        for col in self._const_columns:\n",
        "            self.fit_values.append(col)\n",
        "    \n",
        "    def transform(self, df):\n",
        "        for col in self.fit_values:\n",
        "            df[col['name']] = df[col['name']].fillna(col['value'])\n",
        "            \n",
        "        return df\n",
        "    \n",
        "    def fit_transform(self, df):\n",
        "        self.fit(df)\n",
        "        return self.transform(df)\n",
        "\n",
        "imputer = LaptopDataImputer()\n",
        "imputer.fit(X_raw_train)"
      ]
    },
    {
      "cell_type": "markdown",
      "metadata": {},
      "source": [
        "## Transforming columns"
      ]
    },
    {
      "cell_type": "code",
      "execution_count": 78,
      "metadata": {},
      "outputs": [],
      "source": [
        "from sklearn.compose import make_column_transformer\n",
        "from sklearn.preprocessing import OneHotEncoder, MinMaxScaler\n",
        "\n",
        "categories = []\n",
        "data_df = imputer.transform(data_raw_df)\n",
        "for feat in categorical_features:\n",
        "    categories.append(data_df[feat].unique())\n",
        "    \n",
        "transformer = make_column_transformer(\n",
        "    (MinMaxScaler(), num_features),\n",
        "    (OneHotEncoder(drop=\"if_binary\", sparse_output=False, categories=categories), categorical_features),\n",
        "    remainder=\"passthrough\",\n",
        "    verbose_feature_names_out=False\n",
        ")"
      ]
    },
    {
      "cell_type": "code",
      "execution_count": 79,
      "metadata": {},
      "outputs": [
        {
          "name": "stdout",
          "output_type": "stream",
          "text": [
            "train -> (1728, 227)\n",
            "test -> (432, 227)\n"
          ]
        }
      ],
      "source": [
        "X_train = X_raw_train.copy()\n",
        "X_train = imputer.transform(X_train)\n",
        "transformer.fit(X_train)\n",
        "\n",
        "X_transformed = transformer.transform(X_train)\n",
        "X_train = pd.DataFrame(\n",
        "    X_transformed, \n",
        "    columns=transformer.get_feature_names_out(),\n",
        "    index=X_train.index\n",
        ")\n",
        "print(\"train ->\", X_train.shape)\n",
        "\n",
        "\n",
        "X_test = X_raw_test.copy()\n",
        "X_test = imputer.transform(X_test)\n",
        "X_test = pd.DataFrame(\n",
        "    transformer.transform(X_test), \n",
        "    columns=transformer.get_feature_names_out(),\n",
        "    index=X_test.index\n",
        ")\n",
        "print(\"test ->\", X_test.shape)\n"
      ]
    },
    {
      "cell_type": "code",
      "execution_count": 89,
      "metadata": {},
      "outputs": [
        {
          "data": {
            "text/html": [
              "<div>\n",
              "<style scoped>\n",
              "    .dataframe tbody tr th:only-of-type {\n",
              "        vertical-align: middle;\n",
              "    }\n",
              "\n",
              "    .dataframe tbody tr th {\n",
              "        vertical-align: top;\n",
              "    }\n",
              "\n",
              "    .dataframe thead th {\n",
              "        text-align: right;\n",
              "    }\n",
              "</style>\n",
              "<table border=\"1\" class=\"dataframe\">\n",
              "  <thead>\n",
              "    <tr style=\"text-align: right;\">\n",
              "      <th></th>\n",
              "      <th>count</th>\n",
              "      <th>mean</th>\n",
              "      <th>std</th>\n",
              "      <th>min</th>\n",
              "      <th>25%</th>\n",
              "      <th>50%</th>\n",
              "      <th>75%</th>\n",
              "      <th>max</th>\n",
              "    </tr>\n",
              "  </thead>\n",
              "  <tbody>\n",
              "    <tr>\n",
              "      <th>RAM</th>\n",
              "      <td>1728.0</td>\n",
              "      <td>0.188252</td>\n",
              "      <td>0.159445</td>\n",
              "      <td>0.0</td>\n",
              "      <td>0.066667</td>\n",
              "      <td>0.200000</td>\n",
              "      <td>0.200000</td>\n",
              "      <td>1.0</td>\n",
              "    </tr>\n",
              "    <tr>\n",
              "      <th>Storage</th>\n",
              "      <td>1728.0</td>\n",
              "      <td>0.141250</td>\n",
              "      <td>0.090287</td>\n",
              "      <td>0.0</td>\n",
              "      <td>0.056452</td>\n",
              "      <td>0.120968</td>\n",
              "      <td>0.243952</td>\n",
              "      <td>1.0</td>\n",
              "    </tr>\n",
              "    <tr>\n",
              "      <th>Screen</th>\n",
              "      <td>1728.0</td>\n",
              "      <td>0.641046</td>\n",
              "      <td>0.151434</td>\n",
              "      <td>0.0</td>\n",
              "      <td>0.493671</td>\n",
              "      <td>0.696203</td>\n",
              "      <td>0.696203</td>\n",
              "      <td>1.0</td>\n",
              "    </tr>\n",
              "    <tr>\n",
              "      <th>Status_Refurbished</th>\n",
              "      <td>1728.0</td>\n",
              "      <td>0.301505</td>\n",
              "      <td>0.459044</td>\n",
              "      <td>0.0</td>\n",
              "      <td>0.000000</td>\n",
              "      <td>0.000000</td>\n",
              "      <td>1.000000</td>\n",
              "      <td>1.0</td>\n",
              "    </tr>\n",
              "    <tr>\n",
              "      <th>Brand_Asus</th>\n",
              "      <td>1728.0</td>\n",
              "      <td>0.194444</td>\n",
              "      <td>0.395887</td>\n",
              "      <td>0.0</td>\n",
              "      <td>0.000000</td>\n",
              "      <td>0.000000</td>\n",
              "      <td>0.000000</td>\n",
              "      <td>1.0</td>\n",
              "    </tr>\n",
              "    <tr>\n",
              "      <th>...</th>\n",
              "      <td>...</td>\n",
              "      <td>...</td>\n",
              "      <td>...</td>\n",
              "      <td>...</td>\n",
              "      <td>...</td>\n",
              "      <td>...</td>\n",
              "      <td>...</td>\n",
              "      <td>...</td>\n",
              "    </tr>\n",
              "    <tr>\n",
              "      <th>Model_V330</th>\n",
              "      <td>1728.0</td>\n",
              "      <td>0.000579</td>\n",
              "      <td>0.024056</td>\n",
              "      <td>0.0</td>\n",
              "      <td>0.000000</td>\n",
              "      <td>0.000000</td>\n",
              "      <td>0.000000</td>\n",
              "      <td>1.0</td>\n",
              "    </tr>\n",
              "    <tr>\n",
              "      <th>Model_Alpha</th>\n",
              "      <td>1728.0</td>\n",
              "      <td>0.001157</td>\n",
              "      <td>0.034011</td>\n",
              "      <td>0.0</td>\n",
              "      <td>0.000000</td>\n",
              "      <td>0.000000</td>\n",
              "      <td>0.000000</td>\n",
              "      <td>1.0</td>\n",
              "    </tr>\n",
              "    <tr>\n",
              "      <th>Model_Delta</th>\n",
              "      <td>1728.0</td>\n",
              "      <td>0.000579</td>\n",
              "      <td>0.024056</td>\n",
              "      <td>0.0</td>\n",
              "      <td>0.000000</td>\n",
              "      <td>0.000000</td>\n",
              "      <td>0.000000</td>\n",
              "      <td>1.0</td>\n",
              "    </tr>\n",
              "    <tr>\n",
              "      <th>Model_GL65</th>\n",
              "      <td>1728.0</td>\n",
              "      <td>0.000579</td>\n",
              "      <td>0.024056</td>\n",
              "      <td>0.0</td>\n",
              "      <td>0.000000</td>\n",
              "      <td>0.000000</td>\n",
              "      <td>0.000000</td>\n",
              "      <td>1.0</td>\n",
              "    </tr>\n",
              "    <tr>\n",
              "      <th>Model_GL75</th>\n",
              "      <td>1728.0</td>\n",
              "      <td>0.000579</td>\n",
              "      <td>0.024056</td>\n",
              "      <td>0.0</td>\n",
              "      <td>0.000000</td>\n",
              "      <td>0.000000</td>\n",
              "      <td>0.000000</td>\n",
              "      <td>1.0</td>\n",
              "    </tr>\n",
              "  </tbody>\n",
              "</table>\n",
              "<p>227 rows × 8 columns</p>\n",
              "</div>"
            ],
            "text/plain": [
              "                     count      mean       std  min       25%       50%  \\\n",
              "RAM                 1728.0  0.188252  0.159445  0.0  0.066667  0.200000   \n",
              "Storage             1728.0  0.141250  0.090287  0.0  0.056452  0.120968   \n",
              "Screen              1728.0  0.641046  0.151434  0.0  0.493671  0.696203   \n",
              "Status_Refurbished  1728.0  0.301505  0.459044  0.0  0.000000  0.000000   \n",
              "Brand_Asus          1728.0  0.194444  0.395887  0.0  0.000000  0.000000   \n",
              "...                    ...       ...       ...  ...       ...       ...   \n",
              "Model_V330          1728.0  0.000579  0.024056  0.0  0.000000  0.000000   \n",
              "Model_Alpha         1728.0  0.001157  0.034011  0.0  0.000000  0.000000   \n",
              "Model_Delta         1728.0  0.000579  0.024056  0.0  0.000000  0.000000   \n",
              "Model_GL65          1728.0  0.000579  0.024056  0.0  0.000000  0.000000   \n",
              "Model_GL75          1728.0  0.000579  0.024056  0.0  0.000000  0.000000   \n",
              "\n",
              "                         75%  max  \n",
              "RAM                 0.200000  1.0  \n",
              "Storage             0.243952  1.0  \n",
              "Screen              0.696203  1.0  \n",
              "Status_Refurbished  1.000000  1.0  \n",
              "Brand_Asus          0.000000  1.0  \n",
              "...                      ...  ...  \n",
              "Model_V330          0.000000  1.0  \n",
              "Model_Alpha         0.000000  1.0  \n",
              "Model_Delta         0.000000  1.0  \n",
              "Model_GL65          0.000000  1.0  \n",
              "Model_GL75          0.000000  1.0  \n",
              "\n",
              "[227 rows x 8 columns]"
            ]
          },
          "execution_count": 89,
          "metadata": {},
          "output_type": "execute_result"
        }
      ],
      "source": [
        "X_train_desc = X_train.describe().T\n",
        "X_train_desc"
      ]
    },
    {
      "cell_type": "markdown",
      "metadata": {
        "id": "bWsfoHXXltLR"
      },
      "source": [
        "# Train the FNN model."
      ]
    },
    {
      "cell_type": "code",
      "execution_count": 107,
      "metadata": {
        "id": "EHx1umhultTw"
      },
      "outputs": [
        {
          "name": "stdout",
          "output_type": "stream",
          "text": [
            "FNet(\n",
            "  (fc1): Linear(in_features=227, out_features=16, bias=True)\n",
            "  (fc2): Linear(in_features=16, out_features=8, bias=True)\n",
            "  (output): Linear(in_features=8, out_features=1, bias=True)\n",
            ")\n"
          ]
        }
      ],
      "source": [
        "import torch\n",
        "import torch.nn as nn\n",
        "import torch.nn.functional as F\n",
        "\n",
        "input_dim = X_train.shape[1]\n",
        "\n",
        "class FNet(nn.Module):\n",
        "    def __init__(self):\n",
        "        super(FNet, self).__init__()\n",
        "        \n",
        "        hidden_dim1 = int(X_train.shape[1]*3)\n",
        "        hidden_dim2 = int(X_train.shape[1]*2)\n",
        "        hidden_dim3 = int(X_train.shape[1]*0.5)\n",
        "        \n",
        "        self.fc1 = nn.Linear(input_dim, 16)\n",
        "        self.fc2 = nn.Linear(16, 8)\n",
        "        self.output = nn.Linear(8, 1)\n",
        "    \n",
        "    def forward(self, x):\n",
        "        _x = F.relu(self.fc1(x))\n",
        "        _x = F.relu(self.fc2(_x))\n",
        "        # _x = F.relu(self.fc3(_x))\n",
        "        return self.output(_x)\n",
        "\n",
        "net = FNet()\n",
        "print(net)"
      ]
    },
    {
      "cell_type": "code",
      "execution_count": 105,
      "metadata": {},
      "outputs": [],
      "source": [
        "from torch.nn import MSELoss \n",
        "from torch.optim import SGD\n",
        "import numpy as np\n",
        "\n",
        "def train(model, dataloader, optimizer=None, criterion=MSELoss(), epochs=50):\n",
        "    \n",
        "    if optimizer is None:\n",
        "        optimizer = torch.optim.Adam(model.parameters(), lr=0.01)\n",
        "    \n",
        "    train_losses = []\n",
        "    \n",
        "    for epoch in range(epochs):    \n",
        "        train_loss = 0\n",
        "        num_batches = 0\n",
        "        \n",
        "        for X, Y in dataloader:\n",
        "            optimizer.zero_grad()   # zero the gradient buffers\n",
        "            \n",
        "            Y_pred = model(X)\n",
        "            \n",
        "            loss = criterion(Y_pred, Y)\n",
        "            \n",
        "            train_loss += loss.item()\n",
        "            num_batches += 1\n",
        "            \n",
        "            loss.backward()\n",
        "            \n",
        "            optimizer.step()\n",
        "        \n",
        "        epoch_loss = train_loss/num_batches\n",
        "        train_losses.append(epoch_loss)\n",
        "        \n",
        "        if epoch%10 == 0:\n",
        "            print(\"Epoch: {}/{} \".format(epoch + 1, epochs),\n",
        "                  \"Training Loss: {:.4f} \".format(epoch_loss))\n",
        "            \n",
        "    return train_losses\n",
        "\n",
        "\n",
        "def test(model, dataloader, criterion=MSELoss(), epochs=50):\n",
        "    test_losses = []\n",
        "        \n",
        "    for epoch in range(epochs):    \n",
        "        min_test_loss = np.inf\n",
        "        \n",
        "        for X, Y in dataloader:\n",
        "            Y_pred = model(X)\n",
        "            loss = criterion(Y_pred, Y)\n",
        "            min_test_loss = np.min([min_test_loss, loss.detach().numpy()])\n",
        "            \n",
        "        epoch_loss = min_test_loss\n",
        "        test_losses.append(epoch_loss)\n",
        "        \n",
        "        if epoch%10 == 0:\n",
        "            print(\"Epoch: {}/{} \".format(epoch + 1, epochs),\n",
        "                  \"Test Loss: {:.4f} \".format(epoch_loss))\n",
        "    \n",
        "    return test_losses"
      ]
    },
    {
      "cell_type": "code",
      "execution_count": 109,
      "metadata": {},
      "outputs": [
        {
          "name": "stdout",
          "output_type": "stream",
          "text": [
            "Epoch: 1/100  Training Loss: 2493326.3935 \n",
            "Epoch: 11/100  Training Loss: 226538.6348 \n",
            "Epoch: 21/100  Training Loss: 124637.9650 \n",
            "Epoch: 31/100  Training Loss: 105801.0448 \n",
            "Epoch: 41/100  Training Loss: 97593.9447 \n",
            "Epoch: 51/100  Training Loss: 93050.5794 \n",
            "Epoch: 61/100  Training Loss: 89765.4187 \n",
            "Epoch: 71/100  Training Loss: 87681.4465 \n",
            "Epoch: 81/100  Training Loss: 86838.1808 \n",
            "Epoch: 91/100  Training Loss: 84729.4554 \n",
            "Epoch: 1/100  Test Loss: 68881.5703 \n",
            "Epoch: 11/100  Test Loss: 80985.1094 \n",
            "Epoch: 21/100  Test Loss: 38835.4961 \n",
            "Epoch: 31/100  Test Loss: 53037.6133 \n",
            "Epoch: 41/100  Test Loss: 81446.4297 \n",
            "Epoch: 51/100  Test Loss: 62332.6641 \n",
            "Epoch: 61/100  Test Loss: 73412.1172 \n",
            "Epoch: 71/100  Test Loss: 66867.5391 \n",
            "Epoch: 81/100  Test Loss: 70014.6797 \n",
            "Epoch: 91/100  Test Loss: 67467.6172 \n"
          ]
        }
      ],
      "source": [
        "import torch\n",
        "\n",
        "X_train_tensor = torch.as_tensor(X_train.to_numpy()).type(torch.FloatTensor)\n",
        "Y_train_tensor = torch.as_tensor(Y_train.to_numpy()).type(torch.FloatTensor).view(-1, 1)\n",
        "\n",
        "X_test_tensor = torch.as_tensor(X_test.to_numpy()).type(torch.FloatTensor)\n",
        "Y_test_tensor = torch.as_tensor(Y_test.to_numpy()).type(torch.FloatTensor).view(-1, 1)\n",
        "\n",
        "\n",
        "torch.manual_seed(0) # set seed to make results reproducible\n",
        "\n",
        "batch_size = 64 # Set the batch_size\n",
        "train_dataset = torch.utils.data.TensorDataset(X_train_tensor, Y_train_tensor)\n",
        "trainloader = torch.utils.data.DataLoader(train_dataset, batch_size = batch_size, shuffle = True)\n",
        "\n",
        "net = FNet()\n",
        "train_loss = train(net, trainloader, epochs=100)\n",
        "\n",
        "test_dataset = torch.utils.data.TensorDataset(X_test_tensor, Y_test_tensor)\n",
        "testloader = torch.utils.data.DataLoader(test_dataset, batch_size = batch_size, shuffle = True)\n",
        "\n",
        "test_loss = test(net, testloader, epochs=100)"
      ]
    },
    {
      "cell_type": "markdown",
      "metadata": {
        "id": "d1KletfPltrz"
      },
      "source": [
        "# Plot the train loss vs Validation loss."
      ]
    },
    {
      "cell_type": "code",
      "execution_count": 120,
      "metadata": {
        "id": "e9-oa1N0lt0D"
      },
      "outputs": [
        {
          "data": {
            "image/png": "[encoded data removed]",
            "text/plain": [
              "<Figure size 640x480 with 1 Axes>"
            ]
          },
          "metadata": {},
          "output_type": "display_data"
        }
      ],
      "source": [
        "import matplotlib.pyplot as plt\n",
        "\n",
        "plt.plot(train_loss, label=\"train-loss\")\n",
        "plt.plot(test_loss, label=\"test-loss\")\n",
        "plt.legend(loc='upper right')\n",
        "plt.show()\n"
      ]
    }
  ],
  "metadata": {
    "colab": {
      "provenance": []
    },
    "kernelspec": {
      "display_name": "Python 3",
      "name": "python3"
    },
    "language_info": {
      "codemirror_mode": {
        "name": "ipython",
        "version": 3
      },
      "file_extension": ".py",
      "mimetype": "text/x-python",
      "name": "python",
      "nbconvert_exporter": "python",
      "pygments_lexer": "ipython3",
      "version": "3.11.4"
    }
  },
  "nbformat": 4,
  "nbformat_minor": 0
}
