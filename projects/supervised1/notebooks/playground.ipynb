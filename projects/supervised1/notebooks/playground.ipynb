{
 "cells": [
  {
   "cell_type": "code",
   "execution_count": 1,
   "metadata": {},
   "outputs": [
    {
     "name": "stdout",
     "output_type": "stream",
     "text": [
      "added /Users/n0c09jf/code/github/tryml/projects/supervised1/libs to the sys.path\n"
     ]
    }
   ],
   "source": [
    "# adds the project specific libs to the sys path\n",
    "import sys\n",
    "from pathlib import Path\n",
    "\n",
    "proj_lib_path = str(Path.cwd().parent / 'libs')\n",
    "if proj_lib_path not in sys.path:\n",
    "    sys.path. insert(1, proj_lib_path)\n",
    "    print(f'added {proj_lib_path} to the sys.path')"
   ]
  },
  {
   "cell_type": "code",
   "execution_count": 2,
   "metadata": {},
   "outputs": [
    {
     "name": "stdout",
     "output_type": "stream",
     "text": [
      "models area at /Users/n0c09jf/code/github/tryml/projects/supervised1/_models\n",
      "data is at /Users/n0c09jf/code/github/tryml/projects/supervised1/_data\n"
     ]
    }
   ],
   "source": [
    "from supervised1.config import MODEL_DIR, DATA_DIR\n",
    "import os\n",
    "\n",
    "print(f'models area at {MODEL_DIR}')\n",
    "print(f'data is at {DATA_DIR}')"
   ]
  },
  {
   "cell_type": "code",
   "execution_count": 17,
   "metadata": {},
   "outputs": [
    {
     "name": "stdout",
     "output_type": "stream",
     "text": [
      "4.608176015211196 33.672491587064435 202.03494952238663\n"
     ]
    }
   ],
   "source": [
    "import numpy as np\n",
    "from sklearn import linear_model\n",
    "\n",
    "x = np.array([42, 82, 18, 57, 39, 89]).reshape(-1, 1)\n",
    "y = np.array([30, 124, -12, 64, 33, 120])\n",
    "\n",
    "model = linear_model.LinearRegression()\n",
    "model.fit(x, y)\n",
    "\n",
    "y_pred = model.predict(x)\n",
    "\n",
    "abs_diff = np.abs(y_pred - y)\n",
    "sq_diff = (y_pred - y) ** 2\n",
    "\n",
    "print(np.mean(abs_diff), np.mean(sq_diff), np.sum(sq_diff))\n"
   ]
  }
 ],
 "metadata": {
  "kernelspec": {
   "display_name": "base",
   "language": "python",
   "name": "python3"
  },
  "language_info": {
   "codemirror_mode": {
    "name": "ipython",
    "version": 3
   },
   "file_extension": ".py",
   "mimetype": "text/x-python",
   "name": "python",
   "nbconvert_exporter": "python",
   "pygments_lexer": "ipython3",
   "version": "3.12.3"
  }
 },
 "nbformat": 4,
 "nbformat_minor": 2
}
