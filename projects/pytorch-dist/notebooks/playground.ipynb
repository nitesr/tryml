{
 "cells": [
  {
   "cell_type": "code",
   "execution_count": 1,
   "metadata": {},
   "outputs": [],
   "source": [
    "# adds the project specific libs to the sys path\n",
    "import sys\n",
    "from pathlib import Path\n",
    "\n",
    "proj_lib_path = str(Path.cwd().parent / 'libs')\n",
    "if proj_lib_path not in sys.path:\n",
    "    sys.path.insert(1, proj_lib_path)\n",
    "    print(f'added {proj_lib_path} to the sys.path')"
   ]
  },
  {
   "cell_type": "code",
   "execution_count": 2,
   "metadata": {},
   "outputs": [
    {
     "name": "stdout",
     "output_type": "stream",
     "text": [
      "models area at /Users/n0c09jf/code/github/tryml/projects/pytorch-dist/_models\n",
      "data is at /Users/n0c09jf/code/github/tryml/projects/pytorch-dist/_data\n"
     ]
    }
   ],
   "source": [
    "from pytorch_dist.config import MODEL_DIR, DATA_DIR\n",
    "import os\n",
    "\n",
    "print(f'models area at {MODEL_DIR}')\n",
    "print(f'data is at {DATA_DIR}')"
   ]
  }
 ],
 "metadata": {
  "kernelspec": {
   "display_name": "base",
   "language": "python",
   "name": "python3"
  },
  "language_info": {
   "codemirror_mode": {
    "name": "ipython",
    "version": 3
   },
   "file_extension": ".py",
   "mimetype": "text/x-python",
   "name": "python",
   "nbconvert_exporter": "python",
   "pygments_lexer": "ipython3",
   "version": "3.11.7"
  }
 },
 "nbformat": 4,
 "nbformat_minor": 2
}
