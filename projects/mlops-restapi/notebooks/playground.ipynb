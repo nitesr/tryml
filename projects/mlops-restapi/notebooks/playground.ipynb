{
 "cells": [
  {
   "cell_type": "code",
   "execution_count": 1,
   "metadata": {},
   "outputs": [],
   "source": [
    "# adds the project specific libs to the sys path\n",
    "import sys\n",
    "from pathlib import Path\n",
    "from pprint import pprint\n",
    "\n",
    "proj_lib_path = str(Path.cwd().parent / 'libs')\n",
    "if proj_lib_path not in sys.path:\n",
    "    sys.path.insert(1, proj_lib_path)\n",
    "    print(f'added {proj_lib_path} to the sys.path')"
   ]
  },
  {
   "cell_type": "code",
   "execution_count": 10,
   "metadata": {},
   "outputs": [
    {
     "name": "stdout",
     "output_type": "stream",
     "text": [
      "1/1 [==============================] - 0s 68ms/step\n"
     ]
    },
    {
     "data": {
      "text/plain": [
       "[{'image': 'dog'}]"
      ]
     },
     "execution_count": 10,
     "metadata": {},
     "output_type": "execute_result"
    }
   ],
   "source": [
    "from cats_dogs_classifier.config import MODEL_DIR, CATS_DOGS_DATASET_DIR\n",
    "from cats_dogs_classifier.predict import DogCatClassifier\n",
    "import os\n",
    "\n",
    "model_path = os.path.join(MODEL_DIR, 'model_final.h5')\n",
    "classifier = DogCatClassifier(model_path)\n",
    "result = classifier.predict(os.path.join(CATS_DOGS_DATASET_DIR, 'sample-cat.jpg'))\n",
    "result"
   ]
  }
 ],
 "metadata": {
  "kernelspec": {
   "display_name": "base",
   "language": "python",
   "name": "python3"
  },
  "language_info": {
   "codemirror_mode": {
    "name": "ipython",
    "version": 3
   },
   "file_extension": ".py",
   "mimetype": "text/x-python",
   "name": "python",
   "nbconvert_exporter": "python",
   "pygments_lexer": "ipython3",
   "version": "3.7.16"
  }
 },
 "nbformat": 4,
 "nbformat_minor": 2
}
