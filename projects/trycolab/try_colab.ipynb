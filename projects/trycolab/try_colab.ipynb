{
  "nbformat": 4,
  "nbformat_minor": 0,
  "metadata": {
    "colab": {
      "provenance": [],
      "authorship_tag": "ABX9TyPL7aNu9bJO/d28mZSFMNEB",
      "include_colab_link": true
    },
    "kernelspec": {
      "name": "python3",
      "display_name": "Python 3"
    },
    "language_info": {
      "name": "python"
    }
  },
  "cells": [
    {
      "cell_type": "markdown",
      "metadata": {
        "id": "view-in-github",
        "colab_type": "text"
      },
      "source": [
        "<a href=\"https://colab.research.google.com/github/nitesr/tryml/blob/main/notebooks/try_colab.ipynb\" target=\"_parent\"><img src=\"https://colab.research.google.com/assets/colab-badge.svg\" alt=\"Open In Colab\"/></a>"
      ]
    },
    {
      "cell_type": "markdown",
      "source": [
        "# Test:\n",
        "- save a new notebook to github\n",
        "- get, update and commit the changes from github"
      ],
      "metadata": {
        "id": "5C7mdLFah0CE"
      }
    },
    {
      "cell_type": "markdown",
      "source": [
        "# Experience:\n",
        "## Save a new notebook to github\n",
        " - I authorized colab to access my github, chose the repo, entered the path to save the notebook\n",
        " - If I try to save again, I need to select the repo, enter the path again.\n",
        " - Each time I save it, it opens up the github page where the file is saved. Its bit annoying!\n",
        "\n",
        "## Get, update and commit the notebook to github\n",
        "- I authorized colab to access my github, chose the repo and notbook to open\n",
        "- When I try to save, It remembered the repo and path. I changed the commit message and committed it.\n",
        "- Each time I save it, it opens up the github page where the file is saved. Its bit annoying!"
      ],
      "metadata": {
        "id": "uRBv7Pfjidkp"
      }
    },
    {
      "cell_type": "markdown",
      "source": [
        "# Conclusion\n",
        "- The best way is to create the file in github, open the file from github in colab, update and commit it to github from colab.\n",
        "- Need to explore if I can avoid colab punching me out to github on each save."
      ],
      "metadata": {
        "id": "UTRdm5_CjfT7"
      }
    },
    {
      "cell_type": "code",
      "source": [
        "print('Hello')"
      ],
      "metadata": {
        "colab": {
          "base_uri": "https://localhost:8080/"
        },
        "id": "AOTxI8ghj5e6",
        "outputId": "3c328718-1c0f-4cc5-ed38-3203e061e37f"
      },
      "execution_count": 1,
      "outputs": [
        {
          "output_type": "stream",
          "name": "stdout",
          "text": [
            "Hello\n"
          ]
        }
      ]
    }
  ]
}