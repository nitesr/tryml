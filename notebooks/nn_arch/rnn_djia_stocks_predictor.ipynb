{
  "cells": [
    {
      "cell_type": "markdown",
      "metadata": {
        "id": "-B3ma9a4mR2R"
      },
      "source": [
        "# DJIA 30 Stock Time Series dataset\n",
        "The script used to acquire all of the following data can be found in this GitHub repository. This repository also contains the modeling codes and will be updated continually, so welcome starring or watching!\n",
        "\n",
        "Stock market data can be interesting to analyze and as a further incentive, strong predictive models can have large financial payoff. The amount of financial data on the web is seemingly endless. A large and well structured dataset on a wide array of companies can be hard to come by. Here provided a dataset with historical stock prices (last 12 years) for 29 of 30 DJIA companies (excluding 'V' because it does not have the whole 12 years data).\n",
        "\n",
        "      ['MMM', 'AXP', 'AAPL', 'BA', 'CAT', 'CVX', 'CSCO', 'KO', 'DIS', 'XOM', 'GE',\n",
        "\n",
        "      'GS', 'HD', 'IBM', 'INTC', 'JNJ', 'JPM', 'MCD', 'MRK', 'MSFT', 'NKE', 'PFE',\n",
        "\n",
        "      'PG', 'TRV', 'UTX', 'UNH', 'VZ', 'WMT', 'GOOGL', 'AMZN', 'AABA']\n",
        "\n",
        "#### Content\n",
        "The data is presented in a couple of formats to suit different individual's needs or computational limitations.\n",
        "I have included files containing 13 years of stock data (in the all_stocks_2006-01-01_to_2018-01-01.csv and corresponding folder) and\n",
        "a smaller version of the dataset (all_stocks_2017-01-01_to_2018-01-01.csv) with only the past year's stock data for those wishing to use something more manageable in size.\n",
        "\n",
        "The folder individual_stocks_2006-01-01_to_2018-01-01 contains files of data for individual stocks, labelled by their stock ticker name.\n",
        "The all_stocks_2006-01-01_to_2018-01-01.csv and all_stocks_2017-01-01_to_2018-01-01.csv contain this same data, presented in merged .csv files.\n",
        "Depending on the intended use (graphing, modelling etc.) the user may prefer one of these given formats.\n",
        "\n",
        "All the files have the following columns:\n",
        "Date - in format: yy-mm-dd\n",
        "\n",
        "Open - price of the stock at market open (this is NYSE data so all in USD)\n",
        "\n",
        "High - Highest price reached in the day\n",
        "\n",
        "Low Close - Lowest price reached in the day\n",
        "\n",
        "Volume - Number of shares traded\n",
        "\n",
        "Name - the stock's ticker name"
      ]
    },
    {
      "cell_type": "code",
      "execution_count": 1,
      "metadata": {},
      "outputs": [
        {
          "name": "stdout",
          "output_type": "stream",
          "text": [
            "Requirement already satisfied: kaggle in /Users/n0c09jf/anaconda3/envs/pytorch/lib/python3.11/site-packages (1.5.16)\n",
            "Requirement already satisfied: six>=1.10 in /Users/n0c09jf/anaconda3/envs/pytorch/lib/python3.11/site-packages (from kaggle) (1.16.0)\n",
            "Requirement already satisfied: certifi in /Users/n0c09jf/anaconda3/envs/pytorch/lib/python3.11/site-packages (from kaggle) (2023.7.22)\n",
            "Requirement already satisfied: python-dateutil in /Users/n0c09jf/anaconda3/envs/pytorch/lib/python3.11/site-packages (from kaggle) (2.8.2)\n",
            "Requirement already satisfied: requests in /Users/n0c09jf/anaconda3/envs/pytorch/lib/python3.11/site-packages (from kaggle) (2.31.0)\n",
            "Requirement already satisfied: tqdm in /Users/n0c09jf/anaconda3/envs/pytorch/lib/python3.11/site-packages (from kaggle) (4.66.1)\n",
            "Requirement already satisfied: python-slugify in /Users/n0c09jf/anaconda3/envs/pytorch/lib/python3.11/site-packages (from kaggle) (8.0.1)\n",
            "Requirement already satisfied: urllib3 in /Users/n0c09jf/anaconda3/envs/pytorch/lib/python3.11/site-packages (from kaggle) (2.0.4)\n",
            "Requirement already satisfied: bleach in /Users/n0c09jf/anaconda3/envs/pytorch/lib/python3.11/site-packages (from kaggle) (6.0.0)\n",
            "Requirement already satisfied: webencodings in /Users/n0c09jf/anaconda3/envs/pytorch/lib/python3.11/site-packages (from bleach->kaggle) (0.5.1)\n",
            "Requirement already satisfied: text-unidecode>=1.3 in /Users/n0c09jf/anaconda3/envs/pytorch/lib/python3.11/site-packages (from python-slugify->kaggle) (1.3)\n",
            "Requirement already satisfied: charset-normalizer<4,>=2 in /Users/n0c09jf/anaconda3/envs/pytorch/lib/python3.11/site-packages (from requests->kaggle) (3.2.0)\n",
            "Requirement already satisfied: idna<4,>=2.5 in /Users/n0c09jf/anaconda3/envs/pytorch/lib/python3.11/site-packages (from requests->kaggle) (3.4)\n"
          ]
        }
      ],
      "source": [
        "!pip3 install kaggle"
      ]
    },
    {
      "cell_type": "markdown",
      "metadata": {},
      "source": [
        "# Read Data From Kaggle"
      ]
    },
    {
      "cell_type": "markdown",
      "metadata": {},
      "source": [
        "## Kaggle setup\n",
        "\n",
        "    On your Kaggle account, under API, select \"Create New API Token\" and kaggle.json will be downloaded on your computer.\n",
        "\n",
        "    Go to directory — \"${user.home}\\.kaggle\\\" — and move here the downloaded JSON file."
      ]
    },
    {
      "cell_type": "code",
      "execution_count": 2,
      "metadata": {},
      "outputs": [],
      "source": [
        "from kaggle.api.kaggle_api_extended import KaggleApi\n",
        "\n",
        "k_api = KaggleApi()\n",
        "k_api.authenticate()"
      ]
    },
    {
      "cell_type": "code",
      "execution_count": 3,
      "metadata": {},
      "outputs": [],
      "source": [
        "from zipfile import ZipFile\n",
        "import os\n",
        "import shutil\n",
        "from zipfile import ZipFile\n",
        "\n",
        "os.makedirs('./.data/djia-stock-2005-2017', exist_ok = True)\n",
        "\n",
        "if not os.path.exists('./.data/stock-time-series-20050101-to-20171231.zip'):\n",
        "    #downloading datasets\n",
        "    k_api.dataset_download_files(\n",
        "        dataset='szrlee/stock-time-series-20050101-to-20171231',\n",
        "        unzip=False\n",
        "    )\n",
        "    shutil.move('./stock-time-series-20050101-to-20171231.zip', './.data')\n",
        "\n",
        "    zf = ZipFile('./.data/stock-time-series-20050101-to-20171231.zip')\n",
        "    zf.extractall('./.data/djia-stock-2005-2017/') \n",
        "    zf.close()\n",
        "\n",
        "root_dir = './.data/djia-stock-2005-2017'"
      ]
    },
    {
      "cell_type": "markdown",
      "metadata": {
        "id": "xfvs81uhmWBa"
      },
      "source": [
        "#### Import the dataset - 'IBM_2006-01-01_to_2018-01-01.csv'"
      ]
    },
    {
      "cell_type": "code",
      "execution_count": 4,
      "metadata": {
        "id": "Pv2LRiFSmWNT"
      },
      "outputs": [
        {
          "data": {
            "text/html": [
              "<div>\n",
              "<style scoped>\n",
              "    .dataframe tbody tr th:only-of-type {\n",
              "        vertical-align: middle;\n",
              "    }\n",
              "\n",
              "    .dataframe tbody tr th {\n",
              "        vertical-align: top;\n",
              "    }\n",
              "\n",
              "    .dataframe thead th {\n",
              "        text-align: right;\n",
              "    }\n",
              "</style>\n",
              "<table border=\"1\" class=\"dataframe\">\n",
              "  <thead>\n",
              "    <tr style=\"text-align: right;\">\n",
              "      <th></th>\n",
              "      <th>Date</th>\n",
              "      <th>Open</th>\n",
              "      <th>High</th>\n",
              "      <th>Low</th>\n",
              "      <th>Close</th>\n",
              "      <th>Volume</th>\n",
              "      <th>Name</th>\n",
              "    </tr>\n",
              "  </thead>\n",
              "  <tbody>\n",
              "    <tr>\n",
              "      <th>0</th>\n",
              "      <td>2006-01-03</td>\n",
              "      <td>82.45</td>\n",
              "      <td>82.55</td>\n",
              "      <td>80.81</td>\n",
              "      <td>82.06</td>\n",
              "      <td>11715200</td>\n",
              "      <td>IBM</td>\n",
              "    </tr>\n",
              "    <tr>\n",
              "      <th>1</th>\n",
              "      <td>2006-01-04</td>\n",
              "      <td>82.20</td>\n",
              "      <td>82.50</td>\n",
              "      <td>81.33</td>\n",
              "      <td>81.95</td>\n",
              "      <td>9840600</td>\n",
              "      <td>IBM</td>\n",
              "    </tr>\n",
              "    <tr>\n",
              "      <th>2</th>\n",
              "      <td>2006-01-05</td>\n",
              "      <td>81.40</td>\n",
              "      <td>82.90</td>\n",
              "      <td>81.00</td>\n",
              "      <td>82.50</td>\n",
              "      <td>7213500</td>\n",
              "      <td>IBM</td>\n",
              "    </tr>\n",
              "    <tr>\n",
              "      <th>3</th>\n",
              "      <td>2006-01-06</td>\n",
              "      <td>83.95</td>\n",
              "      <td>85.03</td>\n",
              "      <td>83.41</td>\n",
              "      <td>84.95</td>\n",
              "      <td>8197400</td>\n",
              "      <td>IBM</td>\n",
              "    </tr>\n",
              "    <tr>\n",
              "      <th>4</th>\n",
              "      <td>2006-01-09</td>\n",
              "      <td>84.10</td>\n",
              "      <td>84.25</td>\n",
              "      <td>83.38</td>\n",
              "      <td>83.73</td>\n",
              "      <td>6858200</td>\n",
              "      <td>IBM</td>\n",
              "    </tr>\n",
              "  </tbody>\n",
              "</table>\n",
              "</div>"
            ],
            "text/plain": [
              "         Date   Open   High    Low  Close    Volume Name\n",
              "0  2006-01-03  82.45  82.55  80.81  82.06  11715200  IBM\n",
              "1  2006-01-04  82.20  82.50  81.33  81.95   9840600  IBM\n",
              "2  2006-01-05  81.40  82.90  81.00  82.50   7213500  IBM\n",
              "3  2006-01-06  83.95  85.03  83.41  84.95   8197400  IBM\n",
              "4  2006-01-09  84.10  84.25  83.38  83.73   6858200  IBM"
            ]
          },
          "execution_count": 4,
          "metadata": {},
          "output_type": "execute_result"
        }
      ],
      "source": [
        "import os\n",
        "import pandas as pd\n",
        "\n",
        "IBM_data_path = os.path.join(root_dir, 'IBM_2006-01-01_to_2018-01-01.csv')\n",
        "ibm_df = pd.read_csv(IBM_data_path)\n",
        "ibm_df.head(5)\n"
      ]
    },
    {
      "cell_type": "markdown",
      "metadata": {
        "id": "-Z8yFSGMmWWM"
      },
      "source": [
        "#### Perform EDA on the dataset to understand the data."
      ]
    },
    {
      "cell_type": "code",
      "execution_count": 5,
      "metadata": {
        "id": "XZqkozoBmWep"
      },
      "outputs": [
        {
          "name": "stdout",
          "output_type": "stream",
          "text": [
            "3020\n",
            "Date      0\n",
            "Open      1\n",
            "High      0\n",
            "Low       1\n",
            "Close     0\n",
            "Volume    0\n",
            "Name      0\n",
            "dtype: int64\n",
            "            Date  Open    High  Low   Close   Volume Name\n",
            "2913  2017-07-31   NaN  144.93  NaN  144.67  4355718  IBM\n",
            "Date      0\n",
            "Open      0\n",
            "High      0\n",
            "Low       0\n",
            "Close     0\n",
            "Volume    0\n",
            "Name      0\n",
            "dtype: int64\n"
          ]
        }
      ],
      "source": [
        "print(ibm_df.shape[0])\n",
        "\n",
        "print(ibm_df.isna().sum())\n",
        "\n",
        "print(ibm_df[ibm_df[\"Open\"].isna()])\n",
        "\n",
        "ibm_df = ibm_df.dropna()\n",
        "print(ibm_df.isna().sum())"
      ]
    },
    {
      "cell_type": "code",
      "execution_count": 6,
      "metadata": {},
      "outputs": [
        {
          "name": "stdout",
          "output_type": "stream",
          "text": [
            "object\n",
            "datetime64[ns]\n"
          ]
        },
        {
          "data": {
            "text/html": [
              "<div>\n",
              "<style scoped>\n",
              "    .dataframe tbody tr th:only-of-type {\n",
              "        vertical-align: middle;\n",
              "    }\n",
              "\n",
              "    .dataframe tbody tr th {\n",
              "        vertical-align: top;\n",
              "    }\n",
              "\n",
              "    .dataframe thead th {\n",
              "        text-align: right;\n",
              "    }\n",
              "</style>\n",
              "<table border=\"1\" class=\"dataframe\">\n",
              "  <thead>\n",
              "    <tr style=\"text-align: right;\">\n",
              "      <th></th>\n",
              "      <th>Date</th>\n",
              "      <th>Open</th>\n",
              "      <th>High</th>\n",
              "      <th>Low</th>\n",
              "      <th>Close</th>\n",
              "      <th>Volume</th>\n",
              "      <th>Name</th>\n",
              "    </tr>\n",
              "  </thead>\n",
              "  <tbody>\n",
              "    <tr>\n",
              "      <th>0</th>\n",
              "      <td>2006-01-03</td>\n",
              "      <td>82.45</td>\n",
              "      <td>82.55</td>\n",
              "      <td>80.81</td>\n",
              "      <td>82.06</td>\n",
              "      <td>11715200</td>\n",
              "      <td>IBM</td>\n",
              "    </tr>\n",
              "    <tr>\n",
              "      <th>1</th>\n",
              "      <td>2006-01-04</td>\n",
              "      <td>82.20</td>\n",
              "      <td>82.50</td>\n",
              "      <td>81.33</td>\n",
              "      <td>81.95</td>\n",
              "      <td>9840600</td>\n",
              "      <td>IBM</td>\n",
              "    </tr>\n",
              "    <tr>\n",
              "      <th>2</th>\n",
              "      <td>2006-01-05</td>\n",
              "      <td>81.40</td>\n",
              "      <td>82.90</td>\n",
              "      <td>81.00</td>\n",
              "      <td>82.50</td>\n",
              "      <td>7213500</td>\n",
              "      <td>IBM</td>\n",
              "    </tr>\n",
              "    <tr>\n",
              "      <th>3</th>\n",
              "      <td>2006-01-06</td>\n",
              "      <td>83.95</td>\n",
              "      <td>85.03</td>\n",
              "      <td>83.41</td>\n",
              "      <td>84.95</td>\n",
              "      <td>8197400</td>\n",
              "      <td>IBM</td>\n",
              "    </tr>\n",
              "    <tr>\n",
              "      <th>4</th>\n",
              "      <td>2006-01-09</td>\n",
              "      <td>84.10</td>\n",
              "      <td>84.25</td>\n",
              "      <td>83.38</td>\n",
              "      <td>83.73</td>\n",
              "      <td>6858200</td>\n",
              "      <td>IBM</td>\n",
              "    </tr>\n",
              "  </tbody>\n",
              "</table>\n",
              "</div>"
            ],
            "text/plain": [
              "        Date   Open   High    Low  Close    Volume Name\n",
              "0 2006-01-03  82.45  82.55  80.81  82.06  11715200  IBM\n",
              "1 2006-01-04  82.20  82.50  81.33  81.95   9840600  IBM\n",
              "2 2006-01-05  81.40  82.90  81.00  82.50   7213500  IBM\n",
              "3 2006-01-06  83.95  85.03  83.41  84.95   8197400  IBM\n",
              "4 2006-01-09  84.10  84.25  83.38  83.73   6858200  IBM"
            ]
          },
          "execution_count": 6,
          "metadata": {},
          "output_type": "execute_result"
        }
      ],
      "source": [
        "import pandas as pd\n",
        "\n",
        "print(ibm_df[\"Date\"].dtype)\n",
        "ibm_df['Date'] = pd.to_datetime(ibm_df['Date'])\n",
        "print(ibm_df[\"Date\"].dtype)\n",
        "ibm_df.head()"
      ]
    },
    {
      "cell_type": "code",
      "execution_count": 7,
      "metadata": {},
      "outputs": [
        {
          "data": {
            "text/plain": [
              "[<matplotlib.lines.Line2D at 0x125db53d0>]"
            ]
          },
          "execution_count": 7,
          "metadata": {},
          "output_type": "execute_result"
        },
        {
          "data": {
            "image/png": "[encoded data removed]",
            "text/plain": [
              "<Figure size 640x480 with 1 Axes>"
            ]
          },
          "metadata": {},
          "output_type": "display_data"
        }
      ],
      "source": [
        "import matplotlib.pyplot as plt\n",
        "plt.plot('Date', 'Close', data=ibm_df)"
      ]
    },
    {
      "cell_type": "markdown",
      "metadata": {
        "id": "ChPE5IypmWmr"
      },
      "source": [
        "## Extract the information to train the model from the dataset."
      ]
    },
    {
      "cell_type": "code",
      "execution_count": 8,
      "metadata": {},
      "outputs": [],
      "source": [
        "import numpy as np\n",
        "\n",
        "class MinMaxScaler:\n",
        "    def __init__(self, dataset):\n",
        "        self.min = np.min(dataset)\n",
        "        self.max = np.max(dataset)\n",
        "    \n",
        "    def std(self, dataset):\n",
        "        distance = self.max - self.min\n",
        "        return np.vectorize(lambda x: (x - self.min) / distance)(dataset)\n",
        "    \n",
        "    def scale(self, dataset):\n",
        "        distance = self.max - self.min\n",
        "        return np.vectorize(lambda x: x * distance + self.min)(dataset)"
      ]
    },
    {
      "cell_type": "code",
      "execution_count": 9,
      "metadata": {
        "id": "0uoyXw7ymWvj"
      },
      "outputs": [
        {
          "name": "stdout",
          "output_type": "stream",
          "text": [
            "Size is 3019 Min is  71.74 Max is  215.8\n",
            "Size is 3019 Min is  0.0 Max is  1.0\n",
            "Train Size (2110,) Test Size (909,)\n"
          ]
        }
      ],
      "source": [
        "import numpy as np\n",
        "\n",
        "ibm_close_dataset = ibm_df['Close'].to_numpy()\n",
        "print(\n",
        "    \"Size is\", ibm_close_dataset.shape[0], \n",
        "    \"Min is \", np.min(ibm_close_dataset),\n",
        "    \"Max is \", np.max(ibm_close_dataset))\n",
        "\n",
        "mm_scaler = MinMaxScaler(ibm_close_dataset)\n",
        "norm_dataset  = mm_scaler.std(ibm_close_dataset)\n",
        "print(\n",
        "    \"Size is\", norm_dataset.shape[0], \n",
        "    \"Min is \", np.min(norm_dataset),\n",
        "    \"Max is \", np.max(norm_dataset))\n",
        "\n",
        "seq_length = 15\n",
        "train_size = int(norm_dataset.shape[0]//seq_length*0.7*seq_length)\n",
        "test_size = norm_dataset.shape[0] - train_size\n",
        "\n",
        "train_dataset = norm_dataset[:train_size]\n",
        "test_dataset  = norm_dataset[train_size:]\n",
        "print(\n",
        "    \"Train Size\", train_dataset.shape,\n",
        "    \"Test Size\", test_dataset.shape\n",
        ")"
      ]
    },
    {
      "cell_type": "markdown",
      "metadata": {
        "id": "Ocb08Ht1mW4E"
      },
      "source": [
        "# Train the RNN model."
      ]
    },
    {
      "cell_type": "markdown",
      "metadata": {},
      "source": [
        "## Define Model with Forward & Backward pass\n",
        "\n",
        "Notation:\n",
        "- H is hidden state\n",
        "- X is input\n",
        "- O_hat is predicted output\n",
        "- O is actual output\n",
        "- W_h, W_x, W_o are weights suffixed with their corresponding multipliers\n",
        "- B_h and B_o are bias for hidden state and output linear computation\n",
        "- J is cost function (square of residual)\n",
        "- J_sum is cummulative cost (sum of square of residual)\n",
        "- t is the time/step\n",
        "\n",
        "Forward pass:\n",
        "- H_raw[t] = W_h . H[t-1] + W_x . X_t + B_h\n",
        "- H[t] = tanh( H_raw[t] )\n",
        "- O_hat[t] = W_o . H[t] + B_o\n",
        "- J[t] = (O[t] - O_hat[t]) ** 2\n",
        "- J_sum = sum(J)\n",
        "\n",
        "Backward pass (refer to the image below which depicts the computation):\n",
        "- dJ_sum = 1\n",
        "- dJ[t] = dJ_sum . 1\n",
        "- dO_hat[t] = 2 * (O[t] - O_hat[t]) . dJ[t]\n",
        "- dB_o = sum(dO_hat)\n",
        "- dW_o = sum(temp) where temp[t] = transpose(H[t]) . dO_hat[t]\n",
        "- dH[t] = transpose(W_o) . dO_hat[t]\n",
        "- dH_raw[t] = (1 - H_raw[t]**2) . ( dH[t] + transpose(W_h) . dH_raw[t+1] )\n",
        "- dB_h = sum(dH_raw)\n",
        "- dW_h = sum(temp) where temp = transpose(H[t-1]) . dH_raw[t]\n",
        "- dW_x = sum(temp) where temp = transpose(X[t]) . dH_raw[t]\n",
        "\n",
        "Note: \n",
        "- when t = 0, H[t-1] is H_s which is 0 (or from prev pass) \n",
        "- when t = N (i.e. input length), dH_raw[t+1] is 0 when t = N\n",
        "\n",
        "Computation graph with forward and back passes (N = 2, i.e t = 0 & t = 1)\n",
        "- ![comp_graph_vanilla_rnn](./comp_graph_vanilla_rnn.jpg)"
      ]
    },
    {
      "cell_type": "code",
      "execution_count": 65,
      "metadata": {
        "id": "IV6T10IimXAU"
      },
      "outputs": [],
      "source": [
        "\n",
        "import numpy as np\n",
        "\n",
        "class VanillaRNN:\n",
        "    def __init__(self, io_dim=1, hidden_dim=100):\n",
        "        self.io_dim = io_dim\n",
        "        self.hidden_dim = hidden_dim\n",
        "        \n",
        "        self.H_prev = np.zeros((hidden_dim, io_dim)) * 0.01\n",
        "        self.W_x = np.random.randn(hidden_dim, io_dim) * 0.01\n",
        "        self.W_h = np.random.randn(hidden_dim, hidden_dim) * 0.01\n",
        "        self.B_h = np.random.randn(hidden_dim, io_dim) * 0.01\n",
        "        \n",
        "        self.W_o = np.random.randn(io_dim, hidden_dim) * 0.01\n",
        "        self.B_o = np.random.randn(io_dim, io_dim) * 0.01\n",
        "        \n",
        "        ## for adagrad momentum term\n",
        "        self.grad_sacc = [\n",
        "            np.zeros_like(self.W_x), \n",
        "            np.zeros_like(self.W_h), \n",
        "            np.zeros_like(self.B_h), \n",
        "            np.zeros_like(self.W_o), \n",
        "            np.zeros_like(self.B_o)\n",
        "        ]\n",
        "    \n",
        "    def reset_hidden_state(self):\n",
        "        self.H_prev = np.zeros((self.hidden_dim, self.io_dim))\n",
        "    \n",
        "    def predict(self, X_seed, num_predictions):\n",
        "        o_hat = []\n",
        "        h = self.H_prev\n",
        "        x = X_seed\n",
        "        for _ in range(num_predictions):\n",
        "            h = np.tanh(np.dot(self.W_x, x) + np.dot(self.W_h, h) + self.B_h)\n",
        "            o = np.dot(self.W_o, h) + self.B_o\n",
        "            o_hat.append(o)\n",
        "            x = o\n",
        "        return o_hat\n",
        "    \n",
        "    def forward(self, X, O):\n",
        "        # H_raw[t] = W_h . H[t-1] + W_x . X_t + B_h\n",
        "        # H[t] = tanh( H_raw[t] )\n",
        "        # O_hat[t] = W_o . H[t] + B_o\n",
        "        # J[t] = (O[t] - O_hat[t]) ** 2\n",
        "        # J_sum = sum(J)\n",
        "\n",
        "        # do forward pass\n",
        "        local_h_prev = self.H_prev\n",
        "        H_raw, H, O_hat, J = [], [local_h_prev], [], []\n",
        "        J_sum = 0\n",
        "        N = len(X)\n",
        "        for t in range(N):\n",
        "            H_raw.append(np.dot(self.W_x, X[t]) + np.dot(self.W_h, local_h_prev) + self.B_h)\n",
        "            H_cur = np.tanh(H_raw[t])\n",
        "            H.append(H_cur)\n",
        "            O_hat.append(np.dot(self.W_o, H_cur) + self.B_o)\n",
        "            J.append((O[t] - O_hat[t])**2)\n",
        "            J_sum += J[t].item(0)\n",
        "            local_h_prev = H_cur\n",
        "        \n",
        "        self.H_prev = local_h_prev\n",
        "        self.mem = (X, H_raw, H, O_hat, O, J, J_sum)\n",
        "        \n",
        "        return J_sum, O_hat\n",
        "    \n",
        "    def backward(self):\n",
        "        # dJ_sum = 1\n",
        "        # dJ[t] = dJ_sum\n",
        "        # dO_hat[t] = 2 * ( transpose(O[t] - O_hat[t]) . dJ[t] )\n",
        "        # dB_o = sum(dO_hat)\n",
        "        # dW_o = sum(temp) where temp[t] = dO_hat[t] . transpose(H[t])\n",
        "        # dH[t] = transpose(W_o) . dO_hat[t]\n",
        "        # dH_raw[t] = (1 - H_raw[t]**2) . ( dH[t] + transpose(W_h) . dH_raw[t+1] )\n",
        "        # dB_h = sum(dH_raw)\n",
        "        # dW_h = sum(temp) where temp = transpose(H[t-1]) . dH_raw[t]\n",
        "        # dW_x = sum(temp) where temp = transpose(X[t]) . dH_raw[t]\n",
        "        # do backward pass\n",
        "        X, H_raw, H, O_hat, O, J, J_sum = self.mem\n",
        "        \n",
        "        dB_o = np.zeros(self.B_o.shape)\n",
        "        dW_o = np.zeros(self.W_o.shape)\n",
        "        dB_h = np.zeros(self.B_h.shape)\n",
        "        dW_h = np.zeros(self.W_h.shape)\n",
        "        dW_x = np.zeros(self.W_x.shape)\n",
        "        \n",
        "        N = len(X)\n",
        "        \n",
        "        H_iter = reversed(H)\n",
        "        H_cur = next(H_iter)\n",
        "        dH_raw_next = np.zeros(H_raw[0].shape)\n",
        "        dJ_sum = np.array([[1]])\n",
        "        for t in reversed(range(N)):\n",
        "            H_prev = next(H_iter)\n",
        "            \n",
        "            dJ = dJ_sum\n",
        "            dO_hat = np.dot(2 * (O[t] - O_hat[t]).T, dJ)\n",
        "            \n",
        "            # O_hat[t] = W_o . H[t] + B_o\n",
        "            dB_o = dB_o + dO_hat\n",
        "            dW_o = dW_o + np.dot(dO_hat, H_cur.T)\n",
        "            dH = np.dot(self.W_o.T, dO_hat)\n",
        "            \n",
        "            # H[t] = tanh( H_raw[t] )\n",
        "            dH_raw_temp = 1 - H_raw[t] * H_raw[t]\n",
        "        \n",
        "            # H_raw[t] = W_h . H[t-1] + W_x . X_t + B_h\n",
        "            dH_raw = (dH + np.dot(self.W_h.T, dH_raw_next)) * dH_raw_temp\n",
        "            dB_h = dB_h + dH_raw\n",
        "            dW_h = dW_h + np.dot(dH_raw, H_prev.T)\n",
        "            dW_x = dW_x + np.dot(dH_raw, X[t].T)\n",
        "            \n",
        "            dH_raw_next = dH_raw\n",
        "            H_cur = H_prev\n",
        "        \n",
        "        # Uncomment if required\n",
        "        for dparam in [dW_x, dW_h, dB_h, dW_o, dB_o]:\n",
        "            np.clip(dparam, -5, 5, out=dparam)\n",
        "        \n",
        "        self.gradients = [dW_x, dW_h, dB_h, dW_o, dB_o]\n",
        "    \n",
        "    def step(self, learn_rate=0.001, epsilon=10e-8):\n",
        "        ## SGD\n",
        "        self.W_x = self.W_x - learn_rate * self.gradients[0]\n",
        "        self.W_h = self.W_h - learn_rate * self.gradients[1]\n",
        "        self.B_h = self.B_h - learn_rate * self.gradients[2]\n",
        "        self.W_o = self.W_o - learn_rate * self.gradients[3]\n",
        "        self.B_o = self.B_o - learn_rate * self.gradients[4]\n",
        "        \n",
        "        ## auto grad\n",
        "        dw_avg = [] ## auto grad mometum\n",
        "        for i in range(len(self.gradients)):\n",
        "            self.grad_sacc[i] +=  self.gradients[i] ** 2\n",
        "            dw_avg.append(self.gradients[i] / np.sqrt(self.grad_sacc[i]+epsilon))\n",
        "            \n",
        "        # self.W_x = self.W_x - learn_rate * dw_avg[0]\n",
        "        # self.W_h = self.W_h - learn_rate * dw_avg[1]\n",
        "        # self.B_h = self.B_h - learn_rate * dw_avg[2]\n",
        "        # self.W_o = self.W_o - learn_rate * dw_avg[3]\n",
        "        # self.B_o = self.B_o - learn_rate * dw_avg[4]"
      ]
    },
    {
      "cell_type": "code",
      "execution_count": 86,
      "metadata": {},
      "outputs": [],
      "source": [
        "import torch\n",
        "\n",
        "class VanillaRNNTorch(torch.nn.Module):\n",
        "    \n",
        "    def __init__(self, io_dim: int = 1, hidden_dim: int = 100):\n",
        "        super().__init__()\n",
        "        self.io_dim = io_dim\n",
        "        self.hidden_dim = hidden_dim\n",
        "        \n",
        "        self.i2h = torch.nn.Linear(in_features=io_dim, out_features=hidden_dim)\n",
        "        self.h2h = torch.nn.Linear(in_features=hidden_dim, out_features=hidden_dim)\n",
        "        self.h2O = torch.nn.Linear(in_features=hidden_dim, out_features=io_dim)\n",
        "    \n",
        "    def forward(self, X, H_prev):\n",
        "        Z_x = self.i2h(X)\n",
        "        Z_h = self.h2h(H_prev)\n",
        "        H = torch.tanh(Z_x + Z_h)\n",
        "        Y_hat = self.h2O(H)\n",
        "        \n",
        "        return Y_hat, H\n",
        "    \n",
        "    def init_hidden_state(self):\n",
        "        return torch.zeros(1, self.hidden_dim, requires_grad=False)"
      ]
    },
    {
      "cell_type": "code",
      "execution_count": 66,
      "metadata": {},
      "outputs": [
        {
          "name": "stdout",
          "output_type": "stream",
          "text": [
            "22.985257293627498 [array([[2.92158857]]), array([[3.04472025]]), array([[3.2363222]])]\n",
            "23.22651463356242 [array([[2.93824781]]), array([[3.05839347]]), array([[3.2495226]])]\n",
            "[array([[2.95491411]]), array([[4.6982124]]), array([[4.69917809]])]\n"
          ]
        }
      ],
      "source": [
        "testnet = VanillaRNN(io_dim=1, hidden_dim=2)\n",
        "\n",
        "X = np.array([[0.1], [0.2], [0.3]]).reshape(-1, 1, 1)\n",
        "Y = np.array([[0.2], [0.3], [0.4]]).reshape(-1, 1, 1)\n",
        "\n",
        "for i in range(2):\n",
        "    loss, Y_pred = testnet.forward(X, Y)\n",
        "    testnet.backward()\n",
        "    testnet.step()\n",
        "    testnet.reset_hidden_state()\n",
        "    print(loss, Y_pred)\n",
        "    \n",
        "y_pred = testnet.predict(np.array([0.1]).reshape(-1,  1), 3)\n",
        "print(y_pred)"
      ]
    },
    {
      "cell_type": "markdown",
      "metadata": {},
      "source": [
        "## Train the model using VanillaRNN"
      ]
    },
    {
      "cell_type": "code",
      "execution_count": 59,
      "metadata": {},
      "outputs": [],
      "source": [
        "def train(net, data, learn_rate):\n",
        "    i = 0\n",
        "    epoch_loss = 0\n",
        "    while i+1+seq_length < len(data):\n",
        "        train_X = data[i:i+seq_length].reshape(-1, 1, 1)\n",
        "        train_Y = data[i+1:i+1+seq_length].reshape(-1, 1, 1)\n",
        "        \n",
        "        loss, _ = net.forward(train_X, train_Y)\n",
        "        net.backward()\n",
        "        net.step(learn_rate)\n",
        "        \n",
        "        i = i + seq_length\n",
        "        epoch_loss += loss\n",
        "    \n",
        "    return epoch_loss\n",
        "\n",
        "def test(net, data):\n",
        "    loss = 0\n",
        "    y_hat = []\n",
        "    total_comparisions = 0\n",
        "    for i in range(len(data)):\n",
        "        y_pred = net.predict(data[i].reshape(-1, 1), seq_length)\n",
        "        if i+15 < len(data):\n",
        "            y_actual = data[i+1:i+1+seq_length]\n",
        "            loss += y_actual[seq_length-1] - y_pred[seq_length-1]\n",
        "            total_comparisions += 1\n",
        "            \n",
        "        y_hat.append(y_pred[seq_length-1])\n",
        "    \n",
        "    return loss/total_comparisions, y_hat"
      ]
    },
    {
      "cell_type": "code",
      "execution_count": 64,
      "metadata": {},
      "outputs": [
        {
          "name": "stdout",
          "output_type": "stream",
          "text": [
            "Epoch# 1: loss=727.8936538901843, h[0,0]=-0.02176935212399952\n",
            "Epoch# 2: loss=943.5058002958427, h[0,0]=-0.03016744119633008\n",
            "Epoch# 3: loss=1268.5761121878284, h[0,0]=-0.04552898523324345\n",
            "Epoch# 4: loss=2005.5303506465011, h[0,0]=-0.08657789231544825\n",
            "Epoch# 5: loss=138628.5041610162, h[0,0]=-0.704456588884514\n",
            "Epoch# 6: loss=1570646.6884041808, h[0,0]=-0.7246596991998354\n",
            "Epoch# 7: loss=4410520.253060834, h[0,0]=-0.7191715266919025\n",
            "Epoch# 8: loss=8795136.594679477, h[0,0]=-0.719594810545051\n",
            "Epoch# 9: loss=14703671.680719588, h[0,0]=-0.7199395764072124\n",
            "Epoch# 10: loss=22134686.731828596, h[0,0]=-0.7200689661955904\n",
            "Epoch# 11: loss=31086437.58994186, h[0,0]=-0.7201996345137162\n",
            "Epoch# 12: loss=41559689.97382257, h[0,0]=-0.7202033702944292\n",
            "Epoch# 13: loss=53557981.23614654, h[0,0]=-0.7202427738868866\n",
            "Epoch# 14: loss=67079735.41639847, h[0,0]=-0.7202287331100411\n",
            "Epoch# 15: loss=82106541.92605607, h[0,0]=-0.7200231705047739\n",
            "Epoch# 16: loss=98572873.96222179, h[0,0]=-0.7204920592880056\n",
            "Epoch# 17: loss=116529603.42019248, h[0,0]=-0.7210733303087536\n",
            "Epoch# 18: loss=136034652.4724481, h[0,0]=-0.7199227853021416\n",
            "Epoch# 19: loss=156867884.1461171, h[0,0]=-0.7193520424877051\n",
            "Epoch# 20: loss=179223396.33590093, h[0,0]=-0.7195772204540877\n"
          ]
        }
      ],
      "source": [
        "# seq_length\n",
        "# train_dataset, test_dataset\n",
        "\n",
        "model = VanillaRNN(io_dim=1, hidden_dim=356)\n",
        "\n",
        "learn_rate = 0.0001\n",
        "max_epochs = 20\n",
        "\n",
        "for epoch in range(1, max_epochs+1):\n",
        "    i = 0\n",
        "    model.reset_hidden_state()\n",
        "    epoch_loss = train(model, train_dataset, learn_rate)\n",
        "    print(\"Epoch# {}: loss={}, h[0,0]={}\".format(epoch, epoch_loss, model.H_prev[0,0]))\n",
        "\n",
        "train_loss, train_predict = test(model, train_dataset)\n",
        "test_loss, test_predict = test(model, test_dataset)"
      ]
    },
    {
      "cell_type": "markdown",
      "metadata": {},
      "source": [
        "## Train the model using VanillaRNN pytorch"
      ]
    },
    {
      "cell_type": "code",
      "execution_count": 102,
      "metadata": {},
      "outputs": [],
      "source": [
        "import torch\n",
        "\n",
        "class StockDataset(torch.utils.data.Dataset):\n",
        "    def __init__(self, data, seq_length=seq_length):\n",
        "        super().__init__()\n",
        "        self.data = data\n",
        "        self.seq_length = seq_length\n",
        "    \n",
        "    def __len__(self) -> int:\n",
        "        return int( len(self.data) // self.seq_length )\n",
        "    \n",
        "    def __getitem__(self, index) -> tuple[torch.Tensor, torch.Tensor]:\n",
        "        start_idx = index * self.seq_length\n",
        "        end_idx = (index + 1) * self.seq_length\n",
        "        \n",
        "        X = torch.tensor(self.data[start_idx:end_idx].reshape(-1, 1)).float()\n",
        "        Y = torch.tensor(self.data[start_idx+1:end_idx+1].reshape(-1, 1)).float()\n",
        "        return X, Y"
      ]
    },
    {
      "cell_type": "code",
      "execution_count": 113,
      "metadata": {},
      "outputs": [
        {
          "name": "stdout",
          "output_type": "stream",
          "text": [
            "epoch# 0: loss=0.014716456644237041\n",
            "epoch# 1: loss=0.01363009586930275\n",
            "epoch# 2: loss=0.008454229682683945\n",
            "epoch# 3: loss=0.006777062080800533\n",
            "epoch# 4: loss=0.006009967532008886\n",
            "epoch# 5: loss=0.005503665655851364\n",
            "epoch# 6: loss=0.005106734577566385\n",
            "epoch# 7: loss=0.0047726016491651535\n",
            "epoch# 8: loss=0.004480937495827675\n",
            "epoch# 9: loss=0.004220558796077967\n",
            "epoch# 10: loss=0.003984561190009117\n",
            "epoch# 11: loss=0.003768383525311947\n",
            "epoch# 12: loss=0.003568858141079545\n",
            "epoch# 13: loss=0.0033836904913187027\n",
            "epoch# 14: loss=0.0032111492473632097\n",
            "epoch# 15: loss=0.0030498732812702656\n",
            "epoch# 16: loss=0.002898765727877617\n",
            "epoch# 17: loss=0.002756914822384715\n",
            "epoch# 18: loss=0.0026235433761030436\n",
            "epoch# 19: loss=0.0024979826994240284\n",
            "epoch# 20: loss=0.0023796374443918467\n",
            "epoch# 21: loss=0.0022679928224533796\n",
            "epoch# 22: loss=0.0021625764202326536\n",
            "epoch# 23: loss=0.0020629698410630226\n",
            "epoch# 24: loss=0.0019687870517373085\n",
            "epoch# 25: loss=0.0018796802032738924\n",
            "epoch# 26: loss=0.0017953291535377502\n",
            "epoch# 27: loss=0.0017154415836557746\n",
            "epoch# 28: loss=0.001639748108573258\n",
            "epoch# 29: loss=0.001567997271195054\n",
            "epoch# 30: loss=0.0014999600825831294\n",
            "epoch# 31: loss=0.0014354176819324493\n",
            "epoch# 32: loss=0.0013741737930104136\n",
            "epoch# 33: loss=0.0013160401722416282\n",
            "epoch# 34: loss=0.0012608477845788002\n",
            "epoch# 35: loss=0.0012084317859262228\n",
            "epoch# 36: loss=0.001158639439381659\n",
            "epoch# 37: loss=0.0011113325599581003\n",
            "epoch# 38: loss=0.0010663754073902965\n",
            "epoch# 39: loss=0.0010236433008685708\n",
            "epoch# 40: loss=0.000983020756393671\n",
            "epoch# 41: loss=0.0009443960152566433\n",
            "epoch# 42: loss=0.0009076660498976707\n",
            "epoch# 43: loss=0.000872732256539166\n",
            "epoch# 44: loss=0.0008395030163228512\n",
            "epoch# 45: loss=0.0008078907267190516\n",
            "epoch# 46: loss=0.0007778147119097412\n",
            "epoch# 47: loss=0.0007491951691918075\n",
            "epoch# 48: loss=0.0007219609688036144\n",
            "epoch# 49: loss=0.0006960424361750484\n",
            "epoch# 50: loss=0.0006713733309879899\n",
            "epoch# 51: loss=0.0006478915456682444\n",
            "epoch# 52: loss=0.00062553770840168\n",
            "epoch# 53: loss=0.0006042579188942909\n",
            "epoch# 54: loss=0.0005839986843056977\n",
            "epoch# 55: loss=0.0005647102370858192\n",
            "epoch# 56: loss=0.0005463436245918274\n",
            "epoch# 57: loss=0.0005288546672090888\n",
            "epoch# 58: loss=0.0005122011061757803\n",
            "epoch# 59: loss=0.0004963430692441761\n",
            "epoch# 60: loss=0.0004812406550627202\n",
            "epoch# 61: loss=0.00046685736742801964\n",
            "epoch# 62: loss=0.00045315915485844016\n",
            "epoch# 63: loss=0.00044011283898726106\n",
            "epoch# 64: loss=0.0004276871623005718\n",
            "epoch# 65: loss=0.0004158518568146974\n",
            "epoch# 66: loss=0.00040457842987962067\n",
            "epoch# 67: loss=0.0003938402805943042\n",
            "epoch# 68: loss=0.0003836123214568943\n",
            "epoch# 69: loss=0.00037386914482340217\n",
            "epoch# 70: loss=0.0003645877877715975\n",
            "epoch# 71: loss=0.00035574653884395957\n",
            "epoch# 72: loss=0.00034732461790554225\n",
            "epoch# 73: loss=0.0003393018268980086\n",
            "epoch# 74: loss=0.00033165886998176575\n",
            "epoch# 75: loss=0.00032437764457426965\n",
            "epoch# 76: loss=0.0003174409212078899\n",
            "epoch# 77: loss=0.0003108329838141799\n",
            "epoch# 78: loss=0.0003045373014174402\n",
            "epoch# 79: loss=0.00029853987507522106\n",
            "epoch# 80: loss=0.0002928256581071764\n",
            "epoch# 81: loss=0.0002873815828934312\n",
            "epoch# 82: loss=0.0002821955713443458\n",
            "epoch# 83: loss=0.0002772540901787579\n",
            "epoch# 84: loss=0.0002725464873947203\n",
            "epoch# 85: loss=0.00026806138339452446\n",
            "epoch# 86: loss=0.0002637879806570709\n",
            "epoch# 87: loss=0.00025971615104936063\n",
            "epoch# 88: loss=0.0002558374253567308\n",
            "epoch# 89: loss=0.00025214190827682614\n",
            "epoch# 90: loss=0.00024862014106474817\n",
            "epoch# 91: loss=0.00024526487686671317\n",
            "epoch# 92: loss=0.00024206808302551508\n",
            "epoch# 93: loss=0.0002390223671682179\n",
            "epoch# 94: loss=0.0002361199731240049\n",
            "epoch# 95: loss=0.00023335468722507358\n",
            "epoch# 96: loss=0.00023071971372701228\n",
            "epoch# 97: loss=0.00022820872254669666\n",
            "epoch# 98: loss=0.0002258165623061359\n",
            "epoch# 99: loss=0.00022353716485667974\n"
          ]
        }
      ],
      "source": [
        "import torch\n",
        "\n",
        "train_data = StockDataset(train_dataset, seq_length=15)\n",
        "loss_fn = torch.nn.MSELoss(reduction='sum')\n",
        "rnnModel = VanillaRNNTorch()\n",
        "optimizer = torch.optim.Adagrad(rnnModel.parameters(), lr = 0.001)\n",
        "\n",
        "for epoch in range(1, 101):\n",
        "    total_losses = list()\n",
        "    rnnModel.train()\n",
        "    for i in range(len(train_data)):\n",
        "        X, Y = train_data[i]\n",
        "        \n",
        "        H = rnnModel.init_hidden_state()\n",
        "    \n",
        "        rnnModel.zero_grad()\n",
        "        loss = 0\n",
        "        for i in range(X.shape[0]):\n",
        "            Y_hat, H = rnnModel(X[i], H)\n",
        "            l = loss_fn(Y_hat.squeeze(dim=1), Y[i])\n",
        "            loss += l\n",
        "            \n",
        "        loss.backward()\n",
        "        #torch.nn.utils.clip_grad_norm_(rnnModel.parameters(), 3)\n",
        "        optimizer.step()\n",
        "        total_losses.append(loss.detach().item() / X.shape[0])\n",
        "\n",
        "    epoch_loss = torch.tensor(total_losses).mean()\n",
        "    if epoch%10 == 0:\n",
        "        print(\"epoch# {}: loss={}\".format(epoch, epoch_loss))"
      ]
    },
    {
      "cell_type": "markdown",
      "metadata": {
        "id": "o1o5HeMXmXJD"
      },
      "source": [
        "##Question 6\n",
        "####Plot the predicted and real stock price."
      ]
    },
    {
      "cell_type": "code",
      "execution_count": null,
      "metadata": {
        "id": "5Xs7cN_TmXRQ"
      },
      "outputs": [],
      "source": [
        "#Solution 6(your code here)"
      ]
    }
  ],
  "metadata": {
    "colab": {
      "provenance": []
    },
    "kernelspec": {
      "display_name": "Python 3",
      "name": "python3"
    },
    "language_info": {
      "codemirror_mode": {
        "name": "ipython",
        "version": 3
      },
      "file_extension": ".py",
      "mimetype": "text/x-python",
      "name": "python",
      "nbconvert_exporter": "python",
      "pygments_lexer": "ipython3",
      "version": "3.11.4"
    }
  },
  "nbformat": 4,
  "nbformat_minor": 0
}
