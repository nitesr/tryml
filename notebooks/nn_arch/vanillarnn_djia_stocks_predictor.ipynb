{
  "cells": [
    {
      "cell_type": "markdown",
      "metadata": {
        "id": "-B3ma9a4mR2R"
      },
      "source": [
        "# DJIA 30 Stock Time Series dataset\n",
        "The script used to acquire all of the following data can be found in this GitHub repository. This repository also contains the modeling codes and will be updated continually, so welcome starring or watching!\n",
        "\n",
        "Stock market data can be interesting to analyze and as a further incentive, strong predictive models can have large financial payoff. The amount of financial data on the web is seemingly endless. A large and well structured dataset on a wide array of companies can be hard to come by. Here provided a dataset with historical stock prices (last 12 years) for 29 of 30 DJIA companies (excluding 'V' because it does not have the whole 12 years data).\n",
        "\n",
        "      ['MMM', 'AXP', 'AAPL', 'BA', 'CAT', 'CVX', 'CSCO', 'KO', 'DIS', 'XOM', 'GE',\n",
        "\n",
        "      'GS', 'HD', 'IBM', 'INTC', 'JNJ', 'JPM', 'MCD', 'MRK', 'MSFT', 'NKE', 'PFE',\n",
        "\n",
        "      'PG', 'TRV', 'UTX', 'UNH', 'VZ', 'WMT', 'GOOGL', 'AMZN', 'AABA']\n",
        "\n",
        "#### Content\n",
        "The data is presented in a couple of formats to suit different individual's needs or computational limitations.\n",
        "I have included files containing 13 years of stock data (in the all_stocks_2006-01-01_to_2018-01-01.csv and corresponding folder) and\n",
        "a smaller version of the dataset (all_stocks_2017-01-01_to_2018-01-01.csv) with only the past year's stock data for those wishing to use something more manageable in size.\n",
        "\n",
        "The folder individual_stocks_2006-01-01_to_2018-01-01 contains files of data for individual stocks, labelled by their stock ticker name.\n",
        "The all_stocks_2006-01-01_to_2018-01-01.csv and all_stocks_2017-01-01_to_2018-01-01.csv contain this same data, presented in merged .csv files.\n",
        "Depending on the intended use (graphing, modelling etc.) the user may prefer one of these given formats.\n",
        "\n",
        "All the files have the following columns:\n",
        "Date - in format: yy-mm-dd\n",
        "\n",
        "Open - price of the stock at market open (this is NYSE data so all in USD)\n",
        "\n",
        "High - Highest price reached in the day\n",
        "\n",
        "Low Close - Lowest price reached in the day\n",
        "\n",
        "Volume - Number of shares traded\n",
        "\n",
        "Name - the stock's ticker name"
      ]
    },
    {
      "cell_type": "code",
      "execution_count": 7,
      "metadata": {},
      "outputs": [
        {
          "name": "stdout",
          "output_type": "stream",
          "text": [
            "Requirement already satisfied: kaggle in /Users/n0c09jf/anaconda3/envs/pytorch/lib/python3.11/site-packages (1.5.16)\n",
            "Requirement already satisfied: six>=1.10 in /Users/n0c09jf/anaconda3/envs/pytorch/lib/python3.11/site-packages (from kaggle) (1.16.0)\n",
            "Requirement already satisfied: certifi in /Users/n0c09jf/anaconda3/envs/pytorch/lib/python3.11/site-packages (from kaggle) (2023.7.22)\n",
            "Requirement already satisfied: python-dateutil in /Users/n0c09jf/anaconda3/envs/pytorch/lib/python3.11/site-packages (from kaggle) (2.8.2)\n",
            "Requirement already satisfied: requests in /Users/n0c09jf/anaconda3/envs/pytorch/lib/python3.11/site-packages (from kaggle) (2.31.0)\n",
            "Requirement already satisfied: tqdm in /Users/n0c09jf/anaconda3/envs/pytorch/lib/python3.11/site-packages (from kaggle) (4.66.1)\n",
            "Requirement already satisfied: python-slugify in /Users/n0c09jf/anaconda3/envs/pytorch/lib/python3.11/site-packages (from kaggle) (8.0.1)\n",
            "Requirement already satisfied: urllib3 in /Users/n0c09jf/anaconda3/envs/pytorch/lib/python3.11/site-packages (from kaggle) (2.0.4)\n",
            "Requirement already satisfied: bleach in /Users/n0c09jf/anaconda3/envs/pytorch/lib/python3.11/site-packages (from kaggle) (6.0.0)\n",
            "Requirement already satisfied: webencodings in /Users/n0c09jf/anaconda3/envs/pytorch/lib/python3.11/site-packages (from bleach->kaggle) (0.5.1)\n",
            "Requirement already satisfied: text-unidecode>=1.3 in /Users/n0c09jf/anaconda3/envs/pytorch/lib/python3.11/site-packages (from python-slugify->kaggle) (1.3)\n",
            "Requirement already satisfied: charset-normalizer<4,>=2 in /Users/n0c09jf/anaconda3/envs/pytorch/lib/python3.11/site-packages (from requests->kaggle) (3.2.0)\n",
            "Requirement already satisfied: idna<4,>=2.5 in /Users/n0c09jf/anaconda3/envs/pytorch/lib/python3.11/site-packages (from requests->kaggle) (3.4)\n"
          ]
        }
      ],
      "source": [
        "!pip3 install kaggle"
      ]
    },
    {
      "cell_type": "markdown",
      "metadata": {},
      "source": [
        "# Read Data From Kaggle"
      ]
    },
    {
      "cell_type": "markdown",
      "metadata": {},
      "source": [
        "## Kaggle setup\n",
        "\n",
        "    On your Kaggle account, under API, select \"Create New API Token\" and kaggle.json will be downloaded on your computer.\n",
        "\n",
        "    Go to directory — \"${user.home}\\.kaggle\\\" — and move here the downloaded JSON file."
      ]
    },
    {
      "cell_type": "code",
      "execution_count": 8,
      "metadata": {},
      "outputs": [],
      "source": [
        "from kaggle.api.kaggle_api_extended import KaggleApi\n",
        "\n",
        "k_api = KaggleApi()\n",
        "k_api.authenticate()"
      ]
    },
    {
      "cell_type": "code",
      "execution_count": 9,
      "metadata": {},
      "outputs": [],
      "source": [
        "from zipfile import ZipFile\n",
        "import os\n",
        "import shutil\n",
        "from zipfile import ZipFile\n",
        "\n",
        "os.makedirs('./.data/djia-stock-2005-2017', exist_ok = True)\n",
        "\n",
        "if not os.path.exists('./.data/stock-time-series-20050101-to-20171231.zip'):\n",
        "    #downloading datasets\n",
        "    k_api.dataset_download_files(\n",
        "        dataset='szrlee/stock-time-series-20050101-to-20171231',\n",
        "        unzip=False\n",
        "    )\n",
        "    shutil.move('./stock-time-series-20050101-to-20171231.zip', './.data')\n",
        "\n",
        "    zf = ZipFile('./.data/stock-time-series-20050101-to-20171231.zip')\n",
        "    zf.extractall('./.data/djia-stock-2005-2017/') \n",
        "    zf.close()\n",
        "\n",
        "root_dir = './.data/djia-stock-2005-2017'"
      ]
    },
    {
      "cell_type": "markdown",
      "metadata": {
        "id": "xfvs81uhmWBa"
      },
      "source": [
        "#### Import the dataset - 'IBM_2006-01-01_to_2018-01-01.csv'"
      ]
    },
    {
      "cell_type": "code",
      "execution_count": 10,
      "metadata": {
        "id": "Pv2LRiFSmWNT"
      },
      "outputs": [
        {
          "data": {
            "text/html": [
              "<div>\n",
              "<style scoped>\n",
              "    .dataframe tbody tr th:only-of-type {\n",
              "        vertical-align: middle;\n",
              "    }\n",
              "\n",
              "    .dataframe tbody tr th {\n",
              "        vertical-align: top;\n",
              "    }\n",
              "\n",
              "    .dataframe thead th {\n",
              "        text-align: right;\n",
              "    }\n",
              "</style>\n",
              "<table border=\"1\" class=\"dataframe\">\n",
              "  <thead>\n",
              "    <tr style=\"text-align: right;\">\n",
              "      <th></th>\n",
              "      <th>Date</th>\n",
              "      <th>Open</th>\n",
              "      <th>High</th>\n",
              "      <th>Low</th>\n",
              "      <th>Close</th>\n",
              "      <th>Volume</th>\n",
              "      <th>Name</th>\n",
              "    </tr>\n",
              "  </thead>\n",
              "  <tbody>\n",
              "    <tr>\n",
              "      <th>0</th>\n",
              "      <td>2006-01-03</td>\n",
              "      <td>82.45</td>\n",
              "      <td>82.55</td>\n",
              "      <td>80.81</td>\n",
              "      <td>82.06</td>\n",
              "      <td>11715200</td>\n",
              "      <td>IBM</td>\n",
              "    </tr>\n",
              "    <tr>\n",
              "      <th>1</th>\n",
              "      <td>2006-01-04</td>\n",
              "      <td>82.20</td>\n",
              "      <td>82.50</td>\n",
              "      <td>81.33</td>\n",
              "      <td>81.95</td>\n",
              "      <td>9840600</td>\n",
              "      <td>IBM</td>\n",
              "    </tr>\n",
              "    <tr>\n",
              "      <th>2</th>\n",
              "      <td>2006-01-05</td>\n",
              "      <td>81.40</td>\n",
              "      <td>82.90</td>\n",
              "      <td>81.00</td>\n",
              "      <td>82.50</td>\n",
              "      <td>7213500</td>\n",
              "      <td>IBM</td>\n",
              "    </tr>\n",
              "    <tr>\n",
              "      <th>3</th>\n",
              "      <td>2006-01-06</td>\n",
              "      <td>83.95</td>\n",
              "      <td>85.03</td>\n",
              "      <td>83.41</td>\n",
              "      <td>84.95</td>\n",
              "      <td>8197400</td>\n",
              "      <td>IBM</td>\n",
              "    </tr>\n",
              "    <tr>\n",
              "      <th>4</th>\n",
              "      <td>2006-01-09</td>\n",
              "      <td>84.10</td>\n",
              "      <td>84.25</td>\n",
              "      <td>83.38</td>\n",
              "      <td>83.73</td>\n",
              "      <td>6858200</td>\n",
              "      <td>IBM</td>\n",
              "    </tr>\n",
              "  </tbody>\n",
              "</table>\n",
              "</div>"
            ],
            "text/plain": [
              "         Date   Open   High    Low  Close    Volume Name\n",
              "0  2006-01-03  82.45  82.55  80.81  82.06  11715200  IBM\n",
              "1  2006-01-04  82.20  82.50  81.33  81.95   9840600  IBM\n",
              "2  2006-01-05  81.40  82.90  81.00  82.50   7213500  IBM\n",
              "3  2006-01-06  83.95  85.03  83.41  84.95   8197400  IBM\n",
              "4  2006-01-09  84.10  84.25  83.38  83.73   6858200  IBM"
            ]
          },
          "execution_count": 10,
          "metadata": {},
          "output_type": "execute_result"
        }
      ],
      "source": [
        "import os\n",
        "import pandas as pd\n",
        "\n",
        "IBM_data_path = os.path.join(root_dir, 'IBM_2006-01-01_to_2018-01-01.csv')\n",
        "ibm_df = pd.read_csv(IBM_data_path)\n",
        "ibm_df.head(5)\n"
      ]
    },
    {
      "cell_type": "markdown",
      "metadata": {
        "id": "-Z8yFSGMmWWM"
      },
      "source": [
        "#### Perform EDA on the dataset to understand the data."
      ]
    },
    {
      "cell_type": "code",
      "execution_count": 11,
      "metadata": {
        "id": "XZqkozoBmWep"
      },
      "outputs": [
        {
          "name": "stdout",
          "output_type": "stream",
          "text": [
            "3020\n",
            "Date      0\n",
            "Open      1\n",
            "High      0\n",
            "Low       1\n",
            "Close     0\n",
            "Volume    0\n",
            "Name      0\n",
            "dtype: int64\n",
            "            Date  Open    High  Low   Close   Volume Name\n",
            "2913  2017-07-31   NaN  144.93  NaN  144.67  4355718  IBM\n",
            "Date      0\n",
            "Open      0\n",
            "High      0\n",
            "Low       0\n",
            "Close     0\n",
            "Volume    0\n",
            "Name      0\n",
            "dtype: int64\n"
          ]
        }
      ],
      "source": [
        "print(ibm_df.shape[0])\n",
        "\n",
        "print(ibm_df.isna().sum())\n",
        "\n",
        "print(ibm_df[ibm_df[\"Open\"].isna()])\n",
        "\n",
        "ibm_df = ibm_df.dropna()\n",
        "print(ibm_df.isna().sum())"
      ]
    },
    {
      "cell_type": "code",
      "execution_count": 12,
      "metadata": {},
      "outputs": [
        {
          "name": "stdout",
          "output_type": "stream",
          "text": [
            "object\n",
            "datetime64[ns]\n"
          ]
        },
        {
          "data": {
            "text/html": [
              "<div>\n",
              "<style scoped>\n",
              "    .dataframe tbody tr th:only-of-type {\n",
              "        vertical-align: middle;\n",
              "    }\n",
              "\n",
              "    .dataframe tbody tr th {\n",
              "        vertical-align: top;\n",
              "    }\n",
              "\n",
              "    .dataframe thead th {\n",
              "        text-align: right;\n",
              "    }\n",
              "</style>\n",
              "<table border=\"1\" class=\"dataframe\">\n",
              "  <thead>\n",
              "    <tr style=\"text-align: right;\">\n",
              "      <th></th>\n",
              "      <th>Date</th>\n",
              "      <th>Open</th>\n",
              "      <th>High</th>\n",
              "      <th>Low</th>\n",
              "      <th>Close</th>\n",
              "      <th>Volume</th>\n",
              "      <th>Name</th>\n",
              "    </tr>\n",
              "  </thead>\n",
              "  <tbody>\n",
              "    <tr>\n",
              "      <th>0</th>\n",
              "      <td>2006-01-03</td>\n",
              "      <td>82.45</td>\n",
              "      <td>82.55</td>\n",
              "      <td>80.81</td>\n",
              "      <td>82.06</td>\n",
              "      <td>11715200</td>\n",
              "      <td>IBM</td>\n",
              "    </tr>\n",
              "    <tr>\n",
              "      <th>1</th>\n",
              "      <td>2006-01-04</td>\n",
              "      <td>82.20</td>\n",
              "      <td>82.50</td>\n",
              "      <td>81.33</td>\n",
              "      <td>81.95</td>\n",
              "      <td>9840600</td>\n",
              "      <td>IBM</td>\n",
              "    </tr>\n",
              "    <tr>\n",
              "      <th>2</th>\n",
              "      <td>2006-01-05</td>\n",
              "      <td>81.40</td>\n",
              "      <td>82.90</td>\n",
              "      <td>81.00</td>\n",
              "      <td>82.50</td>\n",
              "      <td>7213500</td>\n",
              "      <td>IBM</td>\n",
              "    </tr>\n",
              "    <tr>\n",
              "      <th>3</th>\n",
              "      <td>2006-01-06</td>\n",
              "      <td>83.95</td>\n",
              "      <td>85.03</td>\n",
              "      <td>83.41</td>\n",
              "      <td>84.95</td>\n",
              "      <td>8197400</td>\n",
              "      <td>IBM</td>\n",
              "    </tr>\n",
              "    <tr>\n",
              "      <th>4</th>\n",
              "      <td>2006-01-09</td>\n",
              "      <td>84.10</td>\n",
              "      <td>84.25</td>\n",
              "      <td>83.38</td>\n",
              "      <td>83.73</td>\n",
              "      <td>6858200</td>\n",
              "      <td>IBM</td>\n",
              "    </tr>\n",
              "  </tbody>\n",
              "</table>\n",
              "</div>"
            ],
            "text/plain": [
              "        Date   Open   High    Low  Close    Volume Name\n",
              "0 2006-01-03  82.45  82.55  80.81  82.06  11715200  IBM\n",
              "1 2006-01-04  82.20  82.50  81.33  81.95   9840600  IBM\n",
              "2 2006-01-05  81.40  82.90  81.00  82.50   7213500  IBM\n",
              "3 2006-01-06  83.95  85.03  83.41  84.95   8197400  IBM\n",
              "4 2006-01-09  84.10  84.25  83.38  83.73   6858200  IBM"
            ]
          },
          "execution_count": 12,
          "metadata": {},
          "output_type": "execute_result"
        }
      ],
      "source": [
        "import pandas as pd\n",
        "\n",
        "print(ibm_df[\"Date\"].dtype)\n",
        "ibm_df['Date'] = pd.to_datetime(ibm_df['Date'])\n",
        "print(ibm_df[\"Date\"].dtype)\n",
        "ibm_df.head()"
      ]
    },
    {
      "cell_type": "code",
      "execution_count": 13,
      "metadata": {},
      "outputs": [
        {
          "data": {
            "text/plain": [
              "[<matplotlib.lines.Line2D at 0x12fa3cb10>]"
            ]
          },
          "execution_count": 13,
          "metadata": {},
          "output_type": "execute_result"
        },
        {
          "data": {
            "image/png": "[encoded data removed]",
            "text/plain": [
              "<Figure size 640x480 with 1 Axes>"
            ]
          },
          "metadata": {},
          "output_type": "display_data"
        }
      ],
      "source": [
        "import matplotlib.pyplot as plt\n",
        "plt.plot('Date', 'Close', data=ibm_df)"
      ]
    },
    {
      "cell_type": "markdown",
      "metadata": {
        "id": "ChPE5IypmWmr"
      },
      "source": [
        "## Extract the information to train the model from the dataset."
      ]
    },
    {
      "cell_type": "code",
      "execution_count": 14,
      "metadata": {},
      "outputs": [],
      "source": [
        "import numpy as np\n",
        "\n",
        "class MinMaxScaler:\n",
        "    def __init__(self, dataset):\n",
        "        self.min = np.min(dataset)\n",
        "        self.max = np.max(dataset)\n",
        "    \n",
        "    def std(self, dataset):\n",
        "        distance = self.max - self.min\n",
        "        return np.vectorize(lambda x: (x - self.min) / distance)(dataset)\n",
        "    \n",
        "    def scale(self, dataset):\n",
        "        distance = self.max - self.min\n",
        "        return np.vectorize(lambda x: x * distance + self.min)(dataset)"
      ]
    },
    {
      "cell_type": "code",
      "execution_count": 15,
      "metadata": {
        "id": "0uoyXw7ymWvj"
      },
      "outputs": [
        {
          "name": "stdout",
          "output_type": "stream",
          "text": [
            "Size is 3019 Min is  71.74 Max is  215.8\n",
            "Size is 3019 Min is  0.0 Max is  1.0\n",
            "Train Size (2110,) Test Size (909,)\n"
          ]
        }
      ],
      "source": [
        "import numpy as np\n",
        "\n",
        "ibm_close_dataset = ibm_df['Close'].to_numpy()\n",
        "print(\n",
        "    \"Size is\", ibm_close_dataset.shape[0], \n",
        "    \"Min is \", np.min(ibm_close_dataset),\n",
        "    \"Max is \", np.max(ibm_close_dataset))\n",
        "\n",
        "mm_scaler = MinMaxScaler(ibm_close_dataset)\n",
        "norm_dataset  = mm_scaler.std(ibm_close_dataset)\n",
        "print(\n",
        "    \"Size is\", norm_dataset.shape[0], \n",
        "    \"Min is \", np.min(norm_dataset),\n",
        "    \"Max is \", np.max(norm_dataset))\n",
        "\n",
        "seq_length = 15\n",
        "train_size = int(norm_dataset.shape[0]//seq_length*0.7*seq_length)\n",
        "test_size = norm_dataset.shape[0] - train_size\n",
        "\n",
        "train_dataset = norm_dataset[:train_size]\n",
        "test_dataset  = norm_dataset[train_size:]\n",
        "print(\n",
        "    \"Train Size\", train_dataset.shape,\n",
        "    \"Test Size\", test_dataset.shape\n",
        ")"
      ]
    },
    {
      "cell_type": "markdown",
      "metadata": {
        "id": "Ocb08Ht1mW4E"
      },
      "source": [
        "# Train the RNN model."
      ]
    },
    {
      "cell_type": "markdown",
      "metadata": {},
      "source": [
        "## Define Model with Forward & Backward pass\n",
        "\n",
        "Notation:\n",
        "- H is hidden state\n",
        "- X is input\n",
        "- O_hat is predicted output\n",
        "- O is actual output\n",
        "- W_h, W_x, W_o are weights suffixed with their corresponding multipliers\n",
        "- B_h and B_o are bias for hidden state and output linear computation\n",
        "- J is cost function (square of residual)\n",
        "- J_sum is cummulative cost (sum of square of residual)\n",
        "- t is the time/step\n",
        "\n",
        "Forward pass:\n",
        "- H_raw[t] = W_h . H[t-1] + W_x . X_t + B_h\n",
        "- H[t] = tanh( H_raw[t] )\n",
        "- O_hat[t] = W_o . H[t] + B_o\n",
        "- diff[t] = O[t] - O_hat[t]\n",
        "- J[t] = (diff[t]) ** 2\n",
        "- J_sum = sum(J)\n",
        "\n",
        "Backward pass (refer to the image below which depicts the computation):\n",
        "- dJ_sum = 1\n",
        "- dJ[t] = dJ_sum . 1\n",
        "- dO_hat[t] = 2 * diff[t] . ddiff_dOhat . dJ[t]\n",
        "-           = -2 . (O[t] - O_hat[t]) . dJ[t]\n",
        "- dB_o = sum(dO_hat)\n",
        "- dW_o = sum(temp) where temp[t] = dO_hat[t] . transpose(H[t])\n",
        "- dH[t] = transpose(W_o) . dO_hat[t]\n",
        "- dH_raw[t] = (1 - H[t]**2) . ( dH[t] + transpose(W_h) . dH_raw[t+1] )\n",
        "- dB_h = sum(dH_raw)\n",
        "- dW_h = sum(temp) where temp = dH_raw[t] . transpose(H[t-1])\n",
        "- dW_x = sum(temp) where temp = dH_raw[t] . transpose(X[t])\n",
        "\n",
        "Note: \n",
        "- when t = 0, H[t-1] is H_s which is 0 (or from prev pass) \n",
        "- when t = N (i.e. input length), dH_raw[t+1] is 0 when t = N\n",
        "\n",
        "Computation graph with forward and back passes (N = 2, i.e t = 0 & t = 1)\n",
        "![vanilla rnn comp graph](./comp_graph_vanilla_rnn_1.jpg)"
      ]
    },
    {
      "cell_type": "code",
      "execution_count": 16,
      "metadata": {
        "id": "IV6T10IimXAU"
      },
      "outputs": [],
      "source": [
        "\n",
        "import numpy as np\n",
        "\n",
        "class VanillaRNN:\n",
        "    def __init__(self, io_dim=1, hidden_dim=100):\n",
        "        self.io_dim = io_dim\n",
        "        self.hidden_dim = hidden_dim\n",
        "        \n",
        "        self.H_prev = np.zeros((hidden_dim, io_dim)) * 0.01\n",
        "        self.W_x = np.random.randn(hidden_dim, io_dim) * 0.01\n",
        "        self.W_h = np.random.randn(hidden_dim, hidden_dim) * 0.01\n",
        "        self.B_h = np.random.randn(hidden_dim, io_dim) * 0.01\n",
        "        \n",
        "        self.W_o = np.random.randn(io_dim, hidden_dim) * 0.01\n",
        "        self.B_o = np.random.randn(io_dim, io_dim) * 0.01\n",
        "        \n",
        "        ## for adagrad momentum term\n",
        "        self.grad_sacc = [\n",
        "            np.zeros_like(self.W_x), \n",
        "            np.zeros_like(self.W_h), \n",
        "            np.zeros_like(self.B_h), \n",
        "            np.zeros_like(self.W_o), \n",
        "            np.zeros_like(self.B_o)\n",
        "        ]\n",
        "    \n",
        "    def reset_hidden_state(self):\n",
        "        self.H_prev = np.zeros((self.hidden_dim, self.io_dim))\n",
        "    \n",
        "    def predict(self, X_seed, num_predictions):\n",
        "        o_hat = []\n",
        "        h = self.H_prev\n",
        "        x = X_seed\n",
        "        for _ in range(num_predictions):\n",
        "            h = np.tanh(np.dot(self.W_x, x) + np.dot(self.W_h, h) + self.B_h)\n",
        "            o = np.dot(self.W_o, h) + self.B_o\n",
        "            o_hat.append(o)\n",
        "            x = o\n",
        "        return o_hat\n",
        "    \n",
        "    def forward(self, X, O):\n",
        "        # H_raw[t] = W_h . H[t-1] + W_x . X_t + B_h\n",
        "        # H[t] = tanh( H_raw[t] )\n",
        "        # O_hat[t] = W_o . H[t] + B_o\n",
        "        # J[t] = (O[t] - O_hat[t]) ** 2\n",
        "        # J_sum = sum(J)\n",
        "\n",
        "        # do forward pass\n",
        "        local_h_prev = self.H_prev\n",
        "        H_raw, H, O_hat, J = [], [local_h_prev], [], []\n",
        "        J_sum = 0\n",
        "        N = len(X)\n",
        "        for t in range(N):\n",
        "            H_raw.append(np.dot(self.W_x, X[t]) + np.dot(self.W_h, local_h_prev) + self.B_h)\n",
        "            H_cur = np.tanh(H_raw[t])\n",
        "            H.append(H_cur)\n",
        "            O_hat.append(np.dot(self.W_o, H_cur) + self.B_o)\n",
        "            J.append((O[t] - O_hat[t])**2)\n",
        "            J_sum += J[t].item(0)\n",
        "            local_h_prev = H_cur\n",
        "        \n",
        "        self.H_prev = local_h_prev\n",
        "        self.mem = (X, H_raw, H, O_hat, O, J, J_sum)\n",
        "        \n",
        "        return J_sum, O_hat\n",
        "    \n",
        "    def backward(self):\n",
        "        # dJ_sum = 1\n",
        "        # dJ[t] = dJ_sum\n",
        "        # dO_hat[t] = 2 * ( transpose(O[t] - O_hat[t]) . dJ[t] )\n",
        "        # dB_o = sum(dO_hat)\n",
        "        # dW_o = sum(temp) where temp[t] = dO_hat[t] . transpose(H[t])\n",
        "        # dH[t] = transpose(W_o) . dO_hat[t]\n",
        "        # dH_raw[t] = (1 - H[t]**2) . ( dH[t] + transpose(W_h) . dH_raw[t+1] )\n",
        "        # dB_h = sum(dH_raw)\n",
        "        # dW_h = sum(temp) where temp = transpose(H[t-1]) . dH_raw[t]\n",
        "        # dW_x = sum(temp) where temp = transpose(X[t]) . dH_raw[t]\n",
        "        # do backward pass\n",
        "        X, H_raw, H, O_hat, O, J, J_sum = self.mem\n",
        "        \n",
        "        dB_o = np.zeros(self.B_o.shape)\n",
        "        dW_o = np.zeros(self.W_o.shape)\n",
        "        dB_h = np.zeros(self.B_h.shape)\n",
        "        dW_h = np.zeros(self.W_h.shape)\n",
        "        dW_x = np.zeros(self.W_x.shape)\n",
        "        \n",
        "        N = len(X)\n",
        "        \n",
        "        H_iter = reversed(H)\n",
        "        H_cur = next(H_iter)\n",
        "        dH_raw_next = np.zeros(H_raw[0].shape)\n",
        "        dJ_sum = np.array([[1]])\n",
        "        for t in reversed(range(N)):\n",
        "            H_prev = next(H_iter)\n",
        "            \n",
        "            dJ = dJ_sum\n",
        "            #error[t] = O[t] - O_hat[t]\n",
        "            #J[t] = (error[t]) ** 2\n",
        "            #dJ_dOhat = 2 * error[t] * derror_dohat\n",
        "            #derror_dohat = 0 - 1 = -1\n",
        "            dO_hat = 2 * (O[t] - O_hat[t]) * -1 * dJ\n",
        "            \n",
        "            # O_hat[t] = W_o . H[t] + B_o\n",
        "            dB_o = dB_o + dO_hat\n",
        "            dW_o = dW_o + np.dot(dO_hat, H_cur.T)\n",
        "            dH = np.dot(self.W_o.T, dO_hat)\n",
        "            \n",
        "            # H[t] = tanh( H_raw[t] )\n",
        "            dH_raw_temp = 1 - H_cur * H_cur\n",
        "        \n",
        "            # H_raw[t] = W_h . H[t-1] + W_x . X_t + B_h\n",
        "            dH_raw =dH_raw_temp * (dH + np.dot(self.W_h.T, dH_raw_next))\n",
        "            dB_h = dB_h + dH_raw\n",
        "            dW_h = dW_h + np.dot(dH_raw, H_prev.T)\n",
        "            dW_x = dW_x + np.dot(dH_raw, X[t].T)\n",
        "            \n",
        "            dH_raw_next = dH_raw\n",
        "            H_cur = H_prev\n",
        "        \n",
        "        # Uncomment if required\n",
        "        for dparam in [dW_x, dW_h, dB_h, dW_o, dB_o]:\n",
        "            np.clip(dparam, -5, 5, out=dparam)\n",
        "        \n",
        "        self.gradients = [dW_x, dW_h, dB_h, dW_o, dB_o]\n",
        "    \n",
        "    def step(self, learn_rate=0.001, epsilon=10e-8):\n",
        "        ## SGD\n",
        "        self.W_x = self.W_x - learn_rate * self.gradients[0]\n",
        "        self.W_h = self.W_h - learn_rate * self.gradients[1]\n",
        "        self.B_h = self.B_h - learn_rate * self.gradients[2]\n",
        "        self.W_o = self.W_o - learn_rate * self.gradients[3]\n",
        "        self.B_o = self.B_o - learn_rate * self.gradients[4]\n",
        "        \n",
        "        ## auto grad\n",
        "        dw_avg = [] ## auto grad mometum\n",
        "        for i in range(len(self.gradients)):\n",
        "            self.grad_sacc[i] +=  self.gradients[i] ** 2\n",
        "            dw_avg.append(self.gradients[i] / np.sqrt(self.grad_sacc[i]+epsilon))\n",
        "            \n",
        "        # self.W_x = self.W_x - learn_rate * dw_avg[0]\n",
        "        # self.W_h = self.W_h - learn_rate * dw_avg[1]\n",
        "        # self.B_h = self.B_h - learn_rate * dw_avg[2]\n",
        "        # self.W_o = self.W_o - learn_rate * dw_avg[3]\n",
        "        # self.B_o = self.B_o - learn_rate * dw_avg[4]"
      ]
    },
    {
      "cell_type": "code",
      "execution_count": 40,
      "metadata": {},
      "outputs": [],
      "source": [
        "import torch\n",
        "\n",
        "class VanillaRNNTorch(torch.nn.Module):\n",
        "    \n",
        "    def __init__(self, io_dim: int = 1, hidden_dim: int = 100):\n",
        "        super().__init__()\n",
        "        self.io_dim = io_dim\n",
        "        self.hidden_dim = hidden_dim\n",
        "        \n",
        "        self.i2h = torch.nn.Linear(in_features=io_dim, out_features=hidden_dim)\n",
        "        self.h2h = torch.nn.Linear(in_features=hidden_dim, out_features=hidden_dim)\n",
        "        self.h2O = torch.nn.Linear(in_features=hidden_dim, out_features=io_dim)\n",
        "    \n",
        "    def forward(self, X, H_prev):\n",
        "        Z_x = self.i2h(X)\n",
        "        Z_h = self.h2h(H_prev)\n",
        "        H = torch.tanh(Z_x + Z_h)\n",
        "        Y_hat = self.h2O(H)\n",
        "        \n",
        "        return Y_hat, H.detach()\n",
        "    \n",
        "    def init_hidden_state(self):\n",
        "        return torch.zeros(1, self.hidden_dim, requires_grad=False)"
      ]
    },
    {
      "cell_type": "code",
      "execution_count": 37,
      "metadata": {},
      "outputs": [
        {
          "name": "stdout",
          "output_type": "stream",
          "text": [
            "0.26502786916026844 [array([[0.01421778]]), array([[0.01421141]]), array([[0.01420509]])]\n",
            "[array([[0.01593266]]), array([[0.01593798]]), array([[0.01593798]])]\n"
          ]
        }
      ],
      "source": [
        "#test the network with toy example\n",
        "testnet = VanillaRNN(io_dim=1, hidden_dim=2)\n",
        "\n",
        "#TODO: add deterministic initial weights & \n",
        "#   compare the grads & updates with by hand calculation \n",
        "\n",
        "X = np.array([[0.1], [0.2], [0.3]]).reshape(-1, 1, 1)\n",
        "Y = np.array([[0.2], [0.3], [0.4]]).reshape(-1, 1, 1)\n",
        "\n",
        "loss, Y_pred = testnet.forward(X, Y)\n",
        "testnet.backward()\n",
        "testnet.step()\n",
        "print(loss, Y_pred)\n",
        "\n",
        "y_pred = testnet.predict(np.array([0.1]).reshape(-1,  1), 3)\n",
        "print(y_pred)\n"
      ]
    },
    {
      "cell_type": "markdown",
      "metadata": {},
      "source": [
        "## Train the model using VanillaRNN"
      ]
    },
    {
      "cell_type": "code",
      "execution_count": 84,
      "metadata": {},
      "outputs": [],
      "source": [
        "def train(net, data, learn_rate):\n",
        "    i = 0\n",
        "    losses = list()\n",
        "    epoch_loss = 0\n",
        "    num_iterations = 0\n",
        "    while i+1+seq_length < len(data):\n",
        "        train_X = data[i:i+seq_length].reshape(-1, 1, 1)\n",
        "        train_Y = data[i+1:i+1+seq_length].reshape(-1, 1, 1)\n",
        "        \n",
        "        loss, _ = net.forward(train_X, train_Y)\n",
        "        net.backward()\n",
        "        net.step(learn_rate)\n",
        "        \n",
        "        i = i + seq_length\n",
        "        losses.append(loss / train_X.shape[0])\n",
        "        epoch_loss += loss\n",
        "        num_iterations += 1\n",
        "    \n",
        "    return epoch_loss, np.mean(losses)\n",
        "\n",
        "def test(net, dataX, dataY):\n",
        "    loss = 0\n",
        "    y_hat = []\n",
        "    for i in range(len(dataX)):\n",
        "        X = dataX[i]\n",
        "        y_pred = net.predict(X.reshape(-1, 1), seq_length)[seq_length-1]\n",
        "        if i+15 < len(dataY):\n",
        "            y_actual = dataY[i]\n",
        "            loss += y_actual - y_pred\n",
        "        y_hat.append(np.squeeze(y_pred, axis=1))\n",
        "    \n",
        "    return y_hat, loss, loss/len(dataY)"
      ]
    },
    {
      "cell_type": "code",
      "execution_count": 38,
      "metadata": {},
      "outputs": [
        {
          "name": "stdout",
          "output_type": "stream",
          "text": [
            "epoch# 10: total_loss=2.6706380978141544 mean_loss=0.0012717324275305488\n",
            "epoch# 20: total_loss=0.5766366257945197 mean_loss=0.0002745888694259618\n",
            "epoch# 30: total_loss=0.5693294114525962 mean_loss=0.0002711092435488553\n",
            "epoch# 40: total_loss=0.5625261005401629 mean_loss=0.00026786957168579187\n",
            "epoch# 50: total_loss=0.556034305146963 mean_loss=0.0002647782405461728\n",
            "epoch# 60: total_loss=0.5498331107587664 mean_loss=0.0002618252908375078\n",
            "epoch# 70: total_loss=0.5439036249645923 mean_loss=0.0002590017261736154\n",
            "epoch# 80: total_loss=0.5382286094367148 mean_loss=0.000256299337827007\n",
            "epoch# 90: total_loss=0.5327922988041193 mean_loss=0.0002537106184781521\n",
            "epoch# 100: total_loss=0.5275802432652607 mean_loss=0.0002512286872691718\n"
          ]
        }
      ],
      "source": [
        "# seq_length\n",
        "# train_dataset, test_dataset\n",
        "\n",
        "model = VanillaRNN(io_dim=1, hidden_dim=256)\n",
        "\n",
        "learn_rate = 0.001\n",
        "max_epochs = 100\n",
        "\n",
        "for epoch in range(1, max_epochs+1):\n",
        "    i = 0\n",
        "    #model.reset_hidden_state()\n",
        "    epoch_loss, mean_loss = train(model, train_dataset, learn_rate)\n",
        "    \n",
        "    if epoch%10 == 0:\n",
        "        print(\"epoch# {}: total_loss={} mean_loss={}\".format(epoch, epoch_loss, mean_loss))\n",
        "\n",
        "train_loss, train_predict = test(model, train_dataset)\n",
        "test_loss, test_predict = test(model, test_dataset)"
      ]
    },
    {
      "cell_type": "code",
      "execution_count": 86,
      "metadata": {},
      "outputs": [
        {
          "name": "stdout",
          "output_type": "stream",
          "text": [
            "\n",
            "range=71.74-215.8; Y_pred's range=149.70010147409477-193.06556157493844\n"
          ]
        }
      ],
      "source": [
        "y_hat, test_loss, test_mloss = test(model, test_dataset, test_dataset[15:])\n",
        "\n",
        "Y_hat_denorm  = mm_scaler.scale(y_hat)\n",
        "print()\n",
        "print(\"range={}-{}; Y_pred's range={}-{}\".format(\n",
        "    mm_scaler.min, mm_scaler.max,\n",
        "    np.min(Y_hat_denorm), np.max(Y_hat_denorm)\n",
        "))"
      ]
    },
    {
      "cell_type": "markdown",
      "metadata": {},
      "source": [
        "## Train the model using VanillaRNN pytorch"
      ]
    },
    {
      "cell_type": "code",
      "execution_count": 31,
      "metadata": {},
      "outputs": [],
      "source": [
        "import torch\n",
        "\n",
        "class StockDataset(torch.utils.data.Dataset):\n",
        "    def __init__(self, data, seq_length=seq_length):\n",
        "        super().__init__()\n",
        "        self.data = data\n",
        "        self.seq_length = seq_length\n",
        "    \n",
        "    def __len__(self) -> int:\n",
        "        return int( len(self.data) // self.seq_length )\n",
        "    \n",
        "    def __getitem__(self, index) -> tuple[torch.Tensor, torch.Tensor]:\n",
        "        start_idx = index * self.seq_length\n",
        "        end_idx = (index + 1) * self.seq_length\n",
        "        \n",
        "        X = torch.tensor(self.data[start_idx:end_idx].reshape(-1, 1)).float()\n",
        "        Y = torch.tensor(self.data[start_idx+1:end_idx+1].reshape(-1, 1)).float()\n",
        "        return X, Y\n"
      ]
    },
    {
      "cell_type": "code",
      "execution_count": 75,
      "metadata": {},
      "outputs": [],
      "source": [
        "import torch\n",
        "\n",
        "def train_torch(tnet, data, H, criterion, optim):\n",
        "    total_losses = list()\n",
        "    epoch_loss = 0\n",
        "    tnet.train()\n",
        "    for i in range(len(data)):\n",
        "        X, Y = data[i]\n",
        "        tnet.zero_grad()\n",
        "        loss = 0\n",
        "        for i in range(X.shape[0]):\n",
        "            Y_hat, H = tnet(X[i], H)\n",
        "            l = criterion(Y_hat.squeeze(dim=1), Y[i])\n",
        "            loss += l\n",
        "            \n",
        "        loss.backward()\n",
        "        #torch.nn.utils.clip_grad_norm_(rnnModel.parameters(), 3)\n",
        "        optim.step()\n",
        "        total_losses.append(loss.detach().item() / X.shape[0])\n",
        "        epoch_loss += loss.detach().item()\n",
        "\n",
        "    mean_loss = torch.tensor(total_losses).mean()\n",
        "    return epoch_loss, mean_loss\n",
        "\n",
        "def test_torch(tnet, dataX, dataY, H, criterion):\n",
        "    Y_pred = list()\n",
        "    epoch_loss = 0\n",
        "    num_iter = 0\n",
        "    tnet.eval()\n",
        "    \n",
        "    for i in range(len(dataX)):\n",
        "        X = dataX[i][0]\n",
        "        \n",
        "        X_next = X.reshape(-1, 1)\n",
        "        for j in range(14):\n",
        "            X_next, H = tnet(X_next, H)\n",
        "        Y_hat = X_next\n",
        "        Y_pred.append(Y_hat.squeeze(dim=1).item())\n",
        "        \n",
        "        if i < len(dataY):\n",
        "            epoch_loss += criterion(Y_hat.squeeze(dim=1), dataY[i][0])\n",
        "            num_iter += 1\n",
        "            \n",
        "    return Y_pred, epoch_loss, (epoch_loss / num_iter)"
      ]
    },
    {
      "cell_type": "code",
      "execution_count": null,
      "metadata": {},
      "outputs": [],
      "source": [
        "import torch\n",
        "from torch.utils.data import TensorDataset\n",
        "\n",
        "train_data = StockDataset(train_dataset, seq_length=15)\n",
        "loss_fn = torch.nn.MSELoss(reduction='sum')\n",
        "rnnModel = VanillaRNNTorch(io_dim=1, hidden_dim=256)\n",
        "optimizer = torch.optim.Adagrad(rnnModel.parameters(), lr = 0.001)\n",
        "H = rnnModel.init_hidden_state()\n",
        "\n",
        "for epoch in range(1, 101):\n",
        "    epoch_loss, mean_loss = train_torch(rnnModel, train_data, H, loss_fn, optimizer)\n",
        "    if epoch%10 == 0:\n",
        "        print(\"epoch# {}: total_loss={} mean_loss={}\".format(epoch, epoch_loss, mean_loss))"
      ]
    },
    {
      "cell_type": "code",
      "execution_count": 81,
      "metadata": {},
      "outputs": [
        {
          "name": "stderr",
          "output_type": "stream",
          "text": [
            "/Users/n0c09jf/anaconda3/envs/pytorch/lib/python3.11/site-packages/torch/nn/modules/loss.py:536: UserWarning: Using a target size (torch.Size([])) that is different to the input size (torch.Size([1])). This will likely lead to incorrect results due to broadcasting. Please ensure they have the same size.\n",
            "  return F.mse_loss(input, target, reduction=self.reduction)\n"
          ]
        },
        {
          "name": "stdout",
          "output_type": "stream",
          "text": [
            "\n",
            "range=71.74-215.8; Y_pred's range=136.81097492396833-190.7790570604801\n"
          ]
        }
      ],
      "source": [
        "from torch.utils.data import TensorDataset\n",
        "\n",
        "test_dataX = TensorDataset(torch.tensor(test_dataset, dtype=torch.float32))\n",
        "test_dataY = TensorDataset(torch.tensor(test_dataset[15:], dtype=torch.float32))\n",
        "Y_pred, epoch_loss, mean_loss = test_torch(rnnModel, test_dataX, test_dataY, H, loss_fn)\n",
        "\n",
        "Y_pred_denorm  = mm_scaler.scale(Y_pred)\n",
        "print()\n",
        "print(\"range={}-{}; Y_pred's range={}-{}\".format(\n",
        "    mm_scaler.min, mm_scaler.max,\n",
        "    np.min(Y_pred_denorm), np.max(Y_pred_denorm)\n",
        "))"
      ]
    },
    {
      "cell_type": "markdown",
      "metadata": {
        "id": "o1o5HeMXmXJD"
      },
      "source": [
        "\n",
        "# Plot the predicted and real stock price."
      ]
    },
    {
      "cell_type": "markdown",
      "metadata": {},
      "source": [
        "## VanillaRNN coded model"
      ]
    },
    {
      "cell_type": "code",
      "execution_count": 89,
      "metadata": {
        "id": "5Xs7cN_TmXRQ"
      },
      "outputs": [
        {
          "name": "stdout",
          "output_type": "stream",
          "text": [
            "3019 3019\n"
          ]
        },
        {
          "data": {
            "text/plain": [
              "<matplotlib.legend.Legend at 0x131349410>"
            ]
          },
          "execution_count": 89,
          "metadata": {},
          "output_type": "execute_result"
        },
        {
          "data": {
            "image/png": "[encoded data removed]",
            "text/plain": [
              "<Figure size 640x480 with 1 Axes>"
            ]
          },
          "metadata": {},
          "output_type": "display_data"
        }
      ],
      "source": [
        "from datetime import datetime\n",
        "from datetime import timedelta\n",
        "from matplotlib import pyplot as plt\n",
        "\n",
        "y_pred, tloss, mloss = test(model, norm_dataset, norm_dataset[15:])\n",
        "y_pred_denorm = mm_scaler.scale(y_pred)\n",
        "\n",
        "off_dates = [dt + timedelta(days=15) for dt in ibm_df['Date'].to_list()]\n",
        "print(len(off_dates), len(y_pred_denorm))\n",
        "\n",
        "plt.plot('Date', 'Close', data=ibm_df, label='actual')\n",
        "plt.plot(off_dates, y_pred_denorm, label='predict')\n",
        "plt.legend()"
      ]
    },
    {
      "cell_type": "markdown",
      "metadata": {},
      "source": [
        "## VanillaRNN Pytorch model"
      ]
    },
    {
      "cell_type": "code",
      "execution_count": 90,
      "metadata": {},
      "outputs": [
        {
          "name": "stderr",
          "output_type": "stream",
          "text": [
            "/Users/n0c09jf/anaconda3/envs/pytorch/lib/python3.11/site-packages/torch/nn/modules/loss.py:536: UserWarning: Using a target size (torch.Size([])) that is different to the input size (torch.Size([1])). This will likely lead to incorrect results due to broadcasting. Please ensure they have the same size.\n",
            "  return F.mse_loss(input, target, reduction=self.reduction)\n"
          ]
        },
        {
          "name": "stdout",
          "output_type": "stream",
          "text": [
            "3019 3019\n"
          ]
        },
        {
          "data": {
            "text/plain": [
              "<matplotlib.legend.Legend at 0x1332112d0>"
            ]
          },
          "execution_count": 90,
          "metadata": {},
          "output_type": "execute_result"
        },
        {
          "data": {
            "image/png": "[encoded data removed]",
            "text/plain": [
              "<Figure size 640x480 with 1 Axes>"
            ]
          },
          "metadata": {},
          "output_type": "display_data"
        }
      ],
      "source": [
        "from datetime import datetime\n",
        "from datetime import timedelta\n",
        "from matplotlib import pyplot as plt\n",
        "\n",
        "from torch.utils.data import TensorDataset\n",
        "\n",
        "test_dataX = TensorDataset(torch.tensor(norm_dataset, dtype=torch.float32))\n",
        "test_dataY = TensorDataset(torch.tensor(norm_dataset[15:], dtype=torch.float32))\n",
        "y_pred, tloss, mloss = test_torch(rnnModel, test_dataX, test_dataY, H, loss_fn)\n",
        "y_pred_denorm = mm_scaler.scale(y_pred)\n",
        "\n",
        "off_dates = [dt + timedelta(days=15) for dt in ibm_df['Date'].to_list()]\n",
        "print(len(off_dates), len(y_pred_denorm))\n",
        "\n",
        "plt.plot('Date', 'Close', data=ibm_df, label='actual')\n",
        "plt.plot(off_dates, y_pred_denorm, label='predict')\n",
        "plt.legend()"
      ]
    }
  ],
  "metadata": {
    "colab": {
      "provenance": []
    },
    "kernelspec": {
      "display_name": "Python 3",
      "name": "python3"
    },
    "language_info": {
      "codemirror_mode": {
        "name": "ipython",
        "version": 3
      },
      "file_extension": ".py",
      "mimetype": "text/x-python",
      "name": "python",
      "nbconvert_exporter": "python",
      "pygments_lexer": "ipython3",
      "version": "3.11.4"
    }
  },
  "nbformat": 4,
  "nbformat_minor": 0
}
