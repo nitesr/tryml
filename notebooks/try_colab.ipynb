{
  "nbformat": 4,
  "nbformat_minor": 0,
  "metadata": {
    "colab": {
      "provenance": [],
      "authorship_tag": "ABX9TyOkfWEO2fISbz8lcmMiucUp",
      "include_colab_link": true
    },
    "kernelspec": {
      "name": "python3",
      "display_name": "Python 3"
    },
    "language_info": {
      "name": "python"
    }
  },
  "cells": [
    {
      "cell_type": "markdown",
      "metadata": {
        "id": "view-in-github",
        "colab_type": "text"
      },
      "source": [
        "<a href=\"https://colab.research.google.com/github/nitesr/tryml/blob/main/notebooks/try_colab.ipynb\" target=\"_parent\"><img src=\"https://colab.research.google.com/assets/colab-badge.svg\" alt=\"Open In Colab\"/></a>"
      ]
    },
    {
      "cell_type": "markdown",
      "source": [
        "# This is a test to\n",
        "- save a new notebook to github\n",
        "- get, update and commit the changes from github"
      ],
      "metadata": {
        "id": "5C7mdLFah0CE"
      }
    },
    {
      "cell_type": "markdown",
      "source": [
        "# Experience:\n",
        "## Save a new notebook to github\n",
        " - I have authorized colab to access my github, chose the repo, entered the path to save the notebook\n",
        " - If I try to save again, I need to select the repo, enter the path again."
      ],
      "metadata": {
        "id": "uRBv7Pfjidkp"
      }
    },
    {
      "cell_type": "code",
      "source": [],
      "metadata": {
        "id": "EUxFfg6Pittq"
      },
      "execution_count": null,
      "outputs": []
    }
  ]
}