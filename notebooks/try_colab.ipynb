{
  "nbformat": 4,
  "nbformat_minor": 0,
  "metadata": {
    "colab": {
      "provenance": [],
      "authorship_tag": "ABX9TyPN2CJiHcBNGmIh799CLjlu",
      "include_colab_link": true
    },
    "kernelspec": {
      "name": "python3",
      "display_name": "Python 3"
    },
    "language_info": {
      "name": "python"
    }
  },
  "cells": [
    {
      "cell_type": "markdown",
      "metadata": {
        "id": "view-in-github",
        "colab_type": "text"
      },
      "source": [
        "<a href=\"https://colab.research.google.com/github/nitesr/tryml/blob/main/notebooks/try_colab.ipynb\" target=\"_parent\"><img src=\"https://colab.research.google.com/assets/colab-badge.svg\" alt=\"Open In Colab\"/></a>"
      ]
    },
    {
      "cell_type": "markdown",
      "source": [
        "This is a test to\n",
        "- save a new notebook to github\n",
        "- get, update and commit the changes from github"
      ],
      "metadata": {
        "id": "5C7mdLFah0CE"
      }
    },
    {
      "cell_type": "code",
      "source": [],
      "metadata": {
        "id": "C5W6uoIViFbo"
      },
      "execution_count": null,
      "outputs": []
    }
  ]
}