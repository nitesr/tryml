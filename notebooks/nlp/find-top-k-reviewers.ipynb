{
 "cells": [
  {
   "cell_type": "code",
   "execution_count": null,
   "metadata": {},
   "outputs": [],
   "source": [
    "!pip3 install numpy\n",
    "!pip3 install matplotlib\n",
    "!pip3 install pandas\n",
    "!pip3 install PyPDF2\n",
    "!pip3 install pytorch\n",
    "!pip3 install gensim\n",
    "!pip3 install nltk\n",
    "!pip3 install sklearn"
   ]
  }
 ],
 "metadata": {
  "language_info": {
   "name": "python"
  },
  "orig_nbformat": 4
 },
 "nbformat": 4,
 "nbformat_minor": 2
}
