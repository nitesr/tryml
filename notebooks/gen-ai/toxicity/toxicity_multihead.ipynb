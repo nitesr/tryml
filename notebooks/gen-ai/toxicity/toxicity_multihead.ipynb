{
 "cells": [
  {
   "cell_type": "code",
   "execution_count": 1,
   "metadata": {},
   "outputs": [],
   "source": [
    "# !pip3 install huggingface\n",
    "# !pip3 install huggingface_hub\n",
    "# !pip3 install datasets\n",
    "# !pip3 install kaggle\n",
    "# !pip3 install pandas\n",
    "# !pip3 install matplotlib\n",
    "# !pip3 install transformers"
   ]
  },
  {
   "cell_type": "markdown",
   "metadata": {},
   "source": [
    "# Kaggle "
   ]
  },
  {
   "cell_type": "code",
   "execution_count": null,
   "metadata": {},
   "outputs": [],
   "source": [
    "IN_COLAB = 'google.colab' in str(get_ipython())\n",
    "print(f\"in colab - {IN_COLAB}\")\n",
    "\n",
    "if IN_COLAB:\n",
    "    !rm /root/.kaggle\n",
    "    !mkdir -p /root/.kaggle\n",
    "    !cp ./kaggle.json /root/.kaggle/kaggle.json\n",
    "    !chmod 600 /root/.kaggle/kaggle.json"
   ]
  },
  {
   "cell_type": "code",
   "execution_count": 2,
   "metadata": {},
   "outputs": [],
   "source": [
    "from zipfile import ZipFile\n",
    "import os\n",
    "import shutil\n",
    "from zipfile import ZipFile\n",
    "\n",
    "from kaggle.api.kaggle_api_extended import KaggleApi\n",
    "\n",
    "DATA_DIR = './_data'\n",
    "JIGSAW_DIR = DATA_DIR+'/jigsaw'\n",
    "\n",
    "\n",
    "os.makedirs(JIGSAW_DIR, exist_ok = True)\n",
    "\n",
    "zip_file = DATA_DIR+'/jigsaw-toxic-comment-classification-challenge.zip'\n",
    "if not os.path.exists(zip_file):\n",
    "    k_api = KaggleApi()\n",
    "    k_api.authenticate()\n",
    "    \n",
    "    k_api.dataset_download_files(\n",
    "        dataset='julian3833/jigsaw-toxic-comment-classification-challenge',\n",
    "        unzip=False,\n",
    "        path=DATA_DIR\n",
    "    )\n",
    "\n",
    "zf = ZipFile(zip_file)\n",
    "zf.extractall(JIGSAW_DIR) \n",
    "zf.close()\n",
    "\n",
    "JIGSAW_TRAIN_PATH = JIGSAW_DIR+'/train.csv'\n",
    "JIGSAW_TEST_X_PATH = JIGSAW_DIR+'/test.csv'\n",
    "JIGSAW_TEST_Y_PATH = JIGSAW_DIR+'/test_labels.csv'\n"
   ]
  },
  {
   "cell_type": "code",
   "execution_count": 3,
   "metadata": {},
   "outputs": [],
   "source": [
    "import pandas as pd\n",
    "\n",
    "df  = pd.read_csv(JIGSAW_TRAIN_PATH)"
   ]
  },
  {
   "cell_type": "code",
   "execution_count": 4,
   "metadata": {},
   "outputs": [
    {
     "name": "stderr",
     "output_type": "stream",
     "text": [
      "/Users/n0c09jf/anaconda3/envs/pytorch/lib/python3.11/site-packages/tqdm/auto.py:21: TqdmWarning: IProgress not found. Please update jupyter and ipywidgets. See https://ipywidgets.readthedocs.io/en/stable/user_install.html\n",
      "  from .autonotebook import tqdm as notebook_tqdm\n"
     ]
    }
   ],
   "source": [
    "from typing import Any\n",
    "from transformers import RobertaTokenizer\n",
    "from transformers import RobertaModel\n",
    "\n",
    "from torch import nn\n",
    "\n",
    "class Encoder(nn.Module):\n",
    "    def __init__(self) -> None:\n",
    "        super(Encoder, self).__init__()\n",
    "        \n",
    "        self.tokenizer = RobertaTokenizer.from_pretrained('roberta-base')\n",
    "        self.model = RobertaModel.from_pretrained('roberta-base')\n",
    "        self.model.eval()\n",
    "    \n",
    "    def forward(self, texts):\n",
    "        tokens = self.tokenizer(\n",
    "            texts, \n",
    "            return_tensors='pt', \n",
    "            padding=True, \n",
    "            truncation=True)\n",
    "        embeddings = self.model(**tokens)['pooler_output']\n",
    "        return embeddings\n",
    "        \n",
    "    def __call__(self, *args: Any, **kwds: Any) -> Any:\n",
    "        return self.forward(args[0])"
   ]
  },
  {
   "cell_type": "code",
   "execution_count": 5,
   "metadata": {},
   "outputs": [],
   "source": [
    "import torch.nn as nn\n",
    "\n",
    "class MultiLabelClassificationHead(nn.Module):\n",
    "    def __init__(self, hidden_size, nlabels) -> None:\n",
    "        super(MultiLabelClassificationHead, self).__init__()\n",
    "        self.hidden_size = hidden_size\n",
    "        self.nlabels = nlabels\n",
    "        \n",
    "        self.input = nn.Linear(\n",
    "            in_features=self.hidden_size, \n",
    "            out_features=self.hidden_size, bias=True)\n",
    "        \n",
    "        def label_model():\n",
    "            return nn.Sequential(\n",
    "                nn.Dropout(p=0.1, inplace=False),\n",
    "                nn.Linear(in_features=self.hidden_size,\n",
    "                          out_features=2, bias=True)\n",
    "            )\n",
    "            \n",
    "        self.heads = nn.ModuleList([\n",
    "            label_model() for label in range(0, nlabels)\n",
    "        ])\n",
    "    \n",
    "    def forward(self, x):\n",
    "        x = self.input(x)\n",
    "        \n",
    "        y_pred = []\n",
    "        for m in self.heads:\n",
    "            y_pred.append(m(x))\n",
    "        \n",
    "        return y_pred"
   ]
  },
  {
   "cell_type": "code",
   "execution_count": 6,
   "metadata": {},
   "outputs": [],
   "source": [
    "from torch.utils.data import Dataset\n",
    "import torch\n",
    "import numpy as np\n",
    "\n",
    "class ToxicDataset(Dataset):\n",
    "    def __init__(self, dataframe, encoder, labels) -> None:\n",
    "        super(ToxicDataset, self).__init__()\n",
    "        self.dataframe = dataframe\n",
    "        self.encoder = encoder\n",
    "        self.labels = labels\n",
    "    \n",
    "    def __getitem__(self, index) -> Any:\n",
    "        text = self.dataframe.iloc[index]['comment_text']\n",
    "        \n",
    "        embedding = self.encoder([text])[0]\n",
    "        labels = self.dataframe.iloc[index][self.labels].to_numpy()\n",
    "        \n",
    "        return embedding, torch.from_numpy(labels.astype(np.float32))\n",
    "    \n",
    "    def __len__(self):\n",
    "        return len(self.dataframe)"
   ]
  },
  {
   "cell_type": "code",
   "execution_count": 7,
   "metadata": {},
   "outputs": [
    {
     "name": "stderr",
     "output_type": "stream",
     "text": [
      "Some weights of RobertaModel were not initialized from the model checkpoint at roberta-base and are newly initialized: ['roberta.pooler.dense.bias', 'roberta.pooler.dense.weight']\n",
      "You should probably TRAIN this model on a down-stream task to be able to use it for predictions and inference.\n"
     ]
    }
   ],
   "source": [
    "from torch.utils.data import DataLoader\n",
    "import torch\n",
    "\n",
    "device = torch.device(\"cuda\" if torch.cuda.is_available() else \"cpu\")\n",
    "labels = [\"toxic\", \"severe_toxic\", \"obscene\", \"threat\", \"insult\", \"identity_hate\"]\n",
    "\n",
    "encoder_model = Encoder()\n",
    "classify_model = MultiLabelClassificationHead(768, len(labels)).to(device)\n",
    "\n",
    "BATCH_SIZE = 64\n",
    "def to_dataloader(dataframe):\n",
    "    ds = ToxicDataset(dataframe, encoder_model, labels)\n",
    "    dl = DataLoader(\n",
    "        ds, batch_size=BATCH_SIZE, shuffle=True)\n",
    "    return dl"
   ]
  },
  {
   "cell_type": "code",
   "execution_count": 8,
   "metadata": {},
   "outputs": [],
   "source": [
    "import os\n",
    "\n",
    "MODELS_DIR = './_models'\n",
    "JIGSAW_MODEL_DIR = './_models/jigsaw'\n",
    "os.makedirs(JIGSAW_MODEL_DIR, exist_ok=True)\n",
    "\n",
    "\n",
    "def save_model(model, name) -> None:\n",
    "    torch.save(\n",
    "        model.state_dict(), JIGSAW_MODEL_DIR+'/'+name)\n",
    "\n",
    "\n",
    "def load_model(model, name) -> Any:\n",
    "    if os.path.exists(JIGSAW_MODEL_DIR+'/'+name):\n",
    "        model.load_state_dict(torch.load(JIGSAW_MODEL_DIR+'/'+name))\n",
    "    else:\n",
    "        print(f\"{name} not found!\")\n",
    "    return model"
   ]
  },
  {
   "cell_type": "code",
   "execution_count": 9,
   "metadata": {},
   "outputs": [],
   "source": [
    "import torch\n",
    "from sklearn.metrics import multilabel_confusion_matrix\n",
    "from sklearn.metrics import classification_report, hamming_loss\n",
    "from sklearn.metrics import average_precision_score\n",
    "\n",
    "def train_epoch(model, dataloader, lossFn, optimizer):\n",
    "    epoch_loss = 0\n",
    "    model.train()\n",
    "    for input_tensor, target_tensor in dataloader:\n",
    "        optimizer.zero_grad()\n",
    "        \n",
    "        input_tensor = input_tensor.to(device)\n",
    "        target_tensor = target_tensor.to(device)\n",
    "        \n",
    "        probs = model(input_tensor)\n",
    "        loss = lossFn(probs, target_tensor)\n",
    "        \n",
    "        loss.backward()\n",
    "        optimizer.step()\n",
    "        \n",
    "        epoch_loss += loss.detach().item()\n",
    "\n",
    "    epoch_mean_loss = epoch_loss/len(dataloader)\n",
    "    return epoch_mean_loss\n",
    "\n",
    "def val_epoch(model, dataloader, lossFn):\n",
    "    epoch_loss = 0\n",
    "    model.eval()\n",
    "\n",
    "    y_pred = []\n",
    "    y_actual = []\n",
    "    \n",
    "    with torch.no_grad():\n",
    "        for input_tensor, target_tensor in dataloader:\n",
    "            input_tensor = input_tensor.to(device)\n",
    "            target_tensor = target_tensor.to(device)\n",
    "        \n",
    "            logits = model(input_tensor)\n",
    "            \n",
    "            loss = lossFn(logits, target_tensor)\n",
    "            epoch_loss += loss.detach().item()\n",
    "            \n",
    "            predictions = []\n",
    "            for logit in logits:\n",
    "                _, predicted = torch.max(logit,1)\n",
    "                predictions.append(torch.Tensor.cpu(predicted).detach())\n",
    "            \n",
    "            y_pred.extend(list(np.column_stack(predictions)))\n",
    "            y_actual.extend(list(torch.Tensor.cpu(target_tensor.detach()).numpy()))\n",
    "\n",
    "    epoch_mean_loss = epoch_loss/len(dataloader)\n",
    "    return epoch_mean_loss, y_pred, y_actual\n",
    "\n",
    "def compute_metrics(y_actual, y_pred):\n",
    "    hl = hamming_loss(y_actual, y_pred)\n",
    "    map = average_precision_score(y_actual, y_pred, average='micro')\n",
    "    wap = average_precision_score(y_actual, y_pred, average='weighted')\n",
    "    return hl, map, wap"
   ]
  },
  {
   "cell_type": "code",
   "execution_count": 10,
   "metadata": {},
   "outputs": [
    {
     "name": "stdout",
     "output_type": "stream",
     "text": [
      "4.185133457183838\n",
      "[array([0, 0, 0, 0, 0, 0]), array([0, 0, 0, 0, 0, 0])]\n",
      "[array([0., 0., 0., 0., 0., 0.], dtype=float32), array([0., 0., 0., 0., 0., 0.], dtype=float32)]\n",
      "(0.0, 0.0, 0)\n"
     ]
    },
    {
     "name": "stderr",
     "output_type": "stream",
     "text": [
      "/Users/n0c09jf/anaconda3/envs/pytorch/lib/python3.11/site-packages/sklearn/metrics/_ranking.py:979: UserWarning: No positive class found in y_true, recall is set to one for all thresholds.\n",
      "  warnings.warn(\n"
     ]
    }
   ],
   "source": [
    "from torch.nn import CrossEntropyLoss\n",
    "import numpy as np\n",
    "\n",
    "cel = CrossEntropyLoss()\n",
    "\n",
    "def loss_fn(predictions, actuals):\n",
    "    losses = 0\n",
    "    for i, prediction in enumerate(predictions):\n",
    "        losses += cel(prediction, actuals[:,i].long())\n",
    "    return losses\n",
    "    \n",
    "optim = torch.optim.Adam(classify_model.parameters(), lr=0.001)\n",
    "\n",
    "sample_df = df[0:2]\n",
    "dl = to_dataloader(sample_df)\n",
    "loss = train_epoch(classify_model, dl, loss_fn, optim)\n",
    "print(loss)\n",
    "\n",
    "_, y_pred, y_actual = val_epoch(classify_model, dl, loss_fn)\n",
    "print(y_pred)\n",
    "print(y_actual)\n",
    "print(compute_metrics(y_actual, y_pred))"
   ]
  },
  {
   "cell_type": "code",
   "execution_count": 11,
   "metadata": {},
   "outputs": [
    {
     "name": "stdout",
     "output_type": "stream",
     "text": [
      "epoch-5: losses - train 505.3515, val 553.1869; (hl,map,wap): (0.315, 0.0917, 0.0961))\n",
      "epoch-10: losses - train 17.5505, val 27.5977; (hl,map,wap): (0.045, 0.2548, 0.341))\n",
      "epoch-15: losses - train 16.1883, val 338.8826; (hl,map,wap): (0.685, 0.0743, 0.1004))\n",
      "epoch-20: losses - train 132.3013, val 95.1565; (hl,map,wap): (0.1083, 0.2006, 0.3228))\n",
      "epoch-25: losses - train 315.0006, val 152.1738; (hl,map,wap): (0.0533, 0.3459, 0.3612))\n",
      "epoch-30: losses - train 25.2111, val 65.6796; (hl,map,wap): (0.0333, 0.4366, 0.5003))\n",
      "epoch-35: losses - train 24.4281, val 56.2684; (hl,map,wap): (0.03, 0.499, 0.5365))\n",
      "epoch-40: losses - train 27.997, val 40.8532; (hl,map,wap): (0.0283, 0.5159, 0.554))\n",
      "epoch-45: losses - train 21.3084, val 49.4977; (hl,map,wap): (0.03, 0.499, 0.5566))\n",
      "epoch-50: losses - train 21.0378, val 39.6309; (hl,map,wap): (0.03, 0.499, 0.5566))\n",
      "epoch-55: losses - train 18.8468, val 35.8177; (hl,map,wap): (0.03, 0.499, 0.5566))\n"
     ]
    },
    {
     "ename": "KeyboardInterrupt",
     "evalue": "",
     "output_type": "error",
     "traceback": [
      "\u001b[0;31m---------------------------------------------------------------------------\u001b[0m",
      "\u001b[0;31mKeyboardInterrupt\u001b[0m                         Traceback (most recent call last)",
      "\u001b[1;32m/Users/n0c09jf/code/github/tryml/notebooks/gen-ai/toxicity/toxicity.ipynb Cell 13\u001b[0m line \u001b[0;36m1\n\u001b[1;32m     <a href='vscode-notebook-cell:/Users/n0c09jf/code/github/tryml/notebooks/gen-ai/toxicity/toxicity.ipynb#X13sZmlsZQ%3D%3D?line=14'>15</a>\u001b[0m val_losses \u001b[39m=\u001b[39m []\n\u001b[1;32m     <a href='vscode-notebook-cell:/Users/n0c09jf/code/github/tryml/notebooks/gen-ai/toxicity/toxicity.ipynb#X13sZmlsZQ%3D%3D?line=15'>16</a>\u001b[0m \u001b[39mfor\u001b[39;00m e \u001b[39min\u001b[39;00m \u001b[39mrange\u001b[39m(\u001b[39m1\u001b[39m, epochs\u001b[39m+\u001b[39m\u001b[39m1\u001b[39m):\n\u001b[0;32m---> <a href='vscode-notebook-cell:/Users/n0c09jf/code/github/tryml/notebooks/gen-ai/toxicity/toxicity.ipynb#X13sZmlsZQ%3D%3D?line=16'>17</a>\u001b[0m     train_loss \u001b[39m=\u001b[39m train_epoch(classify_model, train_dl, loss_fn, optim)\n\u001b[1;32m     <a href='vscode-notebook-cell:/Users/n0c09jf/code/github/tryml/notebooks/gen-ai/toxicity/toxicity.ipynb#X13sZmlsZQ%3D%3D?line=17'>18</a>\u001b[0m     val_loss, y_pred, y_actual \u001b[39m=\u001b[39m val_epoch(classify_model, val_dl, loss_fn)\n\u001b[1;32m     <a href='vscode-notebook-cell:/Users/n0c09jf/code/github/tryml/notebooks/gen-ai/toxicity/toxicity.ipynb#X13sZmlsZQ%3D%3D?line=19'>20</a>\u001b[0m     train_losses\u001b[39m.\u001b[39mappend(train_loss)\n",
      "\u001b[1;32m/Users/n0c09jf/code/github/tryml/notebooks/gen-ai/toxicity/toxicity.ipynb Cell 13\u001b[0m line \u001b[0;36m1\n\u001b[1;32m     <a href='vscode-notebook-cell:/Users/n0c09jf/code/github/tryml/notebooks/gen-ai/toxicity/toxicity.ipynb#X13sZmlsZQ%3D%3D?line=14'>15</a>\u001b[0m probs \u001b[39m=\u001b[39m model(input_tensor)\n\u001b[1;32m     <a href='vscode-notebook-cell:/Users/n0c09jf/code/github/tryml/notebooks/gen-ai/toxicity/toxicity.ipynb#X13sZmlsZQ%3D%3D?line=15'>16</a>\u001b[0m loss \u001b[39m=\u001b[39m lossFn(probs, target_tensor)\n\u001b[0;32m---> <a href='vscode-notebook-cell:/Users/n0c09jf/code/github/tryml/notebooks/gen-ai/toxicity/toxicity.ipynb#X13sZmlsZQ%3D%3D?line=17'>18</a>\u001b[0m loss\u001b[39m.\u001b[39;49mbackward()\n\u001b[1;32m     <a href='vscode-notebook-cell:/Users/n0c09jf/code/github/tryml/notebooks/gen-ai/toxicity/toxicity.ipynb#X13sZmlsZQ%3D%3D?line=18'>19</a>\u001b[0m optimizer\u001b[39m.\u001b[39mstep()\n\u001b[1;32m     <a href='vscode-notebook-cell:/Users/n0c09jf/code/github/tryml/notebooks/gen-ai/toxicity/toxicity.ipynb#X13sZmlsZQ%3D%3D?line=20'>21</a>\u001b[0m epoch_loss \u001b[39m+\u001b[39m\u001b[39m=\u001b[39m loss\u001b[39m.\u001b[39mdetach()\u001b[39m.\u001b[39mitem()\n",
      "File \u001b[0;32m~/anaconda3/envs/pytorch/lib/python3.11/site-packages/torch/_tensor.py:487\u001b[0m, in \u001b[0;36mTensor.backward\u001b[0;34m(self, gradient, retain_graph, create_graph, inputs)\u001b[0m\n\u001b[1;32m    477\u001b[0m \u001b[39mif\u001b[39;00m has_torch_function_unary(\u001b[39mself\u001b[39m):\n\u001b[1;32m    478\u001b[0m     \u001b[39mreturn\u001b[39;00m handle_torch_function(\n\u001b[1;32m    479\u001b[0m         Tensor\u001b[39m.\u001b[39mbackward,\n\u001b[1;32m    480\u001b[0m         (\u001b[39mself\u001b[39m,),\n\u001b[0;32m   (...)\u001b[0m\n\u001b[1;32m    485\u001b[0m         inputs\u001b[39m=\u001b[39minputs,\n\u001b[1;32m    486\u001b[0m     )\n\u001b[0;32m--> 487\u001b[0m torch\u001b[39m.\u001b[39;49mautograd\u001b[39m.\u001b[39;49mbackward(\n\u001b[1;32m    488\u001b[0m     \u001b[39mself\u001b[39;49m, gradient, retain_graph, create_graph, inputs\u001b[39m=\u001b[39;49minputs\n\u001b[1;32m    489\u001b[0m )\n",
      "File \u001b[0;32m~/anaconda3/envs/pytorch/lib/python3.11/site-packages/torch/autograd/__init__.py:200\u001b[0m, in \u001b[0;36mbackward\u001b[0;34m(tensors, grad_tensors, retain_graph, create_graph, grad_variables, inputs)\u001b[0m\n\u001b[1;32m    195\u001b[0m     retain_graph \u001b[39m=\u001b[39m create_graph\n\u001b[1;32m    197\u001b[0m \u001b[39m# The reason we repeat same the comment below is that\u001b[39;00m\n\u001b[1;32m    198\u001b[0m \u001b[39m# some Python versions print out the first line of a multi-line function\u001b[39;00m\n\u001b[1;32m    199\u001b[0m \u001b[39m# calls in the traceback and some print out the last line\u001b[39;00m\n\u001b[0;32m--> 200\u001b[0m Variable\u001b[39m.\u001b[39;49m_execution_engine\u001b[39m.\u001b[39;49mrun_backward(  \u001b[39m# Calls into the C++ engine to run the backward pass\u001b[39;49;00m\n\u001b[1;32m    201\u001b[0m     tensors, grad_tensors_, retain_graph, create_graph, inputs,\n\u001b[1;32m    202\u001b[0m     allow_unreachable\u001b[39m=\u001b[39;49m\u001b[39mTrue\u001b[39;49;00m, accumulate_grad\u001b[39m=\u001b[39;49m\u001b[39mTrue\u001b[39;49;00m)\n",
      "\u001b[0;31mKeyboardInterrupt\u001b[0m: "
     ]
    }
   ],
   "source": [
    "from sklearn.model_selection import train_test_split\n",
    "from torch.optim.lr_scheduler import ReduceLROnPlateau\n",
    "\n",
    "train_df, val_df = train_test_split(df[0:1000], test_size=0.1)\n",
    "train_dl = to_dataloader(train_df)\n",
    "val_dl = to_dataloader(val_df)\n",
    "\n",
    "classify_model = load_model(classify_model, '1000-best-MultiLabelClassificationHead')\n",
    "classify_model.to(device)\n",
    "optim = torch.optim.Adam(classify_model.parameters(), lr=0.1)\n",
    "scheduler = ReduceLROnPlateau(optim, 'max')\n",
    "\n",
    "epochs = 100\n",
    "\n",
    "train_losses = []\n",
    "val_losses = []\n",
    "for e in range(1, epochs+1):\n",
    "    train_loss = train_epoch(classify_model, train_dl, loss_fn, optim)\n",
    "    val_loss, y_pred, y_actual = val_epoch(classify_model, val_dl, loss_fn)\n",
    "    \n",
    "    train_losses.append(train_loss)\n",
    "    val_losses.append(val_loss)\n",
    "    measure = compute_metrics(y_actual, y_pred)\n",
    "    scheduler.step(measure[2])\n",
    "    \n",
    "    if e % 5 == 0:\n",
    "        print(\"epoch-{}: losses - train {}, val {}; (hl,map,wap): ({}, {}, {}))\".format( \n",
    "            e, round(train_loss, 4), \n",
    "            round(val_loss, 4), \n",
    "            round(measure[0], 4), \n",
    "            round(measure[1], 4), \n",
    "            round(measure[2], 4)\n",
    "        ))\n",
    "        save_model(classify_model, str(e)+'-'+classify_model._get_name())"
   ]
  }
 ],
 "metadata": {
  "kernelspec": {
   "display_name": "pytorch",
   "language": "python",
   "name": "python3"
  },
  "language_info": {
   "codemirror_mode": {
    "name": "ipython",
    "version": 3
   },
   "file_extension": ".py",
   "mimetype": "text/x-python",
   "name": "python",
   "nbconvert_exporter": "python",
   "pygments_lexer": "ipython3",
   "version": "3.11.4"
  }
 },
 "nbformat": 4,
 "nbformat_minor": 2
}
