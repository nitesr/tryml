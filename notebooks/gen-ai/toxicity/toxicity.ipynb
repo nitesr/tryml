{
 "cells": [
  {
   "cell_type": "code",
   "execution_count": 58,
   "metadata": {},
   "outputs": [],
   "source": [
    "# !pip3 install huggingface\n",
    "# !pip3 install huggingface_hub\n",
    "# !pip3 install datasets\n",
    "# !pip3 install kaggle\n",
    "# !pip3 install pandas\n",
    "# !pip3 install matplotlib\n",
    "# !pip3 install transformers"
   ]
  },
  {
   "cell_type": "markdown",
   "metadata": {},
   "source": [
    "# Kaggle "
   ]
  },
  {
   "cell_type": "code",
   "execution_count": 59,
   "metadata": {},
   "outputs": [],
   "source": [
    "from zipfile import ZipFile\n",
    "import os\n",
    "import shutil\n",
    "from zipfile import ZipFile\n",
    "\n",
    "from kaggle.api.kaggle_api_extended import KaggleApi\n",
    "\n",
    "DATA_DIR = './_data'\n",
    "JIGSAW_DIR = DATA_DIR+'/jigsaw'\n",
    "\n",
    "k_api = KaggleApi()\n",
    "k_api.authenticate()\n",
    "os.makedirs(JIGSAW_DIR, exist_ok = True)\n",
    "\n",
    "zip_file = DATA_DIR+'/jigsaw-toxic-comment-classification-challenge.zip'\n",
    "if not os.path.exists(zip_file):\n",
    "    #downloading datasets for ny stock exchange\n",
    "    k_api.dataset_download_files(\n",
    "        dataset='julian3833/jigsaw-toxic-comment-classification-challenge',\n",
    "        unzip=False\n",
    "    )\n",
    "    shutil.move(zip_file, DATA_DIR)\n",
    "\n",
    "    zf = ZipFile(zip_file)\n",
    "    zf.extractall(JIGSAW_DIR) \n",
    "    zf.close()\n",
    "\n",
    "JIGSAW_TRAIN_PATH = JIGSAW_DIR+'/train.csv'\n",
    "JIGSAW_TEST_X_PATH = JIGSAW_DIR+'/test.csv'\n",
    "JIGSAW_TEST_Y_PATH = JIGSAW_DIR+'/test_labels.csv'\n"
   ]
  },
  {
   "cell_type": "code",
   "execution_count": 60,
   "metadata": {},
   "outputs": [],
   "source": [
    "import pandas as pd\n",
    "\n",
    "df  = pd.read_csv(JIGSAW_TRAIN_PATH)"
   ]
  },
  {
   "cell_type": "code",
   "execution_count": 61,
   "metadata": {},
   "outputs": [],
   "source": [
    "from typing import Any\n",
    "from transformers import RobertaTokenizer\n",
    "from transformers import RobertaModel\n",
    "\n",
    "from torch import nn\n",
    "\n",
    "class Encoder(nn.Module):\n",
    "    def __init__(self) -> None:\n",
    "        super(Encoder, self).__init__()\n",
    "        \n",
    "        self.tokenizer = RobertaTokenizer.from_pretrained('roberta-base')\n",
    "        self.model = RobertaModel.from_pretrained('roberta-base')\n",
    "        self.model.eval()\n",
    "    \n",
    "    def forward(self, texts):\n",
    "        tokens = self.tokenizer(\n",
    "            texts, \n",
    "            return_tensors='pt', \n",
    "            padding=True, \n",
    "            truncation=True)\n",
    "        embeddings = self.model(**tokens)['pooler_output']\n",
    "        return embeddings\n",
    "        \n",
    "    def __call__(self, *args: Any, **kwds: Any) -> Any:\n",
    "        return self.forward(args[0])"
   ]
  },
  {
   "cell_type": "code",
   "execution_count": 62,
   "metadata": {},
   "outputs": [],
   "source": [
    "import torch.nn as nn\n",
    "\n",
    "class MultiLabelClassificationHead(nn.Module):\n",
    "    def __init__(self, hidden_size, nlabels) -> None:\n",
    "        super(MultiLabelClassificationHead, self).__init__()\n",
    "        self.hidden_size = hidden_size\n",
    "        self.output_size = nlabels\n",
    "        \n",
    "        self.input = nn.Linear(\n",
    "            in_features=self.hidden_size, \n",
    "            out_features=self.hidden_size, bias=True)\n",
    "        self.dropout = nn.Dropout(p=0.1, inplace=False)\n",
    "        self.output = nn.Linear(\n",
    "            in_features=self.hidden_size,\n",
    "            out_features=self.output_size, bias=True)\n",
    "        self.output_probs = nn.Sigmoid()\n",
    "    \n",
    "    def forward(self, x):\n",
    "        x = self.input(x)\n",
    "        x = self.dropout(x)\n",
    "        return self.output_probs(self.output(x))"
   ]
  },
  {
   "cell_type": "code",
   "execution_count": 63,
   "metadata": {},
   "outputs": [],
   "source": [
    "from torch.utils.data import Dataset\n",
    "import torch\n",
    "import numpy as np\n",
    "\n",
    "class ToxicDataset(Dataset):\n",
    "    def __init__(self, dataframe, encoder) -> None:\n",
    "        super(ToxicDataset, self).__init__()\n",
    "        self.dataframe = dataframe\n",
    "        self.encoder = encoder\n",
    "        self.labels = [\"toxic\", \"severe_toxic\", \"obscene\", \"threat\", \"insult\", \"identity_hate\"]\n",
    "    \n",
    "    def __getitem__(self, index) -> Any:\n",
    "        text = self.dataframe.iloc[index]['comment_text']\n",
    "        \n",
    "        embedding = self.encoder([text])[0]\n",
    "        labels = self.dataframe.iloc[index][self.labels].to_numpy()\n",
    "        \n",
    "        return embedding, torch.from_numpy(labels.astype(np.float16))\n",
    "    \n",
    "    def __len__(self):\n",
    "        return len(self.dataframe)"
   ]
  },
  {
   "cell_type": "code",
   "execution_count": 64,
   "metadata": {},
   "outputs": [
    {
     "name": "stderr",
     "output_type": "stream",
     "text": [
      "Some weights of RobertaModel were not initialized from the model checkpoint at roberta-base and are newly initialized: ['roberta.pooler.dense.bias', 'roberta.pooler.dense.weight']\n",
      "You should probably TRAIN this model on a down-stream task to be able to use it for predictions and inference.\n"
     ]
    }
   ],
   "source": [
    "from torch.utils.data import DataLoader\n",
    "import torch\n",
    "\n",
    "device = torch.device(\"cuda\" if torch.cuda.is_available() else \"cpu\")\n",
    "\n",
    "encoder_model = Encoder()\n",
    "classify_model = MultiLabelClassificationHead(768, len(labels)).to(device)\n",
    "\n",
    "BATCH_SIZE = 16\n",
    "def to_dataloader(dataframe):\n",
    "    ds = ToxicDataset(dataframe, encoder_model)\n",
    "    dl = DataLoader(\n",
    "        ds, batch_size=BATCH_SIZE)\n",
    "    return dl"
   ]
  },
  {
   "cell_type": "code",
   "execution_count": 65,
   "metadata": {},
   "outputs": [],
   "source": [
    "import os\n",
    "\n",
    "MODELS_DIR = './_models'\n",
    "JIGSAW_MODEL_DIR = './_models/jigsaw'\n",
    "os.makedirs(JIGSAW_MODEL_DIR, exist_ok=True)\n",
    "\n",
    "\n",
    "def save_model(model, name) -> None:\n",
    "    torch.save(\n",
    "        model.state_dict(), JIGSAW_MODEL_DIR+'/'+name)\n",
    "\n",
    "\n",
    "def load_model(model, name) -> Any:\n",
    "    if os.path.exists(JIGSAW_MODEL_DIR+'/'+name):\n",
    "        model.load_state_dict(torch.load(JIGSAW_MODEL_DIR+'/'+name))\n",
    "    return model"
   ]
  },
  {
   "cell_type": "code",
   "execution_count": 66,
   "metadata": {},
   "outputs": [],
   "source": [
    "import torch\n",
    "\n",
    "def train_epoch(model, dataloader, lossFn, optimizer):\n",
    "    epoch_loss = 0\n",
    "    model.train()\n",
    "    for input_tensor, target_tensor in dataloader:\n",
    "        optimizer.zero_grad()\n",
    "        probs = model(input_tensor)\n",
    "        loss = lossFn(probs, target_tensor)\n",
    "        \n",
    "        loss.backward()\n",
    "        optimizer.step()\n",
    "        \n",
    "        epoch_loss += loss.detach().item()\n",
    "\n",
    "    epoch_mean_loss = epoch_loss/len(dataloader)\n",
    "    return epoch_mean_loss\n",
    "\n",
    "def val_epoch(model, dataloader, lossFn):\n",
    "    epoch_loss = 0\n",
    "    model.eval()\n",
    "    with torch.no_grad():\n",
    "        for input_tensor, target_tensor in dataloader:\n",
    "            probs = model(input_tensor)\n",
    "            loss = lossFn(probs, target_tensor)\n",
    "            epoch_loss += loss.detach().item()\n",
    "\n",
    "    epoch_mean_loss = epoch_loss/len(dataloader)\n",
    "    return epoch_mean_loss\n",
    "\n"
   ]
  },
  {
   "cell_type": "code",
   "execution_count": 67,
   "metadata": {},
   "outputs": [
    {
     "ename": "RuntimeError",
     "evalue": "Found dtype Double but expected Float",
     "output_type": "error",
     "traceback": [
      "\u001b[0;31m---------------------------------------------------------------------------\u001b[0m",
      "\u001b[0;31mRuntimeError\u001b[0m                              Traceback (most recent call last)",
      "\u001b[1;32m/Users/n0c09jf/code/github/tryml/notebooks/gen-ai/toxicity/toxicity.ipynb Cell 11\u001b[0m line \u001b[0;36m6\n\u001b[1;32m      <a href='vscode-notebook-cell:/Users/n0c09jf/code/github/tryml/notebooks/gen-ai/toxicity/toxicity.ipynb#X12sZmlsZQ%3D%3D?line=3'>4</a>\u001b[0m sample_df \u001b[39m=\u001b[39m df[\u001b[39m0\u001b[39m:\u001b[39m2\u001b[39m]\n\u001b[1;32m      <a href='vscode-notebook-cell:/Users/n0c09jf/code/github/tryml/notebooks/gen-ai/toxicity/toxicity.ipynb#X12sZmlsZQ%3D%3D?line=4'>5</a>\u001b[0m dl \u001b[39m=\u001b[39m to_dataloader(sample_df)\n\u001b[0;32m----> <a href='vscode-notebook-cell:/Users/n0c09jf/code/github/tryml/notebooks/gen-ai/toxicity/toxicity.ipynb#X12sZmlsZQ%3D%3D?line=5'>6</a>\u001b[0m loss \u001b[39m=\u001b[39m train_epoch(classify_model, dl, loss_fn, optim)\n\u001b[1;32m      <a href='vscode-notebook-cell:/Users/n0c09jf/code/github/tryml/notebooks/gen-ai/toxicity/toxicity.ipynb#X12sZmlsZQ%3D%3D?line=6'>7</a>\u001b[0m \u001b[39mprint\u001b[39m(loss)\n",
      "\u001b[1;32m/Users/n0c09jf/code/github/tryml/notebooks/gen-ai/toxicity/toxicity.ipynb Cell 11\u001b[0m line \u001b[0;36m1\n\u001b[1;32m      <a href='vscode-notebook-cell:/Users/n0c09jf/code/github/tryml/notebooks/gen-ai/toxicity/toxicity.ipynb#X12sZmlsZQ%3D%3D?line=7'>8</a>\u001b[0m probs \u001b[39m=\u001b[39m model(input_tensor)\n\u001b[1;32m      <a href='vscode-notebook-cell:/Users/n0c09jf/code/github/tryml/notebooks/gen-ai/toxicity/toxicity.ipynb#X12sZmlsZQ%3D%3D?line=8'>9</a>\u001b[0m loss \u001b[39m=\u001b[39m lossFn(probs, target_tensor)\n\u001b[0;32m---> <a href='vscode-notebook-cell:/Users/n0c09jf/code/github/tryml/notebooks/gen-ai/toxicity/toxicity.ipynb#X12sZmlsZQ%3D%3D?line=10'>11</a>\u001b[0m loss\u001b[39m.\u001b[39;49mbackward()\n\u001b[1;32m     <a href='vscode-notebook-cell:/Users/n0c09jf/code/github/tryml/notebooks/gen-ai/toxicity/toxicity.ipynb#X12sZmlsZQ%3D%3D?line=11'>12</a>\u001b[0m optimizer\u001b[39m.\u001b[39mstep()\n\u001b[1;32m     <a href='vscode-notebook-cell:/Users/n0c09jf/code/github/tryml/notebooks/gen-ai/toxicity/toxicity.ipynb#X12sZmlsZQ%3D%3D?line=13'>14</a>\u001b[0m epoch_loss \u001b[39m+\u001b[39m\u001b[39m=\u001b[39m loss\u001b[39m.\u001b[39mdetach()\u001b[39m.\u001b[39mitem()\n",
      "File \u001b[0;32m~/anaconda3/envs/pytorch/lib/python3.11/site-packages/torch/_tensor.py:487\u001b[0m, in \u001b[0;36mTensor.backward\u001b[0;34m(self, gradient, retain_graph, create_graph, inputs)\u001b[0m\n\u001b[1;32m    477\u001b[0m \u001b[39mif\u001b[39;00m has_torch_function_unary(\u001b[39mself\u001b[39m):\n\u001b[1;32m    478\u001b[0m     \u001b[39mreturn\u001b[39;00m handle_torch_function(\n\u001b[1;32m    479\u001b[0m         Tensor\u001b[39m.\u001b[39mbackward,\n\u001b[1;32m    480\u001b[0m         (\u001b[39mself\u001b[39m,),\n\u001b[0;32m   (...)\u001b[0m\n\u001b[1;32m    485\u001b[0m         inputs\u001b[39m=\u001b[39minputs,\n\u001b[1;32m    486\u001b[0m     )\n\u001b[0;32m--> 487\u001b[0m torch\u001b[39m.\u001b[39;49mautograd\u001b[39m.\u001b[39;49mbackward(\n\u001b[1;32m    488\u001b[0m     \u001b[39mself\u001b[39;49m, gradient, retain_graph, create_graph, inputs\u001b[39m=\u001b[39;49minputs\n\u001b[1;32m    489\u001b[0m )\n",
      "File \u001b[0;32m~/anaconda3/envs/pytorch/lib/python3.11/site-packages/torch/autograd/__init__.py:200\u001b[0m, in \u001b[0;36mbackward\u001b[0;34m(tensors, grad_tensors, retain_graph, create_graph, grad_variables, inputs)\u001b[0m\n\u001b[1;32m    195\u001b[0m     retain_graph \u001b[39m=\u001b[39m create_graph\n\u001b[1;32m    197\u001b[0m \u001b[39m# The reason we repeat same the comment below is that\u001b[39;00m\n\u001b[1;32m    198\u001b[0m \u001b[39m# some Python versions print out the first line of a multi-line function\u001b[39;00m\n\u001b[1;32m    199\u001b[0m \u001b[39m# calls in the traceback and some print out the last line\u001b[39;00m\n\u001b[0;32m--> 200\u001b[0m Variable\u001b[39m.\u001b[39;49m_execution_engine\u001b[39m.\u001b[39;49mrun_backward(  \u001b[39m# Calls into the C++ engine to run the backward pass\u001b[39;49;00m\n\u001b[1;32m    201\u001b[0m     tensors, grad_tensors_, retain_graph, create_graph, inputs,\n\u001b[1;32m    202\u001b[0m     allow_unreachable\u001b[39m=\u001b[39;49m\u001b[39mTrue\u001b[39;49;00m, accumulate_grad\u001b[39m=\u001b[39;49m\u001b[39mTrue\u001b[39;49;00m)\n",
      "\u001b[0;31mRuntimeError\u001b[0m: Found dtype Double but expected Float"
     ]
    }
   ],
   "source": [
    "loss_fn = torch.nn.MSELoss()\n",
    "optim = torch.optim.Adam(classify_model.parameters(), lr=0.001)\n",
    "\n",
    "sample_df = df[0:2]\n",
    "dl = to_dataloader(sample_df)\n",
    "loss = train_epoch(classify_model, dl, loss_fn, optim)\n",
    "print(loss)"
   ]
  },
  {
   "cell_type": "code",
   "execution_count": null,
   "metadata": {},
   "outputs": [],
   "source": [
    "from sklearn.model_selection import train_test_split\n",
    "\n",
    "train_df, val_df = train_test_split(df, test_size=0.1)\n",
    "train_dl = to_dataloader(train_df)\n",
    "val_dl = to_dataloader(val_df)\n",
    "\n",
    "loss_fn = torch.nn.MSELoss()\n",
    "optim = torch.optim.Adam(classify_model.parameters(), lr=0.001)\n",
    "epochs = 100\n",
    "\n",
    "train_losses = []\n",
    "val_losses = []\n",
    "for e in range(1, epochs+1):\n",
    "    train_loss = train_epoch(classify_model, train_dl, loss_fn, optim)\n",
    "    val_loss = val_epoch(classify_model, val_dl, loss_fn)\n",
    "    train_losses.append(train_loss)\n",
    "    val_losses.append(val_loss)\n",
    "    \n",
    "    if e % 5 == 0:\n",
    "        print(\"epoch-{}; losses - train {}, val {}\".format( \n",
    "            e, round(train_loss, 4), \n",
    "            round(val_loss, 4)))\n",
    "        save_model(classify_model, e+'-'+classify_model._get_name())"
   ]
  }
 ],
 "metadata": {
  "kernelspec": {
   "display_name": "pytorch",
   "language": "python",
   "name": "python3"
  },
  "language_info": {
   "codemirror_mode": {
    "name": "ipython",
    "version": 3
   },
   "file_extension": ".py",
   "mimetype": "text/x-python",
   "name": "python",
   "nbconvert_exporter": "python",
   "pygments_lexer": "ipython3",
   "version": "3.11.4"
  }
 },
 "nbformat": 4,
 "nbformat_minor": 2
}
