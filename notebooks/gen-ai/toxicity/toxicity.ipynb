{
 "cells": [
  {
   "cell_type": "code",
   "execution_count": 1,
   "metadata": {},
   "outputs": [],
   "source": [
    "# !pip3 install huggingface\n",
    "# !pip3 install huggingface_hub\n",
    "# !pip3 install datasets\n",
    "# !pip3 install kaggle\n",
    "# !pip3 install pandas\n",
    "# !pip3 install matplotlib\n",
    "# !pip3 install transformers"
   ]
  },
  {
   "cell_type": "markdown",
   "metadata": {},
   "source": [
    "# Kaggle "
   ]
  },
  {
   "cell_type": "code",
   "execution_count": 2,
   "metadata": {},
   "outputs": [],
   "source": [
    "from zipfile import ZipFile\n",
    "import os\n",
    "import shutil\n",
    "from zipfile import ZipFile\n",
    "\n",
    "from kaggle.api.kaggle_api_extended import KaggleApi\n",
    "\n",
    "DATA_DIR = './_data'\n",
    "JIGSAW_DIR = DATA_DIR+'/jigsaw'\n",
    "\n",
    "\n",
    "os.makedirs(JIGSAW_DIR, exist_ok = True)\n",
    "\n",
    "zip_file = DATA_DIR+'/jigsaw-toxic-comment-classification-challenge.zip'\n",
    "if not os.path.exists(zip_file):\n",
    "    k_api = KaggleApi()\n",
    "    k_api.authenticate()\n",
    "    \n",
    "    k_api.dataset_download_files(\n",
    "        dataset='julian3833/jigsaw-toxic-comment-classification-challenge',\n",
    "        unzip=False,\n",
    "        path=zip_file\n",
    "    )\n",
    "\n",
    "zf = ZipFile(zip_file)\n",
    "zf.extractall(JIGSAW_DIR) \n",
    "zf.close()\n",
    "\n",
    "JIGSAW_TRAIN_PATH = JIGSAW_DIR+'/train.csv'\n",
    "JIGSAW_TEST_X_PATH = JIGSAW_DIR+'/test.csv'\n",
    "JIGSAW_TEST_Y_PATH = JIGSAW_DIR+'/test_labels.csv'\n"
   ]
  },
  {
   "cell_type": "code",
   "execution_count": 3,
   "metadata": {},
   "outputs": [],
   "source": [
    "import pandas as pd\n",
    "\n",
    "df  = pd.read_csv(JIGSAW_TRAIN_PATH)"
   ]
  },
  {
   "cell_type": "code",
   "execution_count": 4,
   "metadata": {},
   "outputs": [
    {
     "name": "stderr",
     "output_type": "stream",
     "text": [
      "/Users/n0c09jf/anaconda3/envs/pytorch/lib/python3.11/site-packages/tqdm/auto.py:21: TqdmWarning: IProgress not found. Please update jupyter and ipywidgets. See https://ipywidgets.readthedocs.io/en/stable/user_install.html\n",
      "  from .autonotebook import tqdm as notebook_tqdm\n"
     ]
    }
   ],
   "source": [
    "from typing import Any\n",
    "from transformers import RobertaTokenizer\n",
    "from transformers import RobertaModel\n",
    "\n",
    "from torch import nn\n",
    "\n",
    "class Encoder(nn.Module):\n",
    "    def __init__(self) -> None:\n",
    "        super(Encoder, self).__init__()\n",
    "        \n",
    "        self.tokenizer = RobertaTokenizer.from_pretrained('roberta-base')\n",
    "        self.model = RobertaModel.from_pretrained('roberta-base')\n",
    "        self.model.eval()\n",
    "    \n",
    "    def forward(self, texts):\n",
    "        tokens = self.tokenizer(\n",
    "            texts, \n",
    "            return_tensors='pt', \n",
    "            padding=True, \n",
    "            truncation=True)\n",
    "        embeddings = self.model(**tokens)['pooler_output']\n",
    "        return embeddings\n",
    "        \n",
    "    def __call__(self, *args: Any, **kwds: Any) -> Any:\n",
    "        return self.forward(args[0])"
   ]
  },
  {
   "cell_type": "code",
   "execution_count": 5,
   "metadata": {},
   "outputs": [],
   "source": [
    "import torch.nn as nn\n",
    "\n",
    "class MultiLabelClassificationHead(nn.Module):\n",
    "    def __init__(self, hidden_size, nlabels) -> None:\n",
    "        super(MultiLabelClassificationHead, self).__init__()\n",
    "        self.hidden_size = hidden_size\n",
    "        self.nlabels = nlabels\n",
    "        \n",
    "        self.input = nn.Linear(\n",
    "            in_features=self.hidden_size, \n",
    "            out_features=self.hidden_size, bias=True)\n",
    "        \n",
    "        def label_model():\n",
    "            return nn.Sequential(\n",
    "                nn.Dropout(p=0.1, inplace=False),\n",
    "                nn.Linear(in_features=self.hidden_size,\n",
    "                          out_features=2, bias=True)\n",
    "            )\n",
    "            \n",
    "        self.heads = nn.ModuleList([\n",
    "            label_model() for label in range(0, nlabels)\n",
    "        ])\n",
    "    \n",
    "    def forward(self, x):\n",
    "        x = self.input(x)\n",
    "        \n",
    "        y_pred = []\n",
    "        for m in self.heads:\n",
    "            y_pred.append(m(x))\n",
    "        \n",
    "        return y_pred"
   ]
  },
  {
   "cell_type": "code",
   "execution_count": 6,
   "metadata": {},
   "outputs": [],
   "source": [
    "from torch.utils.data import Dataset\n",
    "import torch\n",
    "import numpy as np\n",
    "\n",
    "class ToxicDataset(Dataset):\n",
    "    def __init__(self, dataframe, encoder, labels) -> None:\n",
    "        super(ToxicDataset, self).__init__()\n",
    "        self.dataframe = dataframe\n",
    "        self.encoder = encoder\n",
    "        self.labels = labels\n",
    "    \n",
    "    def __getitem__(self, index) -> Any:\n",
    "        text = self.dataframe.iloc[index]['comment_text']\n",
    "        \n",
    "        embedding = self.encoder([text])[0]\n",
    "        labels = self.dataframe.iloc[index][self.labels].to_numpy()\n",
    "        \n",
    "        return embedding, torch.from_numpy(labels.astype(np.float32))\n",
    "    \n",
    "    def __len__(self):\n",
    "        return len(self.dataframe)"
   ]
  },
  {
   "cell_type": "code",
   "execution_count": 7,
   "metadata": {},
   "outputs": [
    {
     "name": "stderr",
     "output_type": "stream",
     "text": [
      "Some weights of RobertaModel were not initialized from the model checkpoint at roberta-base and are newly initialized: ['roberta.pooler.dense.weight', 'roberta.pooler.dense.bias']\n",
      "You should probably TRAIN this model on a down-stream task to be able to use it for predictions and inference.\n"
     ]
    }
   ],
   "source": [
    "from torch.utils.data import DataLoader\n",
    "import torch\n",
    "\n",
    "device = torch.device(\"cuda\" if torch.cuda.is_available() else \"cpu\")\n",
    "labels = [\"toxic\", \"severe_toxic\", \"obscene\", \"threat\", \"insult\", \"identity_hate\"]\n",
    "\n",
    "encoder_model = Encoder()\n",
    "classify_model = MultiLabelClassificationHead(768, len(labels)).to(device)\n",
    "\n",
    "BATCH_SIZE = 64\n",
    "def to_dataloader(dataframe):\n",
    "    ds = ToxicDataset(dataframe, encoder_model, labels)\n",
    "    dl = DataLoader(\n",
    "        ds, batch_size=BATCH_SIZE, shuffle=True)\n",
    "    return dl"
   ]
  },
  {
   "cell_type": "code",
   "execution_count": 8,
   "metadata": {},
   "outputs": [],
   "source": [
    "import os\n",
    "\n",
    "MODELS_DIR = './_models'\n",
    "JIGSAW_MODEL_DIR = './_models/jigsaw'\n",
    "os.makedirs(JIGSAW_MODEL_DIR, exist_ok=True)\n",
    "\n",
    "\n",
    "def save_model(model, name) -> None:\n",
    "    torch.save(\n",
    "        model.state_dict(), JIGSAW_MODEL_DIR+'/'+name)\n",
    "\n",
    "\n",
    "def load_model(model, name) -> Any:\n",
    "    if os.path.exists(JIGSAW_MODEL_DIR+'/'+name):\n",
    "        model.load_state_dict(torch.load(JIGSAW_MODEL_DIR+'/'+name))\n",
    "    return model"
   ]
  },
  {
   "cell_type": "code",
   "execution_count": 9,
   "metadata": {},
   "outputs": [],
   "source": [
    "import torch\n",
    "from sklearn.metrics import multilabel_confusion_matrix\n",
    "from sklearn.metrics import classification_report, hamming_loss\n",
    "from sklearn.metrics import average_precision_score\n",
    "\n",
    "def train_epoch(model, dataloader, lossFn, optimizer):\n",
    "    epoch_loss = 0\n",
    "    model.train()\n",
    "    for input_tensor, target_tensor in dataloader:\n",
    "        optimizer.zero_grad()\n",
    "        \n",
    "        input_tensor = input_tensor.to(device)\n",
    "        target_tensor = target_tensor.to(device)\n",
    "        \n",
    "        probs = model(input_tensor)\n",
    "        loss = lossFn(probs, target_tensor)\n",
    "        \n",
    "        loss.backward()\n",
    "        optimizer.step()\n",
    "        \n",
    "        epoch_loss += loss.detach().item()\n",
    "\n",
    "    epoch_mean_loss = epoch_loss/len(dataloader)\n",
    "    return epoch_mean_loss\n",
    "\n",
    "def val_epoch(model, dataloader, lossFn):\n",
    "    epoch_loss = 0\n",
    "    model.eval()\n",
    "\n",
    "    y_pred = []\n",
    "    y_actual = []\n",
    "    \n",
    "    with torch.no_grad():\n",
    "        for input_tensor, target_tensor in dataloader:\n",
    "            logits = model(input_tensor)\n",
    "            \n",
    "            loss = lossFn(logits, target_tensor)\n",
    "            epoch_loss += loss.detach().item()\n",
    "            \n",
    "            predictions = []\n",
    "            for logit in logits:\n",
    "                _, predicted = torch.max(logit,1)\n",
    "                predictions.append(predicted)\n",
    "            \n",
    "            y_pred.extend(list(np.column_stack(predictions)))\n",
    "            y_actual.extend(list(target_tensor.detach().numpy()))\n",
    "\n",
    "    epoch_mean_loss = epoch_loss/len(dataloader)\n",
    "    return epoch_mean_loss, y_pred, y_actual\n",
    "\n",
    "def transform_predictions(y_pred, threshold):\n",
    "    y_pred = [ [1 if y_j >= threshold else 0 for y_j in y_i] for y_i in y_pred ]\n",
    "    return y_pred\n",
    "\n",
    "def compute_metrics(y_actual, y_pred):\n",
    "    hl = hamming_loss(y_actual, y_pred)\n",
    "    map = average_precision_score(y_actual, y_pred, average='micro')\n",
    "    wap = average_precision_score(y_actual, y_pred, average='weighted')\n",
    "    return hl, map, wap"
   ]
  },
  {
   "cell_type": "code",
   "execution_count": 12,
   "metadata": {},
   "outputs": [
    {
     "name": "stdout",
     "output_type": "stream",
     "text": [
      "0.3827819228172302\n",
      "[array([0, 0, 0, 0, 0, 0]), array([0, 0, 0, 0, 0, 0])]\n",
      "[array([0., 0., 0., 0., 0., 0.], dtype=float32), array([0., 0., 0., 0., 0., 0.], dtype=float32)]\n",
      "(0.0, 0.0, 0)\n"
     ]
    },
    {
     "name": "stderr",
     "output_type": "stream",
     "text": [
      "/Users/n0c09jf/anaconda3/envs/pytorch/lib/python3.11/site-packages/sklearn/metrics/_ranking.py:979: UserWarning: No positive class found in y_true, recall is set to one for all thresholds.\n",
      "  warnings.warn(\n"
     ]
    }
   ],
   "source": [
    "from torch.nn import CrossEntropyLoss\n",
    "import numpy as np\n",
    "\n",
    "cel = CrossEntropyLoss()\n",
    "\n",
    "def loss_fn(predictions, actuals):\n",
    "    losses = 0\n",
    "    for i, prediction in enumerate(predictions):\n",
    "        losses += cel(prediction, actuals[:,i].long())\n",
    "    return losses\n",
    "    \n",
    "optim = torch.optim.Adam(classify_model.parameters(), lr=0.001)\n",
    "\n",
    "sample_df = df[0:2]\n",
    "dl = to_dataloader(sample_df)\n",
    "loss = train_epoch(classify_model, dl, loss_fn, optim)\n",
    "print(loss)\n",
    "\n",
    "_, y_pred, y_actual = val_epoch(classify_model, dl, loss_fn)\n",
    "print(y_pred)\n",
    "print(y_actual)\n",
    "print(compute_metrics(y_actual, y_pred))"
   ]
  },
  {
   "cell_type": "code",
   "execution_count": 13,
   "metadata": {},
   "outputs": [],
   "source": [
    "from sklearn.model_selection import train_test_split\n",
    "\n",
    "train_df, val_df = train_test_split(df[0:1000], test_size=0.1)\n",
    "train_dl = to_dataloader(train_df)\n",
    "val_dl = to_dataloader(val_df)\n",
    "\n",
    "optim = torch.optim.Adam(classify_model.parameters(), lr=0.001)\n",
    "epochs = 100\n",
    "\n",
    "train_losses = []\n",
    "val_losses = []\n",
    "for e in range(1, epochs+1):\n",
    "    train_loss = train_epoch(classify_model, train_dl, loss_fn, optim)\n",
    "    val_loss, y_pred, y_actual = val_epoch(classify_model, val_dl, loss_fn)\n",
    "    \n",
    "    train_losses.append(train_loss)\n",
    "    val_losses.append(val_loss)\n",
    "    measure = compute_metrics(y_actual, y_pred)\n",
    "    \n",
    "    if e % 5 == 0:\n",
    "        print(\"epoch-{}: losses - train {}, val {}; (hl,map,wap): ({}, {}, {}))\".format( \n",
    "            e, round(train_loss, 4), \n",
    "            round(val_loss, 4), \n",
    "            round(measure[0], 4), \n",
    "            round(measure[1], 4), \n",
    "            round(measure[2], 4)\n",
    "        ))\n",
    "        save_model(classify_model, str(e)+'-'+classify_model._get_name())"
   ]
  }
 ],
 "metadata": {
  "kernelspec": {
   "display_name": "pytorch",
   "language": "python",
   "name": "python3"
  },
  "language_info": {
   "codemirror_mode": {
    "name": "ipython",
    "version": 3
   },
   "file_extension": ".py",
   "mimetype": "text/x-python",
   "name": "python",
   "nbconvert_exporter": "python",
   "pygments_lexer": "ipython3",
   "version": "3.11.4"
  }
 },
 "nbformat": 4,
 "nbformat_minor": 2
}
