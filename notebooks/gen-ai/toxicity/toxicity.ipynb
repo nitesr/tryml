{
 "cells": [
  {
   "cell_type": "code",
   "execution_count": 128,
   "metadata": {},
   "outputs": [],
   "source": [
    "# !pip3 install huggingface\n",
    "# !pip3 install huggingface_hub\n",
    "# !pip3 install datasets\n",
    "# !pip3 install kaggle\n",
    "# !pip3 install pandas\n",
    "# !pip3 install matplotlib\n",
    "# !pip3 install transformers"
   ]
  },
  {
   "cell_type": "markdown",
   "metadata": {},
   "source": [
    "# Kaggle "
   ]
  },
  {
   "cell_type": "code",
   "execution_count": 129,
   "metadata": {},
   "outputs": [],
   "source": [
    "from zipfile import ZipFile\n",
    "import os\n",
    "import shutil\n",
    "from zipfile import ZipFile\n",
    "\n",
    "from kaggle.api.kaggle_api_extended import KaggleApi\n",
    "\n",
    "DATA_DIR = './_data'\n",
    "JIGSAW_DIR = DATA_DIR+'/jigsaw'\n",
    "\n",
    "k_api = KaggleApi()\n",
    "k_api.authenticate()\n",
    "os.makedirs(JIGSAW_DIR, exist_ok = True)\n",
    "\n",
    "zip_file = DATA_DIR+'/jigsaw-toxic-comment-classification-challenge.zip'\n",
    "if not os.path.exists(zip_file):\n",
    "    #downloading datasets for ny stock exchange\n",
    "    k_api.dataset_download_files(\n",
    "        dataset='julian3833/jigsaw-toxic-comment-classification-challenge',\n",
    "        unzip=False\n",
    "    )\n",
    "    shutil.move(zip_file, DATA_DIR)\n",
    "\n",
    "    zf = ZipFile(zip_file)\n",
    "    zf.extractall(JIGSAW_DIR) \n",
    "    zf.close()\n",
    "\n",
    "JIGSAW_TRAIN_PATH = JIGSAW_DIR+'/train.csv'\n",
    "JIGSAW_TEST_X_PATH = JIGSAW_DIR+'/test.csv'\n",
    "JIGSAW_TEST_Y_PATH = JIGSAW_DIR+'/test_labels.csv'\n"
   ]
  },
  {
   "cell_type": "code",
   "execution_count": 130,
   "metadata": {},
   "outputs": [],
   "source": [
    "import pandas as pd\n",
    "\n",
    "df  = pd.read_csv(JIGSAW_TRAIN_PATH)"
   ]
  },
  {
   "cell_type": "code",
   "execution_count": 131,
   "metadata": {},
   "outputs": [],
   "source": [
    "from typing import Any\n",
    "from transformers import RobertaTokenizer\n",
    "from transformers import RobertaModel\n",
    "\n",
    "from torch import nn\n",
    "\n",
    "class Encoder(nn.Module):\n",
    "    def __init__(self) -> None:\n",
    "        super(Encoder, self).__init__()\n",
    "        \n",
    "        self.tokenizer = RobertaTokenizer.from_pretrained('roberta-base')\n",
    "        self.model = RobertaModel.from_pretrained('roberta-base')\n",
    "        self.model.eval()\n",
    "    \n",
    "    def forward(self, texts):\n",
    "        tokens = self.tokenizer(\n",
    "            texts, \n",
    "            return_tensors='pt', \n",
    "            padding=True, \n",
    "            truncation=True)\n",
    "        embeddings = self.model(**tokens)['pooler_output']\n",
    "        return embeddings\n",
    "        \n",
    "    def __call__(self, *args: Any, **kwds: Any) -> Any:\n",
    "        return self.forward(args[0])"
   ]
  },
  {
   "cell_type": "code",
   "execution_count": 132,
   "metadata": {},
   "outputs": [],
   "source": [
    "import torch.nn as nn\n",
    "\n",
    "class MultiLabelClassificationHead(nn.Module):\n",
    "    def __init__(self, hidden_size, nlabels) -> None:\n",
    "        super(MultiLabelClassificationHead, self).__init__()\n",
    "        self.hidden_size = hidden_size\n",
    "        self.output_size = nlabels\n",
    "        \n",
    "        self.input = nn.Linear(\n",
    "            in_features=self.hidden_size, \n",
    "            out_features=self.hidden_size, bias=True)\n",
    "        self.dropout = nn.Dropout(p=0.1, inplace=False)\n",
    "        self.output = nn.Linear(\n",
    "            in_features=self.hidden_size,\n",
    "            out_features=self.output_size, bias=True)\n",
    "        self.output_probs = nn.Sigmoid()\n",
    "    \n",
    "    def forward(self, x):\n",
    "        x = self.input(x)\n",
    "        x = self.dropout(x)\n",
    "        return self.output_probs(self.output(x))"
   ]
  },
  {
   "cell_type": "code",
   "execution_count": 133,
   "metadata": {},
   "outputs": [],
   "source": [
    "from torch.utils.data import Dataset\n",
    "import torch\n",
    "import numpy as np\n",
    "\n",
    "class ToxicDataset(Dataset):\n",
    "    def __init__(self, dataframe, encoder, labels) -> None:\n",
    "        super(ToxicDataset, self).__init__()\n",
    "        self.dataframe = dataframe\n",
    "        self.encoder = encoder\n",
    "        self.labels = labels\n",
    "    \n",
    "    def __getitem__(self, index) -> Any:\n",
    "        text = self.dataframe.iloc[index]['comment_text']\n",
    "        \n",
    "        embedding = self.encoder([text])[0]\n",
    "        labels = self.dataframe.iloc[index][self.labels].to_numpy()\n",
    "        \n",
    "        return embedding, torch.from_numpy(labels.astype(np.float32))\n",
    "    \n",
    "    def __len__(self):\n",
    "        return len(self.dataframe)"
   ]
  },
  {
   "cell_type": "code",
   "execution_count": 134,
   "metadata": {},
   "outputs": [
    {
     "name": "stderr",
     "output_type": "stream",
     "text": [
      "Some weights of RobertaModel were not initialized from the model checkpoint at roberta-base and are newly initialized: ['roberta.pooler.dense.bias', 'roberta.pooler.dense.weight']\n",
      "You should probably TRAIN this model on a down-stream task to be able to use it for predictions and inference.\n"
     ]
    }
   ],
   "source": [
    "from torch.utils.data import DataLoader\n",
    "import torch\n",
    "\n",
    "device = torch.device(\"cuda\" if torch.cuda.is_available() else \"cpu\")\n",
    "labels = [\"toxic\", \"severe_toxic\", \"obscene\", \"threat\", \"insult\", \"identity_hate\"]\n",
    "\n",
    "encoder_model = Encoder()\n",
    "classify_model = MultiLabelClassificationHead(768, len(labels)).to(device)\n",
    "\n",
    "BATCH_SIZE = 16\n",
    "def to_dataloader(dataframe):\n",
    "    ds = ToxicDataset(dataframe, encoder_model, labels)\n",
    "    dl = DataLoader(\n",
    "        ds, batch_size=BATCH_SIZE)\n",
    "    return dl"
   ]
  },
  {
   "cell_type": "code",
   "execution_count": 135,
   "metadata": {},
   "outputs": [],
   "source": [
    "import os\n",
    "\n",
    "MODELS_DIR = './_models'\n",
    "JIGSAW_MODEL_DIR = './_models/jigsaw'\n",
    "os.makedirs(JIGSAW_MODEL_DIR, exist_ok=True)\n",
    "\n",
    "\n",
    "def save_model(model, name) -> None:\n",
    "    torch.save(\n",
    "        model.state_dict(), JIGSAW_MODEL_DIR+'/'+name)\n",
    "\n",
    "\n",
    "def load_model(model, name) -> Any:\n",
    "    if os.path.exists(JIGSAW_MODEL_DIR+'/'+name):\n",
    "        model.load_state_dict(torch.load(JIGSAW_MODEL_DIR+'/'+name))\n",
    "    return model"
   ]
  },
  {
   "cell_type": "code",
   "execution_count": null,
   "metadata": {},
   "outputs": [],
   "source": [
    "import torch\n",
    "\n",
    "def train_epoch(model, dataloader, lossFn, optimizer):\n",
    "    epoch_loss = 0\n",
    "    model.train()\n",
    "    for input_tensor, target_tensor in dataloader:\n",
    "        optimizer.zero_grad()\n",
    "        \n",
    "        input_tensor = input_tensor.to(device)\n",
    "        target_tensor = target_tensor.to(device)\n",
    "        \n",
    "        probs = model(input_tensor)\n",
    "        loss = lossFn(probs, target_tensor)\n",
    "        \n",
    "        loss.backward()\n",
    "        optimizer.step()\n",
    "        \n",
    "        epoch_loss += loss.detach().item()\n",
    "\n",
    "    epoch_mean_loss = epoch_loss/len(dataloader)\n",
    "    return epoch_mean_loss\n",
    "\n",
    "def val_epoch(model, dataloader, lossFn):\n",
    "    epoch_loss = 0\n",
    "    model.eval()\n",
    "    with torch.no_grad():\n",
    "        for input_tensor, target_tensor in dataloader:\n",
    "            probs = model(input_tensor)\n",
    "            loss = lossFn(probs, target_tensor)\n",
    "            epoch_loss += loss.detach().item()\n",
    "\n",
    "    epoch_mean_loss = epoch_loss/len(dataloader)\n",
    "    return epoch_mean_loss\n",
    "\n"
   ]
  },
  {
   "cell_type": "code",
   "execution_count": 137,
   "metadata": {},
   "outputs": [
    {
     "name": "stdout",
     "output_type": "stream",
     "text": [
      "0.24643439054489136\n"
     ]
    }
   ],
   "source": [
    "loss_fn = torch.nn.MSELoss()\n",
    "optim = torch.optim.Adam(classify_model.parameters(), lr=0.001)\n",
    "\n",
    "sample_df = df[0:2]\n",
    "dl = to_dataloader(sample_df)\n",
    "loss = train_epoch(classify_model, dl, loss_fn, optim)\n",
    "print(loss)"
   ]
  },
  {
   "cell_type": "code",
   "execution_count": 138,
   "metadata": {},
   "outputs": [],
   "source": [
    "from sklearn.model_selection import train_test_split\n",
    "\n",
    "train_df, val_df = train_test_split(df, test_size=0.1)\n",
    "train_dl = to_dataloader(train_df)\n",
    "val_dl = to_dataloader(val_df)\n",
    "\n",
    "loss_fn = torch.nn.MSELoss()\n",
    "optim = torch.optim.Adam(classify_model.parameters(), lr=0.001)\n",
    "epochs = 100\n",
    "\n",
    "train_losses = []\n",
    "val_losses = []\n",
    "for e in range(1, epochs+1):\n",
    "    train_loss = train_epoch(classify_model, train_dl, loss_fn, optim)\n",
    "    val_loss = val_epoch(classify_model, val_dl, loss_fn)\n",
    "    train_losses.append(train_loss)\n",
    "    val_losses.append(val_loss)\n",
    "    \n",
    "    if e % 5 == 0:\n",
    "        print(\"epoch-{}; losses - train {}, val {}\".format( \n",
    "            e, round(train_loss, 4), \n",
    "            round(val_loss, 4)))\n",
    "        save_model(classify_model, e+'-'+classify_model._get_name())"
   ]
  }
 ],
 "metadata": {
  "kernelspec": {
   "display_name": "pytorch",
   "language": "python",
   "name": "python3"
  },
  "language_info": {
   "codemirror_mode": {
    "name": "ipython",
    "version": 3
   },
   "file_extension": ".py",
   "mimetype": "text/x-python",
   "name": "python",
   "nbconvert_exporter": "python",
   "pygments_lexer": "ipython3",
   "version": "3.11.4"
  }
 },
 "nbformat": 4,
 "nbformat_minor": 2
}
