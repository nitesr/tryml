{
 "cells": [
  {
   "cell_type": "code",
   "execution_count": 22,
   "metadata": {},
   "outputs": [
    {
     "name": "stdout",
     "output_type": "stream",
     "text": [
      "Requirement already satisfied: torch in /Users/n0c09jf/anaconda3/envs/ik-mini-graph/lib/python3.11/site-packages (2.0.1)\n",
      "Requirement already satisfied: filelock in /Users/n0c09jf/anaconda3/envs/ik-mini-graph/lib/python3.11/site-packages (from torch) (3.12.2)\n",
      "Requirement already satisfied: typing-extensions in /Users/n0c09jf/anaconda3/envs/ik-mini-graph/lib/python3.11/site-packages (from torch) (4.7.1)\n",
      "Requirement already satisfied: sympy in /Users/n0c09jf/anaconda3/envs/ik-mini-graph/lib/python3.11/site-packages (from torch) (1.12)\n",
      "Requirement already satisfied: networkx in /Users/n0c09jf/anaconda3/envs/ik-mini-graph/lib/python3.11/site-packages (from torch) (2.8.8)\n",
      "Requirement already satisfied: jinja2 in /Users/n0c09jf/anaconda3/envs/ik-mini-graph/lib/python3.11/site-packages (from torch) (3.1.2)\n",
      "Requirement already satisfied: MarkupSafe>=2.0 in /Users/n0c09jf/anaconda3/envs/ik-mini-graph/lib/python3.11/site-packages (from jinja2->torch) (2.1.1)\n",
      "Requirement already satisfied: mpmath>=0.19 in /Users/n0c09jf/anaconda3/envs/ik-mini-graph/lib/python3.11/site-packages (from sympy->torch) (1.3.0)\n"
     ]
    }
   ],
   "source": [
    "!pip3 install torch"
   ]
  },
  {
   "cell_type": "code",
   "execution_count": 23,
   "metadata": {},
   "outputs": [],
   "source": [
    "SEPARATOR = \"###############\"\n",
    "\n",
    "def sep(title=None):\n",
    "    print(SEPARATOR, title or '', SEPARATOR, sep='')"
   ]
  },
  {
   "cell_type": "code",
   "execution_count": 24,
   "metadata": {},
   "outputs": [
    {
     "name": "stdout",
     "output_type": "stream",
     "text": [
      "tensor([0., 0.])\n",
      "##############################\n",
      "tensor([ 1,  6, 11, 16])\n",
      "###############diagflat###############\n",
      "tensor([[1.2603, 0.0080],\n",
      "        [1.6935, 0.0103]])\n",
      "tensor([[1.2603, 0.0000, 0.0000, 0.0000],\n",
      "        [0.0000, 0.0080, 0.0000, 0.0000],\n",
      "        [0.0000, 0.0000, 1.6935, 0.0000],\n",
      "        [0.0000, 0.0000, 0.0000, 0.0103]])\n"
     ]
    }
   ],
   "source": [
    "import torch\n",
    "\n",
    "z = torch.zeros(2)\n",
    "print(z)\n",
    "\n",
    "sep()\n",
    "\n",
    "x = torch.tensor([\n",
    "    [1, 2, 3, 4],\n",
    "    [5, 6, 7, 8],\n",
    "    [9, 10, 11, 12],\n",
    "    [13, 14, 15, 16]\n",
    "])\n",
    "x_diag = torch.diag(x)\n",
    "print(x_diag)\n",
    "\n",
    "sep(\"diagflat\")\n",
    "\n",
    "y = torch.randn(2, 2)\n",
    "y_diagflat = torch.diagflat(y, 0)\n",
    "print(y)\n",
    "print(y_diagflat)\n"
   ]
  },
  {
   "cell_type": "code",
   "execution_count": 18,
   "metadata": {},
   "outputs": [
    {
     "name": "stdout",
     "output_type": "stream",
     "text": [
      "tensor([7, 8, 9])\n",
      "tensor([3, 8])\n",
      "tensor([[2, 3, 4],\n",
      "        [7, 8, 9]])\n",
      "tensor([[2, 3, 4],\n",
      "        [7, 8, 9]])\n",
      "tensor([3, 8])\n",
      "tensor([[[1112, 1122],\n",
      "         [1212, 1222]],\n",
      "\n",
      "        [[2112, 2122],\n",
      "         [2212, 2222]]])\n",
      "tensor([[1112, 1122],\n",
      "        [1212, 1222]])\n"
     ]
    }
   ],
   "source": [
    "import torch\n",
    "\n",
    "arr = torch.tensor([[1, 2, 3, 4, 5], [6, 7, 8, 9, 10]])\n",
    "\n",
    "#from second row select index 1 to 3\n",
    "print(arr[1, 1:4]) \n",
    "\n",
    "#from both the rows select index 2\n",
    "print(arr[0:2, 2]) \n",
    "\n",
    "# From both elements, slice index 1 to index 4 (not included), \n",
    "#   this will return a 2-D array:\n",
    "print(arr[0:2, 1:4])\n",
    "\n",
    "#Everything from (including) the second item to (not including) the fifth item.\n",
    "print(arr[0:2, 1:4])\n",
    "\n",
    "#select 2nd index column across all rows\n",
    "print(arr[...,2])\n",
    "\n",
    "\n",
    "arr = torch.tensor([\n",
    "    [\n",
    "        [ \n",
    "            [1111, 1112], \n",
    "            [1121, 1122] \n",
    "        ], \n",
    "        [ \n",
    "            [1211, 1212], \n",
    "            [1221, 1222] \n",
    "        ]\n",
    "    ],\n",
    "    [\n",
    "        [ \n",
    "            [2111, 2112], \n",
    "            [2121, 2122] \n",
    "        ], \n",
    "        [ \n",
    "            [2211, 2212], \n",
    "            [2221, 2222] \n",
    "        ]\n",
    "    ],\n",
    "    \n",
    "])\n",
    "print(arr[...,1])\n",
    "print(arr[0,...,1])\n"
   ]
  },
  {
   "cell_type": "code",
   "execution_count": 20,
   "metadata": {},
   "outputs": [
    {
     "name": "stdout",
     "output_type": "stream",
     "text": [
      "torch.Size([2, 2])\n",
      "tensor([[1, 2, 4, 5],\n",
      "        [3, 4, 6, 7]])\n",
      "\n",
      "transpose -->\n",
      " tensor([[1, 3],\n",
      "        [2, 4]])\n",
      "\n",
      "transpose -->\n",
      " tensor([[[111, 121, 131],\n",
      "         [112, 122, 132],\n",
      "         [113, 123, 133],\n",
      "         [114, 124, 134]],\n",
      "\n",
      "        [[211, 221, 231],\n",
      "         [212, 222, 232],\n",
      "         [213, 223, 233],\n",
      "         [214, 224, 234]]])\n",
      "\n",
      "split -->\n",
      "\n",
      "tensor([[1, 2],\n",
      "        [3, 4]])\n",
      "tensor([[5, 6]])\n",
      "tensor([[ 7,  8],\n",
      "        [ 9, 10],\n",
      "        [11, 12]])\n"
     ]
    }
   ],
   "source": [
    "import torch\n",
    "\n",
    "a = torch.tensor([[1, 2], [3, 4]])\n",
    "b = torch.tensor([[4, 5], [6, 7]])\n",
    "\n",
    "c = torch.tensor([\n",
    "        [\n",
    "            [111, 112, 113, 114],\n",
    "            [121, 122, 123, 124],\n",
    "            [131, 132, 133, 134]\n",
    "        ],\n",
    "        [\n",
    "            [211, 212, 213, 214],\n",
    "            [221, 222, 223, 224],\n",
    "            [231, 232, 233, 234]\n",
    "        ]\n",
    "    ])\n",
    "\n",
    "print(a.size())\n",
    "print(torch.cat((a, b), dim=1))\n",
    "\n",
    "#transpose\n",
    "print(\"\\ntranspose -->\\n\", torch.einsum('ji->ij', a))\n",
    "print(\"\\ntranspose -->\\n\", torch.einsum('ijk->ikj',c))\n",
    "\n",
    "\n",
    "\n",
    "\n",
    "c = torch.tensor([[1, 2], [3, 4], [5, 6], [7, 8], [9, 10], [11, 12]])\n",
    "(c1, c2, c3) = torch.split(c, [2,1,3])\n",
    "print(\"\\nsplit -->\\n\", c1, c2, c3, sep=\"\\n\")\n"
   ]
  },
  {
   "cell_type": "code",
   "execution_count": 15,
   "metadata": {},
   "outputs": [
    {
     "name": "stdout",
     "output_type": "stream",
     "text": [
      "tensor([ 2,  8, 18])\n",
      "tensor([[ 0.6514, -2.3178, -0.4828],\n",
      "        [-0.3267, -0.3087, -0.5721]])\n",
      "tensor([[ 0.6514, -0.3267],\n",
      "        [-2.3178, -0.3087],\n",
      "        [-0.4828, -0.5721]])\n",
      "sum of diagnol tensor(10)\n",
      "diagnol elements tensor([1, 9])\n",
      "multiplication tensor([[ 3,  3],\n",
      "        [12, 12]])\n"
     ]
    }
   ],
   "source": [
    "import torch\n",
    "\n",
    "x = torch.tensor([1, 2, 3])\n",
    "print(2*x**2)\n",
    "\n",
    "x = torch.randn(2, 3)\n",
    "print(x)\n",
    "print(x.transpose(dim0=-1, dim1=0))\n",
    "\n",
    "x = torch.tensor([ [1, 2], [3, 9] ])\n",
    "y = torch.tensor( [ [1, 1], [1, 1] ])\n",
    "print(\"sum of diagnol\", torch.einsum('ii', x))\n",
    "print(\"diagnol elements\", torch.einsum('ii->i', x))\n",
    "print(\"multiplication\", torch.einsum('ij,jk->ik', x, y))\n",
    "print(\"batch mul\", torch.einsum('ij,jk->ik', x, y))\n",
    "\n",
    "x = torch.tensor([ [[1, 2, 3], [4, 5, 6]], [ [7, 8, 9], [10, 11, 12] ] ])\n",
    "y = torch.tensor([ [[1, 2, 3], [4, 5, 6]], [ [7, 8, 9], [10, 11, 12] ] ])\n"
   ]
  }
 ],
 "metadata": {
  "kernelspec": {
   "display_name": "ik-mini-graph",
   "language": "python",
   "name": "python3"
  },
  "language_info": {
   "codemirror_mode": {
    "name": "ipython",
    "version": 3
   },
   "file_extension": ".py",
   "mimetype": "text/x-python",
   "name": "python",
   "nbconvert_exporter": "python",
   "pygments_lexer": "ipython3",
   "version": "3.11.4"
  },
  "orig_nbformat": 4
 },
 "nbformat": 4,
 "nbformat_minor": 2
}
