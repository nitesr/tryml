{
  "cells": [
    {
      "cell_type": "code",
      "execution_count": null,
      "metadata": {},
      "outputs": [],
      "source": [
        "!pip3 install torch"
      ]
    },
    {
      "cell_type": "markdown",
      "metadata": {
        "id": "wMLYXSdhjfQe"
      },
      "source": [
        "Question 1: In this coding question, you are tasked with building a neural network with three layers using PyTorch. You need to fill in the blanks for the activation function, initialization, and the forward function to complete the implementation. The provided testing code allows them to check whether their neural network is functioning as expected."
      ]
    },
    {
      "cell_type": "code",
      "execution_count": 74,
      "metadata": {
        "id": "-etFclfcjgRv"
      },
      "outputs": [
        {
          "name": "stdout",
          "output_type": "stream",
          "text": [
            "\n",
            "input -->\n",
            " tensor([[ 0.0414, -0.2323, -1.3658,  1.9687, -1.4558]])\n",
            "\n",
            "model -->\n",
            " ThreeLayerNN(\n",
            "  (input_layer): Linear(in_features=5, out_features=10, bias=True)\n",
            "  (hidden_layer): Linear(in_features=10, out_features=10, bias=True)\n",
            "  (output_layer): Linear(in_features=10, out_features=3, bias=True)\n",
            ")\n",
            "\n",
            "Output tensor -->\n",
            " tensor([[-0.1165, -0.5698, -0.0750]], grad_fn=<AddmmBackward0>)\n"
          ]
        }
      ],
      "source": [
        "import torch\n",
        "import torch.nn as nn\n",
        "\n",
        "\n",
        "# Step 1: Layer Dimensions\n",
        "input_dim = 5  # Fill in the blank for the number of input features\n",
        "hidden_dim = 10  # Fill in the blank for the number of hidden units\n",
        "output_dim = 3  # Fill in the blank for the number of output units\n",
        "\n",
        "# Step 2: Activation Function\n",
        "def activation_function(x):\n",
        "    return torch.relu(x)  # Fill in the blank for the activation function\n",
        "\n",
        "# Step 3: Neural Network Architecture\n",
        "class ThreeLayerNN(nn.Module):\n",
        "    def __init__(self):\n",
        "        super(ThreeLayerNN, self).__init__()\n",
        "        self.input_layer = nn.Linear(input_dim, hidden_dim)  # Fill in the blanks for input layer dimensions\n",
        "        self.hidden_layer = nn.Linear(hidden_dim , hidden_dim)  # Fill in the blanks for hidden layer dimensions\n",
        "        self.output_layer = nn.Linear(hidden_dim , output_dim)  # Fill in the blanks for output layer dimensions\n",
        "\n",
        "    def forward(self, x):\n",
        "        hidden_output = activation_function(self.input_layer(x))  # Fill in the blank for the forward pass through the input layer\n",
        "        hidden_output = activation_function(self.hidden_layer(hidden_output))  # Fill in the blank for the forward pass through the hidden layer\n",
        "        output = self.output_layer(hidden_output)  # Fill in the blank for the forward pass through the output layer\n",
        "        return output\n",
        "\n",
        "# Step 4: Initialization and Testing\n",
        "x = torch.randn(1, input_dim)\n",
        "print(\"\\ninput -->\\n\", x)\n",
        "model = ThreeLayerNN()\n",
        "print(\"\\nmodel -->\\n\", model)\n",
        "output = model(x)\n",
        "print(\"\\nOutput tensor -->\\n\", output)\n"
      ]
    },
    {
      "cell_type": "markdown",
      "metadata": {
        "id": "8iXVgEjGkqP1"
      },
      "source": [
        "Question 2: Your task is to fill in the blanks in the \"Define the Real Function\" section to complete the implementation of the real function f(x). Then, fill in the blanks in the \"Compute the Gradient\" section to compute the gradient of the real function with respect to the input x. Lastly, obtain and print the gradient of x."
      ]
    },
    {
      "cell_type": "code",
      "execution_count": 59,
      "metadata": {
        "colab": {
          "base_uri": "https://localhost:8080/"
        },
        "id": "i3XEdmJBkqzk",
        "outputId": "f4ab39e3-494a-43c4-8186-1f2d637ce20b"
      },
      "outputs": [
        {
          "name": "stdout",
          "output_type": "stream",
          "text": [
            "result: tensor(0.2222, grad_fn=<DivBackward0>)\n",
            "Computed Gradient of x: tensor(-1.0370)\n",
            "Gradient of x: tensor(-1.0370)\n"
          ]
        }
      ],
      "source": [
        "import torch\n",
        "\n",
        "# Define the real function f(x) = (x^4 - 3x^3 + 2x^2 - 5x + 7) / (2x^3 + 5x^2 - x + 3)\n",
        "def f1(x):\n",
        "    return (x**4 - 3*x**3 + 2*x**2 - 5*x + 7)\n",
        "\n",
        "def f2(x):\n",
        "    return (2*x**3 + 5*x**2 - x + 3)\n",
        "\n",
        "def real_function(x):\n",
        "    result = f1(x)/f2(x) # Fill in the blank for the computation of the function\n",
        "    return result\n",
        "\n",
        "# Define a real number for which to compute the gradient\n",
        "x = torch.tensor(1.0, requires_grad=True, dtype=torch.float32)\n",
        "\n",
        "# Compute the real function f(x)\n",
        "result = real_function(x)  # Fill in the blank to call the real function with input 'x'\n",
        "\n",
        "# Compute the gradient of f(x) with respect to x\n",
        "def gradient_f1(x):\n",
        "    return (4*x**3 - 3*3*x**2 + 2*2*x - 5)\n",
        "def gradient_f2(x):\n",
        "    return  (2*3*x**2 + 5*2*x - 1)\n",
        "def gradient_f(x):\n",
        "    return (gradient_f1(x)*f2(x) - gradient_f2(x)*f1(x))/f2(x)**2\n",
        "\n",
        "with torch.no_grad():\n",
        "    gradient_result = gradient_f(x) \n",
        "    \n",
        "print(\"result:\", result)\n",
        "print(\"Computed Gradient of x:\", gradient_result)\n",
        "\n",
        "# Obtain the gradient of x\n",
        "result.backward() # Fill in the blank to compute the gradient of 'result'\n",
        "gradient_x = x.grad  # Fill in the blank for the gradient of 'x'\n",
        "\n",
        "print(\"Gradient of x:\", gradient_x)\n"
      ]
    },
    {
      "cell_type": "markdown",
      "metadata": {
        "id": "5a7EZdZy4ItW"
      },
      "source": [
        "Optional Question: Below is an incomplete code for Logistic Regression in Pytorch. Your task is to fill the appropriate function calls and run the for teh specified number of epochs."
      ]
    },
    {
      "cell_type": "code",
      "execution_count": 80,
      "metadata": {
        "id": "Gqmgx06BvoH0"
      },
      "outputs": [
        {
          "name": "stdout",
          "output_type": "stream",
          "text": [
            "Epoch [100/1000], Loss: 0.6926\n",
            "Epoch [200/1000], Loss: 0.6774\n",
            "Epoch [300/1000], Loss: 0.6497\n",
            "Epoch [400/1000], Loss: 0.5926\n",
            "Epoch [500/1000], Loss: 0.5446\n",
            "Epoch [600/1000], Loss: 0.5263\n",
            "Epoch [700/1000], Loss: 0.5188\n",
            "Epoch [800/1000], Loss: 0.5150\n",
            "Epoch [900/1000], Loss: 0.5125\n",
            "Epoch [1000/1000], Loss: 0.5106\n",
            "Predicted class: [1 1 0]\n"
          ]
        }
      ],
      "source": [
        "import torch\n",
        "import torch.nn as nn\n",
        "import torch.optim as optim\n",
        "\n",
        "# Step 1: Prepare the data\n",
        "# Define the number of features (input size)\n",
        "input_size = 2\n",
        "\n",
        "# Define the number of classes (output size)\n",
        "output_size = 2\n",
        "\n",
        "# Create the training dataset\n",
        "X_train = torch.tensor([ [1.0, 2.0], [2.0, 3.0], [3.0, 4.0], [5.0, 1.0] ])\n",
        "y_train = torch.tensor([ 0, 1, 1, 1 ])  # Fill in the blanks for the appropriate y_train values\n",
        "\n",
        "# Step 2: Define the logistic regression model\n",
        "class LogisticRegressionModel(nn.Module):\n",
        "    def __init__(self):\n",
        "        super(LogisticRegressionModel, self).__init__()\n",
        "        self.linear = nn.Linear(input_size, output_size)\n",
        "\n",
        "    def forward(self, x):\n",
        "        return torch.sigmoid(self.linear(x))\n",
        "\n",
        "model = LogisticRegressionModel()\n",
        "\n",
        "# Step 3: Define the loss function and optimizer\n",
        "criterion = nn.CrossEntropyLoss()  # Fill in the blank for the appropriate loss function\n",
        "optimizer = optim.SGD(model.parameters(), lr=0.01)  # Fill in the blank for the appropriate optimizer\n",
        "\n",
        "# Step 4: Train the model\n",
        "num_epochs = 1000\n",
        "for epoch in range(num_epochs):\n",
        "    # Forward pass\n",
        "    outputs = model(X_train)\n",
        "    loss = criterion(outputs, y_train)  # Fill in the blanks for the appropriate y_train values\n",
        "\n",
        "    # Backward and optimize\n",
        "    optimizer.zero_grad()\n",
        "    loss.backward()\n",
        "    optimizer.step()\n",
        "\n",
        "    if (epoch + 1) % 100 == 0:\n",
        "        print(f'Epoch [{epoch+1}/{num_epochs}], Loss: {loss.item():.4f}')\n",
        "\n",
        "# Step 5: Test the model\n",
        "X_test = torch.tensor([[4.0, 3.0], [1.0, 1.0], [0.0, 0.0]], requires_grad=False)\n",
        "Y_test = torch.tensor([ 1, 0, 0], requires_grad=False)\n",
        "predicted = model(X_test)\n",
        "predicted_class = torch.argmax(predicted, dim=1).numpy()\n",
        "print(\"Predicted class:\", predicted_class)  # Fill in the blank for the appropriate tensor to get the predicted class"
      ]
    },
    {
      "cell_type": "markdown",
      "metadata": {
        "id": "mvZKas4YwFbE"
      },
      "source": [
        "Optional Question: Implementing Single-Headed Attention with einsum\n",
        "\n",
        "In this coding question, you will implement a single-headed attention function using einsum in PyTorch. The provided inspiration function demonstrates the computation of single-headed attention without using einsum. Your task is to take inspiration from the given function and write a new function that performs the same computation using einsum.\n",
        "\n",
        "Explanation of the code without Einsum:\n",
        "- Inputs:\n",
        "\n",
        "- - query: A PyTorch tensor of shape (batch_size, sequence_length, query_dim). This tensor represents the query vectors for each token in the sequence.\n",
        "- - key: A PyTorch tensor of shape (batch_size, sequence_length, key_dim). This tensor represents the key vectors for each token in the sequence.\n",
        "- - value: A PyTorch tensor of shape (batch_size, sequence_length, value_dim). This tensor represents the value vectors for each token in the sequence.\n",
        "\n",
        "- Outputs:\n",
        "\n",
        "- - attended_values: A PyTorch tensor of shape (batch_size, sequence_length, value_dim). This tensor represents the attended values obtained by combining the value vectors with the attention weights.\n",
        "- - attention_weights: A PyTorch tensor of shape (batch_size, sequence_length, sequence_length). This tensor contains the attention weights indicating the importance of each token's value in producing the attended values."
      ]
    },
    {
      "cell_type": "code",
      "execution_count": 71,
      "metadata": {
        "id": "TYf8PTaIwGHJ"
      },
      "outputs": [
        {
          "name": "stdout",
          "output_type": "stream",
          "text": [
            "tensor([[[True, True, True, True],\n",
            "         [True, True, True, True],\n",
            "         [True, True, True, True]],\n",
            "\n",
            "        [[True, True, True, True],\n",
            "         [True, True, True, True],\n",
            "         [True, True, True, True]]])\n",
            "tensor([[[True, True, True],\n",
            "         [True, True, True],\n",
            "         [True, True, True]],\n",
            "\n",
            "        [[True, True, True],\n",
            "         [True, True, True],\n",
            "         [True, True, True]]])\n"
          ]
        }
      ],
      "source": [
        "# Single headed attention without EinSum\n",
        "import torch\n",
        "import torch.nn.functional as F\n",
        "\n",
        "def single_head_attention(query, key, value):\n",
        "    # Calculate the dot product between query and key\n",
        "    dot_product = torch.matmul(query, key.transpose(-2, -1))\n",
        "    \n",
        "\n",
        "    # Scale the dot product by dividing it by the square root of the dimension of the key vector\n",
        "    scaled_dot_product = dot_product / (key.size(-1) ** 0.5)\n",
        "    \n",
        "    # Apply softmax to obtain attention weights along the last dimension (head dimension)\n",
        "    attention_weights = F.softmax(scaled_dot_product, dim=-1)\n",
        "\n",
        "    # Compute the weighted sum of value vectors\n",
        "    attended_values = torch.matmul(attention_weights, value)\n",
        "\n",
        "    return attended_values, attention_weights\n",
        "\n",
        "\n",
        "# Einsum based attention goes here\n",
        "def single_head_attention_with_einsum(query, key, value):\n",
        "    key_t = torch.einsum('ijk->ikj', key)\n",
        "    dot_product = torch.einsum('bik,bkj->bij', query, key_t)\n",
        "    scaled_dot_product = dot_product / (key.size(-1) ** 0.5)\n",
        "    attention_weights = F.softmax(scaled_dot_product, dim=-1)\n",
        "    attended_values = torch.einsum('bik,bkj->bij', attention_weights, value)\n",
        "\n",
        "    return attended_values, attention_weights\n",
        "  \n",
        "\n",
        "q = torch.rand(2, 3, 4)\n",
        "k = torch.rand(2, 3, 4)\n",
        "v = torch.rand(2, 3, 4)\n",
        "\n",
        "(result_values, result_weights) = single_head_attention(q, k, v)\n",
        "(result_einsum_values, result_einsum_weights) = single_head_attention_with_einsum(q, k, v)\n",
        "\n",
        "print(torch.eq(result_values, result_einsum_values))\n",
        "print(torch.eq(result_weights, result_einsum_weights))\n"
      ]
    }
  ],
  "metadata": {
    "colab": {
      "provenance": []
    },
    "kernelspec": {
      "display_name": "Python 3",
      "name": "python3"
    },
    "language_info": {
      "codemirror_mode": {
        "name": "ipython",
        "version": 3
      },
      "file_extension": ".py",
      "mimetype": "text/x-python",
      "name": "python",
      "nbconvert_exporter": "python",
      "pygments_lexer": "ipython3",
      "version": "3.11.4"
    }
  },
  "nbformat": 4,
  "nbformat_minor": 0
}
