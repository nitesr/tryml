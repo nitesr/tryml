{
  "cells": [
    {
      "cell_type": "markdown",
      "metadata": {
        "id": "9Qy3x_8QK11D"
      },
      "source": [
        "# Digit Recognizer Dataset Introduction\n",
        "\n",
        "It contains the following info:\n",
        "\n",
        "The data files train.csv and test.csv contain gray-scale images of hand-drawn digits, from zero through nine.\n",
        "\n",
        "Each image is 28 pixels in height and 28 pixels in width, for a total of 784 pixels in total. Each pixel has a single pixel-value associated with it, indicating the lightness or darkness of that pixel, with higher numbers meaning darker. This pixel-value is an integer between 0 and 255, inclusive.\n",
        "\n",
        "The training data set, (train.csv), has 785 columns. The first column, called \"label\", is the digit that was drawn by the user. The rest of the columns contain the pixel-values of the associated image.\n",
        "\n",
        "Each pixel column in the training set has a name like pixelx, where x is an integer between 0 and 783, inclusive. To locate this pixel on the image, suppose that we have decomposed x as x = i * 28 + j, where i and j are integers between 0 and 27, inclusive. Then pixelx is located on row i and column j of a 28 x 28 matrix, (indexing by zero).\n",
        "\n",
        "For example, pixel31 indicates the pixel that is in the fourth column from the left, and the second row from the top, as in the ascii-diagram below.\n",
        "\n",
        "The test data set, (test.csv), is the same as the training set, except that it does not contain the \"label\" column.\n",
        "\n",
        "Your submission file should be in the following format: For each of the 28000 images in the test set, output a single line containing the ImageId and the digit you predict. For example, if you predict that the first image is of a 3, the second image is of a 7, and the third image is of a 8, then your submission file would look like:\n",
        "\n",
        "ImageId,Label\n",
        "1,3\n",
        "2,7\n",
        "3,8\n",
        "(27997 more lines)\n",
        "\n",
        "\n",
        "How to install tensor flow on Mac M1/M2 chips?\n",
        "https://github.com/jeffheaton/t81_558_deep_learning/blob/master/install/tensorflow-install-mac-metal-jan-2023.ipynb\n"
      ]
    },
    {
      "cell_type": "code",
      "execution_count": null,
      "metadata": {},
      "outputs": [],
      "source": [
        "!pip3 install keras\n",
        "!pip3 install tensorflow\n",
        "!pip3 install datetime\n",
        "!pip3 install mnist\n",
        "!pip3 install seaborn"
      ]
    },
    {
      "cell_type": "code",
      "execution_count": null,
      "metadata": {},
      "outputs": [],
      "source": [
        "%load_ext tensorboard"
      ]
    },
    {
      "cell_type": "code",
      "execution_count": 17,
      "metadata": {
        "id": "vcRAogOvaBAA"
      },
      "outputs": [
        {
          "name": "stderr",
          "output_type": "stream",
          "text": [
            "2023-08-22 14:04:03.545317: I tensorflow/core/platform/cpu_feature_guard.cc:182] This TensorFlow binary is optimized to use available CPU instructions in performance-critical operations.\n",
            "To enable the following instructions: SSE4.1 SSE4.2 AVX AVX2 FMA, in other operations, rebuild TensorFlow with the appropriate compiler flags.\n"
          ]
        }
      ],
      "source": [
        "import pandas as pd\n",
        "import numpy as np\n",
        "import matplotlib.pyplot as plt\n",
        "import matplotlib.image as mpimg\n",
        "import seaborn as sns\n",
        "%matplotlib inline\n",
        "\n",
        "np.random.seed(2)\n",
        "\n",
        "from sklearn.model_selection import train_test_split\n",
        "from sklearn.metrics import confusion_matrix\n",
        "import itertools\n",
        "\n",
        "# convert to one-hot-encoding\n",
        "# from keras.utils.np_utils import to_categorical\n",
        "from keras.models import Sequential\n",
        "from keras.layers import Dense, Dropout, Flatten, Conv2D, MaxPool2D\n",
        "from keras.optimizers import RMSprop\n",
        "from keras.preprocessing.image import ImageDataGenerator\n",
        "from keras.callbacks import ReduceLROnPlateau\n",
        "import tensorflow as tf\n",
        "\n",
        "\n",
        "sns.set(style='white', context='notebook', palette='deep')"
      ]
    },
    {
      "cell_type": "markdown",
      "metadata": {
        "id": "BtXCQOmPbgZM"
      },
      "source": [
        "## 1. Data preparation\n",
        "### 1.1 Load the Data in Memory\n"
      ]
    },
    {
      "cell_type": "code",
      "execution_count": 18,
      "metadata": {},
      "outputs": [
        {
          "name": "stdout",
          "output_type": "stream",
          "text": [
            "(60000, 28, 28) (10000, 28, 28)\n",
            "(60000,)\n"
          ]
        }
      ],
      "source": [
        "import mnist as MNIST\n",
        "import numpy as np\n",
        "\n",
        "train_images = MNIST.train_images()\n",
        "train_labels = MNIST.train_labels()\n",
        "test_images = MNIST.test_images()\n",
        "test_labels = MNIST.test_labels()\n",
        "\n",
        "print(train_images.shape, test_images.shape)\n",
        "print(train_labels.shape)"
      ]
    },
    {
      "cell_type": "code",
      "execution_count": 10,
      "metadata": {
        "colab": {
          "base_uri": "https://localhost:8080/"
        },
        "id": "cqVjqsibozCR",
        "outputId": "c7899498-bf64-4523-d807-d8f929b34457"
      },
      "outputs": [
        {
          "data": {
            "text/plain": [
              "label\n",
              "1        6742\n",
              "7        6265\n",
              "3        6131\n",
              "2        5958\n",
              "9        5949\n",
              "0        5923\n",
              "6        5918\n",
              "8        5851\n",
              "4        5842\n",
              "5        5421\n",
              "Name: count, dtype: int64"
            ]
          },
          "execution_count": 10,
          "metadata": {},
          "output_type": "execute_result"
        }
      ],
      "source": [
        "import pandas as pd\n",
        "\n",
        "Y_train = pd.DataFrame(train_labels, columns=[\"label\"])\n",
        "Y_test = pd.DataFrame(test_labels, columns=[\"label\"])\n",
        "\n",
        "# Drop 'label' column\n",
        "X_train = pd.DataFrame(train_images.reshape(-1, 28*28))\n",
        "X_test = pd.DataFrame(test_images.reshape(-1, 28*28))\n",
        "\n",
        "Y_train.value_counts()\n"
      ]
    },
    {
      "cell_type": "code",
      "execution_count": 19,
      "metadata": {
        "colab": {
          "base_uri": "https://localhost:8080/",
          "height": 458
        },
        "id": "owkT4pN4pArK",
        "outputId": "cf863175-37eb-41ad-d539-90116801ba47"
      },
      "outputs": [
        {
          "data": {
            "image/png": "[encoded data removed]",
            "text/plain": [
              "<Figure size 640x480 with 1 Axes>"
            ]
          },
          "metadata": {},
          "output_type": "display_data"
        }
      ],
      "source": [
        "import seaborn as sns\n",
        "\n",
        "sns.countplot(x='label',data=Y_train);"
      ]
    },
    {
      "cell_type": "markdown",
      "metadata": {
        "id": "KXCjW5VzvBA0"
      },
      "source": [
        "#### Inferences\n",
        "We have similar counts for the 10 digits."
      ]
    },
    {
      "cell_type": "markdown",
      "metadata": {
        "id": "Kboq_Zi2vM43"
      },
      "source": [
        "### 1.2 Check for null and missing values"
      ]
    },
    {
      "cell_type": "code",
      "execution_count": 20,
      "metadata": {
        "colab": {
          "base_uri": "https://localhost:8080/"
        },
        "id": "SExEcfnJqo7y",
        "outputId": "478de9cc-775f-46cf-8eee-fe888900a432"
      },
      "outputs": [
        {
          "data": {
            "text/plain": [
              "count       784\n",
              "unique        1\n",
              "top       False\n",
              "freq        784\n",
              "dtype: object"
            ]
          },
          "execution_count": 20,
          "metadata": {},
          "output_type": "execute_result"
        }
      ],
      "source": [
        "# Check the data\n",
        "X_train.isnull().any().describe()"
      ]
    },
    {
      "cell_type": "code",
      "execution_count": 23,
      "metadata": {},
      "outputs": [
        {
          "data": {
            "text/plain": [
              "count         1\n",
              "unique        1\n",
              "top       False\n",
              "freq          1\n",
              "dtype: object"
            ]
          },
          "execution_count": 23,
          "metadata": {},
          "output_type": "execute_result"
        }
      ],
      "source": [
        "Y_train.isnull().any().describe()"
      ]
    },
    {
      "cell_type": "code",
      "execution_count": 22,
      "metadata": {
        "colab": {
          "base_uri": "https://localhost:8080/"
        },
        "id": "Ux0Ap6_-veH5",
        "outputId": "116c74ce-8907-493d-a9c3-b389f694b02e"
      },
      "outputs": [
        {
          "data": {
            "text/plain": [
              "count       784\n",
              "unique        1\n",
              "top       False\n",
              "freq        784\n",
              "dtype: object"
            ]
          },
          "execution_count": 22,
          "metadata": {},
          "output_type": "execute_result"
        }
      ],
      "source": [
        "X_test.isnull().any().describe()\n"
      ]
    },
    {
      "cell_type": "code",
      "execution_count": 24,
      "metadata": {},
      "outputs": [
        {
          "data": {
            "text/plain": [
              "count         1\n",
              "unique        1\n",
              "top       False\n",
              "freq          1\n",
              "dtype: object"
            ]
          },
          "execution_count": 24,
          "metadata": {},
          "output_type": "execute_result"
        }
      ],
      "source": [
        "Y_test.isnull().any().describe()"
      ]
    },
    {
      "cell_type": "markdown",
      "metadata": {
        "id": "NG6Z6Qxrv2Ox"
      },
      "source": [
        "### 1.3 Normalization\n",
        "\n",
        "### benefit of normalization of inputs;\n",
        "\n",
        "**Faster Convergence**: \n",
        "\n",
        "    Normalization scales all input features (in this case, pixel intensities) to the same range, which can make the training process faster and more efficient. This is because most common activation functions of the neuron in a neural network are linear (or nearly linear) for small input values, and saturate for larger input values. So, if the input values are large (like pixel intensities that range from 0 to 255), the activations of neurons may become saturated, making the network harder to train.\n",
        "\n",
        "    Avoids Gradient Issues: Large input values can lead to large activation values in the neurons of the network. When activation values are large, small changes in the weights can lead to small changes in the output, which can result in tiny gradients. Tiny gradients can lead to a problem called \"vanishing gradients\", which slows down the training process or causes it to fail altogether.\n",
        "\n",
        "**Consistent Distribution**: \n",
        "\n",
        "    Normalizing ensures that the distribution of features remains more consistent across different features (and different units within a layer). This can prevent certain features from exerting an outsized influence on the training process.\n",
        "    \n",
        "    In the specific code you provided, the normalization is achieved by dividing the pixel values by 255 (the maximum RGB code minus the minimum RGB code). This scales the pixel values between 0 and 1. After normalization, the level of granularity remains intact, but the range of values is now much smaller, leading to more stable training and improved model performance\n",
        "\n",
        "\n",
        "We perform a grayscale normalization to reduce the effect of illumination's differences.\n",
        "\n",
        "Moreover the CNN converg faster on [0..1] data than on [0..255]."
      ]
    },
    {
      "cell_type": "code",
      "execution_count": 25,
      "metadata": {
        "id": "sSktEc4DxzOu"
      },
      "outputs": [],
      "source": [
        "# Normalize the data\n",
        "X_train_scaled = X_train / 255.0\n",
        "test_scaled = X_test / 255.0"
      ]
    },
    {
      "cell_type": "markdown",
      "metadata": {
        "id": "Dx3Qna3wwpBP"
      },
      "source": [
        "### 1.4 Reshape"
      ]
    },
    {
      "cell_type": "code",
      "execution_count": 42,
      "metadata": {
        "id": "muI-Qtg_wLg_"
      },
      "outputs": [
        {
          "name": "stdout",
          "output_type": "stream",
          "text": [
            "(42000, 28, 28, 1)\n"
          ]
        }
      ],
      "source": [
        "# Reshape image in 3 dimensions (height = 28px, width = 28px , channel = 1)\n",
        "X_train_expanded = X_train_scaled.values.reshape(-1,28,28,1)\n",
        "test_expanded = test_scaled.values.reshape(-1,28,28,1)\n",
        "\n",
        "print(X_train_expanded.shape)"
      ]
    },
    {
      "cell_type": "markdown",
      "metadata": {
        "id": "yWd_LBhAw0f8"
      },
      "source": [
        "Train and test images (28px x 28px) has been stock into pandas.Dataframe as 1D vectors of 784 values. We reshape all data to 28x28x1 3D matrices.\n",
        "\n",
        "Keras requires an extra dimension in the end which correspond to channels. MNIST images are gray scaled so it use only one channel. For RGB images, there is 3 channels, we would have reshaped 784px vectors to 28x28x3 3D matrices."
      ]
    },
    {
      "cell_type": "markdown",
      "metadata": {
        "id": "qJvEFkPmxVQo"
      },
      "source": [
        "### 1.5 Label encoding\n",
        "Encode labels to one hot vectors (ex : 2 -> [0,0,1,0,0,0,0,0,0,0])"
      ]
    },
    {
      "cell_type": "code",
      "execution_count": 43,
      "metadata": {
        "colab": {
          "base_uri": "https://localhost:8080/"
        },
        "id": "cBhdccPowyUK",
        "outputId": "c84e8e35-286a-4611-9f71-a94c8dd36cfb"
      },
      "outputs": [
        {
          "name": "stdout",
          "output_type": "stream",
          "text": [
            "[array([0, 1, 2, 3, 4, 5, 6, 7, 8, 9])]\n",
            "[[0. 1. 0. ... 0. 0. 0.]\n",
            " [1. 0. 0. ... 0. 0. 0.]\n",
            " [0. 1. 0. ... 0. 0. 0.]\n",
            " ...\n",
            " [0. 0. 0. ... 1. 0. 0.]\n",
            " [0. 0. 0. ... 0. 0. 0.]\n",
            " [0. 0. 0. ... 0. 0. 1.]]\n"
          ]
        },
        {
          "data": {
            "text/plain": [
              "array([4132., 4684., 4177., 4351., 4072., 3795., 4137., 4401., 4063.,\n",
              "       4188.])"
            ]
          },
          "execution_count": 43,
          "metadata": {},
          "output_type": "execute_result"
        }
      ],
      "source": [
        "from sklearn.preprocessing import OneHotEncoder\n",
        "\n",
        "Y_train_expanded = Y_train.to_numpy().reshape(-1, 1)\n",
        "\n",
        "enc = OneHotEncoder(sparse_output=False)\n",
        "enc.fit(Y_train_expanded)\n",
        "print(enc.categories_)\n",
        "\n",
        "Y_train_expanded = enc.transform(Y_train_expanded)\n",
        "print(Y_train_expanded)\n",
        "\n",
        "np.apply_along_axis(np.sum, 0, Y_train_expanded)\n",
        "    \n",
        "#Y_train = to_categorical(Y_train, num_classes = 10)\n",
        "#Y_train"
      ]
    },
    {
      "cell_type": "markdown",
      "metadata": {
        "id": "d_F4edMFykVN"
      },
      "source": [
        "Labels are 10 digits numbers from 0 to 9. We need to encode these lables to one hot vectors (ex : 2 -> [0,0,1,0,0,0,0,0,0,0])."
      ]
    },
    {
      "cell_type": "markdown",
      "metadata": {
        "id": "9vF4shEAyusU"
      },
      "source": [
        "### 1.6 Split training and validation set"
      ]
    },
    {
      "cell_type": "code",
      "execution_count": 44,
      "metadata": {
        "id": "rEw4Lywtyhl4"
      },
      "outputs": [
        {
          "name": "stdout",
          "output_type": "stream",
          "text": [
            "(37800, 28, 28, 1) (4200, 28, 28, 1)\n",
            "(37800, 10) (4200, 10)\n"
          ]
        }
      ],
      "source": [
        "from sklearn.model_selection import train_test_split\n",
        "\n",
        "# Set the random seed\n",
        "random_seed = 2\n",
        "# Split the train and the validation set for the fitting\n",
        "X_split_train, X_split_val, Y_split_train, Y_split_val = train_test_split(X_train_expanded, Y_train_expanded, test_size = 0.1, random_state=random_seed)\n",
        "\n",
        "print(X_split_train.shape, X_split_val.shape)\n",
        "print(Y_split_train.shape, Y_split_val.shape)\n"
      ]
    },
    {
      "cell_type": "markdown",
      "metadata": {
        "id": "wj9JAanby4VR"
      },
      "source": [
        "Split the train set in two parts : a small fraction (10%) became the validation set which the model is evaluated and the rest (90%) is used to train the model.\n",
        "\n",
        "Since we have 42,000 training images of balanced labels, a random split of the train set doesn't cause some labels to be over represented in the validation set. Be carefull with some unbalanced dataset a simple random split could cause inaccurate evaluation during the validation.\n",
        "\n",
        "To avoid that, you could use stratify = True option in train_test_split function (Only for >=0.17 sklearn versions).\n",
        "\n",
        "We can get a better sense for one of these examples by visualising the image and looking at the label."
      ]
    },
    {
      "cell_type": "code",
      "execution_count": 45,
      "metadata": {
        "colab": {
          "base_uri": "https://localhost:8080/",
          "height": 434
        },
        "id": "Iq-1zodwyz6V",
        "outputId": "4a7e34f3-f555-413d-fd57-c6de2a4a6900"
      },
      "outputs": [
        {
          "data": {
            "image/png": "[encoded data removed]",
            "text/plain": [
              "<Figure size 640x480 with 1 Axes>"
            ]
          },
          "metadata": {},
          "output_type": "display_data"
        }
      ],
      "source": [
        "# Some examples\n",
        "g = plt.imshow(X_split_train[0][:,:,0])"
      ]
    },
    {
      "cell_type": "markdown",
      "metadata": {
        "id": "SlG96Qotzc-w"
      },
      "source": [
        "## 2. CNN (Convolutional Neural Network)\n",
        "#### 2.1 Define the model\n",
        "\n",
        "Have used the Keras Sequential API, where you have just to add one layer at a time, starting from the input.\n",
        "\n",
        "The first is the convolutional (Conv2D) layer. It is like a set of learnable filters. Have set 32 filters for the two firsts conv2D layers and 64 filters for the two last ones. Each filter transforms a part of the image (defined by the kernel size) using the kernel filter. The kernel filter matrix is applied on the whole image. Filters can be seen as a transformation of the image.\n",
        "\n",
        "The CNN can isolate features that are useful everywhere from these transformed images (feature maps).\n",
        "\n",
        "The second important layer in CNN is the pooling (MaxPool2D) layer. This layer simply acts as a downsampling filter. It looks at the 2 neighboring pixels and picks the maximal value. These are used to reduce computational cost, and to some extent also reduce overfitting. We have to choose the pooling size (i.e the area size pooled each time) more the pooling dimension is high, more the downsampling is important.\n",
        "\n",
        "Combining convolutional and pooling layers, CNN are able to combine local features and learn more global features of the image.\n",
        "\n",
        "Dropout is a regularization method, where a proportion of nodes in the layer are randomly ignored (setting their wieghts to zero) for each training sample. This drops randomly a propotion of the network and forces the network to learn features in a distributed way. This technique also improves generalization and reduces the overfitting.\n",
        "\n",
        "'relu' is the rectifier (activation function max(0,x). The rectifier activation function is used to add non linearity to the network.\n",
        "\n",
        "The Flatten layer is use to convert the final feature maps into a one single 1D vector. This flattening step is needed so that you can make use of fully connected layers after some convolutional/maxpool layers. It combines all the found local features of the previous convolutional layers.\n",
        "\n",
        "In the end we used the features in two fully-connected (Dense) layers which is just artificial an neural networks (ANN) classifier. In the last layer(Dense(10,activation=\"softmax\")) the net outputs distribution of probability of each class."
      ]
    },
    {
      "cell_type": "code",
      "execution_count": 46,
      "metadata": {
        "id": "Sh1MO7h_zYps"
      },
      "outputs": [],
      "source": [
        "# Set the CNN model\n",
        "# my CNN architechture is In -> [[Conv2D->relu]*2 -> MaxPool2D -> Dropout]*2 -> Flatten -> Dense -> Dropout -> Out\n",
        "\n",
        "from keras.models import Sequential\n",
        "from keras.layers import Dense, Conv2D, MaxPool2D, Flatten\n",
        "from keras.layers import Dropout\n",
        "\n",
        "model = Sequential()\n",
        "\n",
        "model.add(Conv2D(filters = 32, kernel_size = (5,5),padding = 'Same',\n",
        "                 activation ='relu', input_shape = (28,28,1)))\n",
        "model.add(Conv2D(filters = 32, kernel_size = (5,5),padding = 'Same',\n",
        "                 activation ='relu'))\n",
        "model.add(MaxPool2D(pool_size=(2,2)))\n",
        "model.add(Dropout(0.25))\n",
        "\n",
        "\n",
        "model.add(Conv2D(filters = 64, kernel_size = (3,3),padding = 'Same',\n",
        "                 activation ='relu'))\n",
        "model.add(Conv2D(filters = 64, kernel_size = (3,3),padding = 'Same',\n",
        "                 activation ='relu'))\n",
        "model.add(MaxPool2D(pool_size=(2,2), strides=(2,2)))\n",
        "model.add(Dropout(0.25))\n",
        "\n",
        "\n",
        "model.add(Flatten())\n",
        "model.add(Dense(256, activation = \"relu\"))\n",
        "model.add(Dropout(0.5))\n",
        "model.add(Dense(10, activation = \"softmax\"))"
      ]
    },
    {
      "cell_type": "markdown",
      "metadata": {
        "id": "8BVB1izS1c57"
      },
      "source": [
        "### 2.2 Set the optimizer and annealer\n",
        "After adding the layers to our model, the next step involves configuring a score function, a loss function, and an optimization algorithm.\n",
        "\n",
        "The loss function is defined to quantify the model's performance on labeled images, assessing the error rate between the predicted labels and the observed labels. For categorical classifications (more than two classes), we employ a specific form of loss function known as \"categorical_crossentropy.\"\n",
        "\n",
        "The optimizer function holds the utmost significance as it continually refines the parameters (such as filter kernel values, weights, and neuron biases) to minimize the loss. RMSprop, with its default values, is an exceptionally effective optimizer. It modifies the Adagrad method in a simple manner to mitigate its aggressive, monotonically decreasing learning rate. While Stochastic Gradient Descent ('sgd') optimizer is another option, it tends to be slower compared to RMSprop.\n",
        "\n",
        "The metric function employed is \"accuracy,\" which evaluates the model's performance. This metric function operates similarly to the loss function, but the evaluation results from the metric are not used during the model's training phase; they are solely utilized for evaluation purposes."
      ]
    },
    {
      "cell_type": "code",
      "execution_count": 47,
      "metadata": {
        "colab": {
          "base_uri": "https://localhost:8080/"
        },
        "id": "5k3BjKGP1Vji",
        "outputId": "598f176e-5b1d-46f1-cdc9-445aa75a3d21"
      },
      "outputs": [],
      "source": [
        "from keras.optimizers import RMSprop\n",
        "\n",
        "# Define the optimizer\n",
        "optimizer = RMSprop(learning_rate=0.001, rho=0.9, epsilon=1e-08, weight_decay=0)"
      ]
    },
    {
      "cell_type": "markdown",
      "metadata": {
        "id": "GfVwEvU85tXD"
      },
      "source": [
        "To enhance the convergence speed of the optimizer and ensure it approaches the global minimum of the loss function more accurately, I implemented an annealing method for the learning rate (LR).\n",
        "\n",
        "The LR represents the stride taken by the optimizer as it navigates through the landscape of the loss function. A higher LR allows for larger steps, resulting in quicker convergence. However, a high LR may lead to inadequate sampling, potentially causing the optimizer to converge on a local minimum instead of the global minimum.\n",
        "\n",
        "To address this, it is preferable to have a decreasing learning rate throughout the training process, enabling efficient progress towards the global minimum of the loss function.\n",
        "\n",
        "To leverage the computational advantages of a high LR while maintaining effective training, we dynamically reduce the LR every X steps (epochs), taking into account whether it is necessary based on the improvement in accuracy.\n",
        "\n",
        "By utilizing the ReduceLROnPlateau function from Keras.callbacks, we choose to reduce the LR by half if the accuracy does not improve after 3 epochs. This adaptive adjustment of the LR aids in achieving more optimal convergence while maximizing computational efficiency."
      ]
    },
    {
      "cell_type": "code",
      "execution_count": 48,
      "metadata": {
        "id": "YfDem2Gz1p1l"
      },
      "outputs": [],
      "source": [
        "from keras.callbacks import ReduceLROnPlateau\n",
        "\n",
        "# Set a learning rate annealer\n",
        "learning_rate_reduction = ReduceLROnPlateau(monitor='val_accuracy',\n",
        "                                            patience=3,\n",
        "                                            verbose=1,\n",
        "                                            factor=0.5,\n",
        "                                            min_lr=0.00001)"
      ]
    },
    {
      "cell_type": "markdown",
      "metadata": {
        "id": "Dr7cs4an63LF"
      },
      "source": [
        "### 2.3 Data augmentation\n",
        "To address the issue of overfitting, it is necessary to artificially expand our dataset of handwritten digits. By enlarging the existing dataset, we aim to replicate the variations that occur when individuals write digits. This can be achieved by introducing small transformations to the training data.\n",
        "\n",
        "For instance, these transformations may involve adjusting the digit's position to make it non-centered, altering the scale to mimic different writing styles (e.g., larger or smaller numbers), and introducing rotations to simulate variations in the orientation of the image.\n",
        "\n",
        "Data augmentation techniques refer to approaches that modify the training data in a manner that changes the array representation while keeping the label unchanged. These techniques encompass a range of popular augmentations, such as grayscale conversions, horizontal and vertical flips, random crops, color adjustments, translations, rotations, and more.\n",
        "\n",
        "By applying a few of these transformations to our training data, we can effectively increase the number of training examples by two or three times, thereby creating a highly robust model.\n",
        "\n",
        "The impact of data augmentation is significant. Without employing data augmentation, the achieved accuracy was 98.114%. However, by incorporating data augmentation techniques, the accuracy improved significantly to 99.67%."
      ]
    },
    {
      "cell_type": "code",
      "execution_count": 49,
      "metadata": {
        "id": "kBxBwhkL7ROh"
      },
      "outputs": [],
      "source": [
        "from keras.preprocessing.image import ImageDataGenerator\n",
        "\n",
        "# With data augmentation to prevent overfitting (accuracy 0.99286)\n",
        "\n",
        "datagen = ImageDataGenerator(\n",
        "        featurewise_center=False,  # set input mean to 0 over the dataset\n",
        "        samplewise_center=False,  # set each sample mean to 0\n",
        "        featurewise_std_normalization=False,  # divide inputs by std of the dataset\n",
        "        samplewise_std_normalization=False,  # divide each input by its std\n",
        "        zca_whitening=False,  # apply ZCA whitening\n",
        "        rotation_range=10,  # randomly rotate images in the range (degrees, 0 to 180)\n",
        "        zoom_range = 0.1, # Randomly zoom image\n",
        "        width_shift_range=0.1,  # randomly shift images horizontally (fraction of total width)\n",
        "        height_shift_range=0.1,  # randomly shift images vertically (fraction of total height)\n",
        "        horizontal_flip=False,  # randomly flip images\n",
        "        vertical_flip=False)  # randomly flip images\n",
        "\n",
        "\n",
        "datagen.fit(X_split_train)"
      ]
    },
    {
      "cell_type": "markdown",
      "metadata": {
        "id": "hgWqfpK27t3h"
      },
      "source": [
        "For the data augmentation, we choosed to :\n",
        "\n",
        "Randomly rotate some training images by 10 degrees\n",
        "\n",
        "*   Randomly Zoom by 10% some training images\n",
        "*   Randomly shift images horizontally by 10% of the width\n",
        "*   Randomly shift images vertically by 10% of the height\n",
        "*   Randomly shift images vertically by 10% of the height\n",
        "\n",
        "We did not apply a vertical_flip nor horizontal_flip since it could have lead to misclassify symetrical numbers such as 6 and 9.\n",
        "\n",
        "Once our model is ready, we fit the training dataset ."
      ]
    },
    {
      "cell_type": "code",
      "execution_count": 50,
      "metadata": {
        "id": "ZUjGdmCQ9X_u"
      },
      "outputs": [],
      "source": [
        "import tensorflow as tf\n",
        "\n",
        "#loss=tf.keras.losses.MeanSquaredError()\n",
        "loss=tf.keras.losses.CategoricalCrossentropy()"
      ]
    },
    {
      "cell_type": "code",
      "execution_count": 52,
      "metadata": {
        "colab": {
          "base_uri": "https://localhost:8080/"
        },
        "id": "5A6T-iLf7rUD",
        "outputId": "a4e731d9-9adb-41a1-df8c-9217bf62d0aa"
      },
      "outputs": [
        {
          "name": "stdout",
          "output_type": "stream",
          "text": [
            "Epoch 1/8\n",
            "591/591 - 127s - loss: 0.3912 - accuracy: 0.8748 - val_loss: 0.0583 - val_accuracy: 0.9848 - lr: 0.0010 - 127s/epoch - 216ms/step\n",
            "Epoch 2/8\n",
            "591/591 - 158s - loss: 0.1211 - accuracy: 0.9646 - val_loss: 0.0553 - val_accuracy: 0.9836 - lr: 0.0010 - 158s/epoch - 268ms/step\n",
            "Epoch 3/8\n",
            "591/591 - 162s - loss: 0.0896 - accuracy: 0.9729 - val_loss: 0.0285 - val_accuracy: 0.9895 - lr: 0.0010 - 162s/epoch - 273ms/step\n",
            "Epoch 4/8\n",
            "591/591 - 157s - loss: 0.0789 - accuracy: 0.9775 - val_loss: 0.0660 - val_accuracy: 0.9800 - lr: 0.0010 - 157s/epoch - 266ms/step\n",
            "Epoch 5/8\n",
            "591/591 - 160s - loss: 0.0713 - accuracy: 0.9791 - val_loss: 0.0288 - val_accuracy: 0.9905 - lr: 0.0010 - 160s/epoch - 270ms/step\n",
            "Epoch 6/8\n",
            "591/591 - 156s - loss: 0.0650 - accuracy: 0.9809 - val_loss: 0.0270 - val_accuracy: 0.9912 - lr: 0.0010 - 156s/epoch - 264ms/step\n",
            "Epoch 7/8\n",
            "591/591 - 161s - loss: 0.0624 - accuracy: 0.9820 - val_loss: 0.0224 - val_accuracy: 0.9921 - lr: 0.0010 - 161s/epoch - 272ms/step\n",
            "Epoch 8/8\n",
            "591/591 - 173s - loss: 0.0592 - accuracy: 0.9829 - val_loss: 0.0201 - val_accuracy: 0.9933 - lr: 0.0010 - 173s/epoch - 293ms/step\n"
          ]
        }
      ],
      "source": [
        "import tensorflow as tf\n",
        "import datetime\n",
        "\n",
        "# Fit the model\n",
        "epochs = 8 # Turn epochs to 30 to get 0.9967 accuracy\n",
        "batch_size = 64\n",
        "\n",
        "model.compile(optimizer=optimizer, loss=loss, metrics=['accuracy'])\n",
        "\n",
        "#log_dir = \"logs/fit/\" + datetime.datetime.now().strftime(\"%Y%m%d-%H%M%S\")\n",
        "#tensorboard_callback = tf.keras.callbacks.TensorBoard(log_dir=log_dir, histogram_freq=1)\n",
        "\n",
        "history = model.fit(\n",
        "    datagen.flow(X_split_train, Y_split_train, batch_size=batch_size),\n",
        "    epochs = epochs, \n",
        "    validation_data = (X_split_val, Y_split_val),\n",
        "    verbose = 2, \n",
        "    batch_size=batch_size,\n",
        "    callbacks=[\n",
        "        learning_rate_reduction,\n",
        "        #tensorboard_callback\n",
        "    ]\n",
        ")"
      ]
    },
    {
      "cell_type": "markdown",
      "metadata": {
        "id": "T9VfuTHY_SlT"
      },
      "source": [
        "## 3. Evaluate the model\n",
        "### 3.1 Confusion matrix\n",
        "Confusion matrix can be very helpfull to see your model drawbacks."
      ]
    },
    {
      "cell_type": "code",
      "execution_count": 53,
      "metadata": {
        "colab": {
          "base_uri": "https://localhost:8080/",
          "height": 522
        },
        "id": "pp5Ptj_T72ZR",
        "outputId": "2a12691e-5962-4548-b704-ef39c21f3541"
      },
      "outputs": [
        {
          "name": "stdout",
          "output_type": "stream",
          "text": [
            "{'loss': [0.39119911193847656, 0.1210613027215004, 0.08957860618829727, 0.07889239490032196, 0.07127024233341217, 0.06500465422868729, 0.06237530708312988, 0.05920534208416939], 'accuracy': [0.8748412728309631, 0.964550256729126, 0.9728835821151733, 0.977486789226532, 0.9791005253791809, 0.9809259176254272, 0.9820370078086853, 0.9828835725784302], 'val_loss': [0.058258235454559326, 0.05529069900512695, 0.028549592941999435, 0.06596142053604126, 0.028813719749450684, 0.02701297216117382, 0.02237543649971485, 0.020074917003512383], 'val_accuracy': [0.9847618937492371, 0.9835714101791382, 0.9895238280296326, 0.9800000190734863, 0.9904761910438538, 0.991190493106842, 0.9921428561210632, 0.9933333396911621], 'lr': [0.001, 0.001, 0.001, 0.001, 0.001, 0.001, 0.001, 0.001]}\n",
            "132/132 [==============================] - 3s 24ms/step\n"
          ]
        },
        {
          "data": {
            "image/png": "[encoded data removed]",
            "text/plain": [
              "<Figure size 640x480 with 2 Axes>"
            ]
          },
          "metadata": {},
          "output_type": "display_data"
        }
      ],
      "source": [
        "import matplotlib.pyplot as plt\n",
        "\n",
        "print(history.history)\n",
        "\n",
        "def plot_confusion_matrix(cm, classes,\n",
        "                          normalize=False,\n",
        "                          title='Confusion matrix',\n",
        "                          cmap=plt.cm.Blues):\n",
        "    \"\"\"\n",
        "    This function prints and plots the confusion matrix.\n",
        "    Normalization can be applied by setting `normalize=True`.\n",
        "    \"\"\"\n",
        "    plt.imshow(cm, interpolation='nearest', cmap=cmap)\n",
        "    plt.title(title)\n",
        "    plt.colorbar()\n",
        "    tick_marks = np.arange(len(classes))\n",
        "    plt.xticks(tick_marks, classes, rotation=45)\n",
        "    plt.yticks(tick_marks, classes)\n",
        "\n",
        "    if normalize:\n",
        "        cm = cm.astype('float') / cm.sum(axis=1)[:, np.newaxis]\n",
        "\n",
        "    thresh = cm.max() / 2.\n",
        "    for i, j in itertools.product(range(cm.shape[0]), range(cm.shape[1])):\n",
        "        plt.text(j, i, cm[i, j],\n",
        "                 horizontalalignment=\"center\",\n",
        "                 color=\"white\" if cm[i, j] > thresh else \"black\")\n",
        "\n",
        "    plt.tight_layout()\n",
        "    plt.ylabel('True label')\n",
        "    plt.xlabel('Predicted label')\n",
        "\n",
        "# Predict the values from the validation dataset\n",
        "Y_pred = model.predict(X_split_val)\n",
        "# Convert predictions classes to one hot vectors\n",
        "Y_pred_classes = np.argmax(Y_pred, axis = 1)\n",
        "# Convert validation observations to one hot vectors\n",
        "Y_true = np.argmax(Y_split_val, axis = 1)\n",
        "\n",
        "# compute the confusion matrix\n",
        "confusion_mtx = confusion_matrix(Y_true, Y_pred_classes)\n",
        "# plot the confusion matrix\n",
        "plot_confusion_matrix(confusion_mtx, classes = range(10))\n"
      ]
    },
    {
      "cell_type": "markdown",
      "metadata": {
        "id": "xQuNlBuPAp6g"
      },
      "source": [
        "Here we can see that our CNN performs very well on all digits with few errors considering the size of the validation set (4200 images).\n",
        "\n",
        "However, it seems that our CNN has some little troubles with the 4 digits, they are misclassified as 9. Sometime it is very difficult to catch the difference between 4 and 9 when curves are smooth.\n",
        "\n",
        "Let's investigate for errors.\n",
        "\n",
        "The most important errors . For that purpose we need to get the difference between the probabilities of real value and the predicted ones in the results.\n",
        "\n"
      ]
    },
    {
      "cell_type": "code",
      "execution_count": 54,
      "metadata": {
        "colab": {
          "base_uri": "https://localhost:8080/",
          "height": 455
        },
        "id": "Q6JttPNd_fn1",
        "outputId": "82badea3-749c-42b3-da58-4ef83c36e6cb"
      },
      "outputs": [
        {
          "data": {
            "image/png": "[encoded data removed]",
            "text/plain": [
              "<Figure size 640x480 with 6 Axes>"
            ]
          },
          "metadata": {},
          "output_type": "display_data"
        }
      ],
      "source": [
        "# Display some error results\n",
        "\n",
        "# Errors are difference between predicted labels and true labels\n",
        "errors = (Y_pred_classes - Y_true != 0)\n",
        "\n",
        "Y_pred_classes_errors = Y_pred_classes[errors]\n",
        "Y_pred_errors = Y_pred[errors]\n",
        "Y_true_errors = Y_true[errors]\n",
        "X_val_errors = X_split_val[errors]\n",
        "\n",
        "def display_errors(errors_index,img_errors,pred_errors, obs_errors):\n",
        "    \"\"\" This function shows 6 images with their predicted and real labels\"\"\"\n",
        "    n = 0\n",
        "    nrows = 2\n",
        "    ncols = 3\n",
        "    fig, ax = plt.subplots(nrows,ncols,sharex=True,sharey=True)\n",
        "    for row in range(nrows):\n",
        "        for col in range(ncols):\n",
        "            error = errors_index[n]\n",
        "            ax[row,col].imshow((img_errors[error]).reshape((28,28)))\n",
        "            ax[row,col].set_title(\"Predicted label :{}\\nTrue label :{}\".format(pred_errors[error],obs_errors[error]))\n",
        "            n += 1\n",
        "\n",
        "# Probabilities of the wrong predicted numbers\n",
        "Y_pred_errors_prob = np.max(Y_pred_errors,axis = 1)\n",
        "\n",
        "# Predicted probabilities of the true values in the error set\n",
        "true_prob_errors = np.diagonal(np.take(Y_pred_errors, Y_true_errors, axis=1))\n",
        "\n",
        "# Difference between the probability of the predicted label and the true label\n",
        "delta_pred_true_errors = Y_pred_errors_prob - true_prob_errors\n",
        "\n",
        "# Sorted list of the delta prob errors\n",
        "sorted_dela_errors = np.argsort(delta_pred_true_errors)\n",
        "\n",
        "# Top 6 errors\n",
        "most_important_errors = sorted_dela_errors[-6:]\n",
        "\n",
        "# Show the top 6 errors\n",
        "display_errors(most_important_errors, X_val_errors, Y_pred_classes_errors, Y_true_errors)\n"
      ]
    },
    {
      "cell_type": "code",
      "execution_count": 56,
      "metadata": {
        "colab": {
          "base_uri": "https://localhost:8080/"
        },
        "id": "XJhtTDqwA95q",
        "outputId": "9d15597f-d72d-4085-ca78-797b8eacfc3c"
      },
      "outputs": [
        {
          "name": "stdout",
          "output_type": "stream",
          "text": [
            "875/875 [==============================] - 24s 27ms/step\n"
          ]
        }
      ],
      "source": [
        "# predict results\n",
        "results = model.predict(test_expanded)\n",
        "\n",
        "# select the indix with the maximum probability\n",
        "results = np.argmax(results,axis = 1)\n",
        "\n",
        "results = pd.Series(results,name=\"Label\")"
      ]
    },
    {
      "cell_type": "code",
      "execution_count": null,
      "metadata": {
        "colab": {
          "base_uri": "https://localhost:8080/"
        },
        "id": "XB4meZ6_BndV",
        "outputId": "caf768d4-3312-4d56-ae9a-58b2fb99eec1"
      },
      "outputs": [
        {
          "data": {
            "text/plain": [
              "0    2\n",
              "1    0\n",
              "2    9\n",
              "3    0\n",
              "4    3\n",
              "Name: Label, dtype: int64"
            ]
          },
          "execution_count": 41,
          "metadata": {},
          "output_type": "execute_result"
        }
      ],
      "source": [
        "results.head()"
      ]
    }
  ],
  "metadata": {
    "colab": {
      "provenance": []
    },
    "kernelspec": {
      "display_name": "Python 3",
      "name": "python3"
    },
    "language_info": {
      "codemirror_mode": {
        "name": "ipython",
        "version": 3
      },
      "file_extension": ".py",
      "mimetype": "text/x-python",
      "name": "python",
      "nbconvert_exporter": "python",
      "pygments_lexer": "ipython3",
      "version": "3.11.4"
    }
  },
  "nbformat": 4,
  "nbformat_minor": 0
}
