{
 "cells": [
  {
   "cell_type": "markdown",
   "metadata": {},
   "source": [
    "# Problem\n",
    "Using the MNIST dataset, create a deep learning model to classify the images containing numbers. Use batch normalization and save the model using model checkpoints."
   ]
  },
  {
   "cell_type": "markdown",
   "metadata": {},
   "source": [
    "# dataset \n",
    "The MNIST database of handwritten digits, available from this page, has a training set of 60,000 examples, and a test set of 10,000 examples.\n",
    "\n",
    "site: http://yann.lecun.com/exdb/mnist/\n",
    "\n",
    "Links to download the dataset\n",
    "http://yann.lecun.com/exdb/mnist/train-images-idx3-ubyte.gz\n",
    "http://yann.lecun.com/exdb/mnist/train-labels-idx1-ubyte.gz\n",
    "http://yann.lecun.com/exdb/mnist/t10k-images-idx3-ubyte.gz\n",
    "http://yann.lecun.com/exdb/mnist/t10k-labels-idx1-ubyte.gz"
   ]
  },
  {
   "cell_type": "code",
   "execution_count": 1,
   "metadata": {},
   "outputs": [
    {
     "name": "stdout",
     "output_type": "stream",
     "text": [
      "Collecting mnist\n",
      "  Downloading mnist-0.2.2-py2.py3-none-any.whl (3.5 kB)\n",
      "Requirement already satisfied: numpy in /Users/n0c09jf/anaconda3/lib/python3.11/site-packages (from mnist) (1.24.3)\n",
      "Installing collected packages: mnist\n",
      "Successfully installed mnist-0.2.2\n"
     ]
    }
   ],
   "source": [
    "#python mnist pacakage to download \n",
    "#   the images as rows of 28x28 byte block for each image\n",
    "#   the labels as rows of integers\n",
    "\n",
    "!pip3 install mnist"
   ]
  },
  {
   "cell_type": "code",
   "execution_count": 2,
   "metadata": {},
   "outputs": [
    {
     "name": "stdout",
     "output_type": "stream",
     "text": [
      "60000 10000\n"
     ]
    }
   ],
   "source": [
    "import mnist as MNIST\n",
    "import numpy as np\n",
    "\n",
    "train_images = MNIST.train_images()\n",
    "train_labels = MNIST.train_labels()\n",
    "test_images = MNIST.test_images()\n",
    "test_labels = MNIST.test_labels()\n",
    "\n",
    "print(len(train_images), len(test_images))"
   ]
  },
  {
   "cell_type": "markdown",
   "metadata": {},
   "source": [
    "# Approach\n",
    "The images contain digits from 0 to 9. The task is to classify a given image with these 10 labels. Its a multinominal classification problem. \n",
    "\n",
    "The input layer will consists of neurons proportional to the number of features, which is 28x28 pixel data i.e. 784 where each pixel is a feature.\n",
    "\n",
    "We can use softmax as activation function in output layer which can predict the probability of a given digit. The layer will have 10 neurons each classifying a label 0 - 9.\n",
    "\n",
    "Based on this [paper](https://ieeexplore.ieee.org/document/9252936), we will carry out the PCA (accounting for 60-70% cumulative variance) followed by k-means to estimate the hidden layers & number of neuron units. "
   ]
  },
  {
   "cell_type": "code",
   "execution_count": 10,
   "metadata": {},
   "outputs": [
    {
     "name": "stdout",
     "output_type": "stream",
     "text": [
      "X size (70000, 28, 28) Y size (70000,)\n",
      "X size (70000, 784) Y size (70000,)\n"
     ]
    }
   ],
   "source": [
    "#concatenate both train and test as the source of data is different\n",
    "#   we need a mix of both across training and tests\n",
    "X = np.concatenate((train_images, test_images), axis=0)\n",
    "Y = np.concatenate((train_labels, test_labels), axis=0)\n",
    "\n",
    "print(\"X size\", X.shape, \"Y size\", Y.shape)\n",
    "\n",
    "#reshape the 2d image array to 1d to match the input dimension of NN\n",
    "X_flat = X.reshape(70000, 28*28)\n",
    "\n",
    "print(\"X size\", X_flat.shape, \"Y size\", Y.shape)"
   ]
  },
  {
   "cell_type": "code",
   "execution_count": 5,
   "metadata": {},
   "outputs": [],
   "source": [
    "\n",
    "import numpy as np\n",
    "import pandas as pd\n",
    "\n",
    "from sklearn.model_selection import ParameterGrid\n",
    "from sklearn.manifold import TSNE\n",
    "from sklearn.base import clone\n",
    "from sklearn.metrics import silhouette_score\n",
    "\n",
    "class ClusterGridSearch:\n",
    "    def __init__(self, estimator, param_grid, scorer=silhouette_score, positive=1):\n",
    "        self.param_grid = param_grid\n",
    "        self.base_estimator = estimator\n",
    "        self.scorer = scorer\n",
    "        self.positive = positive\n",
    "        self.tsne_z = None\n",
    "        \n",
    "    def fit(self, X):\n",
    "        best_estimator = self.base_estimator\n",
    "        best_score = np.NaN\n",
    "        best_params = {}\n",
    "        \n",
    "        params = ParameterGrid(self.param_grid)\n",
    "        results = {'score': []}\n",
    "        \n",
    "        for param in params:\n",
    "            print(\"running ClusterGridSearch for \", param, \"on\", X.shape)\n",
    "            \n",
    "            estimator = clone(self.base_estimator)\n",
    "            estimator = estimator.set_params(**clone(param, safe=False))\n",
    "            estimator = estimator.fit(X)\n",
    "            \n",
    "            score = self.scorer(X, estimator.labels_)\n",
    "            for key in param:\n",
    "                if not key in results.keys():\n",
    "                    results[key] = []\n",
    "                results[key].append(param[key])\n",
    "            results['score'].append(score)\n",
    "            \n",
    "            if best_score is np.NaN:\n",
    "                best_score = score\n",
    "                best_estimator = estimator\n",
    "                best_params = param.copy()\n",
    "            elif self.positive*score > self.positive*best_score:\n",
    "                best_score = score\n",
    "                best_estimator = estimator\n",
    "                best_params = param.copy()\n",
    "            \n",
    "        self.best_estimator_ = best_estimator\n",
    "        self.best_score_ = best_score\n",
    "        self.best_params_ = best_params\n",
    "        self.results_ = results\n",
    "            \n",
    "        return self\n",
    "\n",
    "    def plot(self, axis):\n",
    "        axis.plot(self.results_['n_clusters'], self.results_['score'], color='k')\n",
    "        axis.grid(color='grey', linestyle='--', linewidth=0.2)\n",
    "        axis.set_title(self.scorer.__name__)\n",
    "        axis.set_xlabel('#Clusters', color='b')\n",
    "        axis.axvline(x=self.best_params_['n_clusters'], ymin=0, linewidth=2, color='r', linestyle='--')\n",
    "        return self\n",
    "    \n",
    "    def scatter(self, X, axis):\n",
    "        axis.scatter(X[:,0], X[:,1],c=self.best_estimator_.labels_);\n",
    "        axis.grid(True)\n",
    "        return self\n",
    "    \n",
    "    def tsne_plot(self, X, axis):\n",
    "        tsne = TSNE(n_components=2, verbose=0, random_state=123)\n",
    "        if self.tsne_z is None:\n",
    "            self.tsne_z = tsne.fit_transform(pd.DataFrame(X))\n",
    "        axis.scatter(self.tsne_z[:,0], self.tsne_z[:,1],c=self.best_estimator_.labels_)\n",
    "        axis.grid(True)\n"
   ]
  },
  {
   "cell_type": "code",
   "execution_count": 6,
   "metadata": {},
   "outputs": [],
   "source": [
    "\n",
    "\n",
    "import numpy as np\n",
    "\n",
    "from sklearn.decomposition import PCA\n",
    "from sklearn.cluster import KMeans\n",
    "from sklearn.metrics import silhouette_score\n",
    "\n",
    "class HiddenLayerEstimator:\n",
    "    def __init__(self, num_of_labels=2, verbose=0):\n",
    "        self.num_of_labels = num_of_labels\n",
    "        self.verbose = verbose\n",
    "        return\n",
    "\n",
    "    def compute_targets(self, X):\n",
    "        pca_obj = PCA().fit(X)\n",
    "        cum_var = 0\n",
    "        \n",
    "        target_n_components = 0\n",
    "        target_cum_var = 40\n",
    "        if self.num_of_labels > 2:\n",
    "            target_cum_var = 60\n",
    "            \n",
    "        for comp in range(0, pca_obj.n_components_):\n",
    "            target_n_components = target_n_components + 1\n",
    "            cum_var = cum_var + pca_obj.explained_variance_ratio_[comp]\n",
    "            \n",
    "            if self.verbose > 9:\n",
    "                print(\n",
    "                    f\"PCA_{comp}\", \n",
    "                    round(pca_obj.explained_variance_ratio_[comp]*100), \n",
    "                    round(cum_var*100))\n",
    "            \n",
    "            if cum_var > target_cum_var:\n",
    "                break;\n",
    "        \n",
    "        self.target_n_components = target_n_components\n",
    "        self.target_cum_var = cum_var\n",
    "        \n",
    "        return pca_obj, target_n_components\n",
    "    \n",
    "    def compute_clusters(self, X):\n",
    "        params_grid = {'n_clusters': range(2, 20), 'n_init': ['auto']}\n",
    "        grid_search = ClusterGridSearch(KMeans(), params_grid, scorer=silhouette_score)\n",
    "        grid_search.fit(X)\n",
    "        \n",
    "        return (grid_search, grid_search.best_params_['n_clusters'])\n",
    "        \n",
    "    \n",
    "    def fit(self, X):\n",
    "        (pca_obj, target_n_components) = self.compute_targets(X)\n",
    "        \n",
    "        layers = []\n",
    "        \n",
    "        \n",
    "        X_new = pca_obj.transform(X)\n",
    "        for nlayer in range(0, target_n_components):\n",
    "            PC_X = X_new[:, [nlayer]]\n",
    "            (grid_search, n_clusters) = self.compute_clusters(PC_X)\n",
    "            \n",
    "            layers.append({\n",
    "                'n_neurons': n_clusters, \n",
    "                'variance': pca_obj.explained_variance_ratio_[nlayer]\n",
    "            })\n",
    "            \n",
    "            if self.verbose > 0:\n",
    "                print({\n",
    "                    'layer': nlayer,\n",
    "                    'n_neurons': n_clusters, \n",
    "                    'variance': pca_obj.explained_variance_ratio_[nlayer]\n",
    "                })\n",
    "        \n",
    "        layers.reverse()\n",
    "        \n",
    "        cum_var_curr = 0\n",
    "        for l in layers:\n",
    "            cum_var_curr = cum_var_curr + l[\"variance\"]\n",
    "            l[\"cum_variance\"] = cum_var_curr\n",
    "        \n",
    "        \n",
    "        self.layers_ = layers\n",
    "        return self"
   ]
  },
  {
   "cell_type": "code",
   "execution_count": 14,
   "metadata": {},
   "outputs": [],
   "source": [
    "\n",
    "import numpy as np\n",
    "\n",
    "\n",
    "random_indices = np.random.choice(X_flat.shape[0], \n",
    "                                  size=int(X_flat.shape[0]*0.1), \n",
    "                                  replace=False)\n",
    "X_flat_sample = X_flat[random_indices, :]\n",
    "X_flat_scaler = MinMaxScaler((0,1))\n",
    "X_flat_sample_scaled = X_flat_scaler.fit_transform(X_flat_sample)\n",
    "\n",
    "#hls = HiddenLayerEstimator(num_of_labels=10, verbose=1).fit(X_flat_sample_scaled)\n",
    "#hls.layers_"
   ]
  },
  {
   "cell_type": "code",
   "execution_count": 15,
   "metadata": {},
   "outputs": [
    {
     "name": "stdout",
     "output_type": "stream",
     "text": [
      "X shape (52500, 28, 28) X min 0.0 X max 1.0\n"
     ]
    }
   ],
   "source": [
    "\n",
    "from sklearn.preprocessing import MinMaxScaler\n",
    "from sklearn.model_selection import train_test_split\n",
    "\n",
    "# Train Test Split\n",
    "X_train,X_test,Y_train,Y_test = train_test_split(\n",
    "    X,Y,test_size=0.25,\n",
    "    shuffle=True,\n",
    "    random_state=21)\n",
    "\n",
    "# Scaling the input features\n",
    "#X_scaler = MinMaxScaler((0,1))\n",
    "#X_train_scaled = X_scaler.fit_transform(X_train)\n",
    "#X_test_scaled = X_scaler.transform(X_test)\n",
    "X_train_scaled = X_train/255\n",
    "X_test_scaled = X_test/255\n",
    "\n",
    "print(\"X shape\", X_train_scaled.shape, \n",
    "      \"X min\", X_train_scaled.min(), \n",
    "      \"X max\", X_train_scaled.max())"
   ]
  },
  {
   "cell_type": "markdown",
   "metadata": {},
   "source": [
    "Number of hidden layers to accomodate 60% variance as per the article needs 15 layers with 2 neurons in each layer. Instead if will start with 2 hidden layers with 15 neurons in each layer.\n",
    "\n",
    "i/p features = 784, o/p labels = 10, hidden layers = 2 (1x15, 1x15)"
   ]
  },
  {
   "cell_type": "code",
   "execution_count": null,
   "metadata": {},
   "outputs": [],
   "source": [
    "!pip3 install tensorflow\n",
    "!pip3 install keras"
   ]
  },
  {
   "cell_type": "code",
   "execution_count": 159,
   "metadata": {},
   "outputs": [
    {
     "name": "stdout",
     "output_type": "stream",
     "text": [
      "Model: \"sequential_16\"\n",
      "_________________________________________________________________\n",
      " Layer (type)                Output Shape              Param #   \n",
      "=================================================================\n",
      " dense_39 (Dense)            (None, 300)               235500    \n",
      "                                                                 \n",
      " batch_normalization_26 (Ba  (None, 300)               1200      \n",
      " tchNormalization)                                               \n",
      "                                                                 \n",
      " dense_40 (Dense)            (None, 100)               30100     \n",
      "                                                                 \n",
      " batch_normalization_27 (Ba  (None, 100)               400       \n",
      " tchNormalization)                                               \n",
      "                                                                 \n",
      " dense_41 (Dense)            (None, 10)                1010      \n",
      "                                                                 \n",
      "=================================================================\n",
      "Total params: 268210 (1.02 MB)\n",
      "Trainable params: 267410 (1.02 MB)\n",
      "Non-trainable params: 800 (3.12 KB)\n",
      "_________________________________________________________________\n"
     ]
    }
   ],
   "source": [
    "import os\n",
    "os.environ['TF_CPP_MIN_LOG_LEVEL'] = '2'\n",
    "\n",
    "import tensorflow\n",
    "\n",
    "model = tensorflow.keras.models.Sequential()\n",
    "\n",
    "#input layer\n",
    "model.add(tensorflow.keras.layers.Flatten(input_shape=[28, 28], name=\"inputLayer\"))\n",
    "\n",
    "          \n",
    "#batch normalization\n",
    "model.add(tensorflow.keras.layers.BatchNormalization(momentum=0.9, epsilon=0.001))\n",
    "\n",
    "#hidden layer 1\n",
    "model.add(\n",
    "    tensorflow.keras.layers.Dense(\n",
    "        units=300, activation='leaky_relu', \n",
    "        kernel_regularizer=tensorflow.keras.regularizers.L2(0.01))\n",
    "    )\n",
    "\n",
    "#batch normalization\n",
    "model.add(tensorflow.keras.layers.BatchNormalization(momentum=0.9, epsilon=0.001))\n",
    "\n",
    "#hidden layer 2\n",
    "model.add(\n",
    "    tensorflow.keras.layers.Dense(\n",
    "        units=100, activation='leaky_relu', \n",
    "        kernel_regularizer=tensorflow.keras.regularizers.L2(0.01))\n",
    "    )\n",
    "\n",
    "#batch normalization\n",
    "model.add(tensorflow.keras.layers.BatchNormalization(momentum=0.9, epsilon=0.001))\n",
    "\n",
    "#output layer\n",
    "model.add(\n",
    "    tensorflow.keras.layers.Dense(\n",
    "        units=10, activation='softmax',\n",
    "        kernel_regularizer=tensorflow.keras.regularizers.L2(0.01))\n",
    ")\n",
    "\n",
    "#optimizer\n",
    "adam_optimizer = tensorflow.keras.optimizers.Adam(learning_rate=0.001)\n",
    "sgd_optimizer = tensorflow.keras.optimizers.SGD(learning_rate=0.01, momentum=0.9)\n",
    "model.compile(\n",
    "    optimizer=sgd_optimizer, \n",
    "    loss=tensorflow.keras.losses.SparseCategoricalCrossentropy(), \n",
    "    metrics='accuracy')\n",
    "\n",
    "model.summary()\n",
    "\n",
    "# Create a callback that saves the model's weights\n",
    "checkpoint_path = \"./.ckpts/cp.ckpt\"\n",
    "checkpoint_dir = os.path.dirname(checkpoint_path)\n",
    "cp_callback = tensorflow.keras.callbacks.ModelCheckpoint(\n",
    "    filepath=checkpoint_path,\n",
    "    save_weights_only=True,\n",
    "    verbose=0)\n",
    "\n",
    "history = model.fit(\n",
    "    X_train_scaled,Y_train,batch_size=32,\n",
    "    validation_split=0.3,callbacks=[cp_callback],\n",
    "    epochs=5,verbose=0)"
   ]
  },
  {
   "cell_type": "code",
   "execution_count": 138,
   "metadata": {},
   "outputs": [
    {
     "name": "stdout",
     "output_type": "stream",
     "text": [
      "Requirement already satisfied: matplotlib in /Users/n0c09jf/anaconda3/lib/python3.11/site-packages (3.7.1)\n",
      "Requirement already satisfied: contourpy>=1.0.1 in /Users/n0c09jf/anaconda3/lib/python3.11/site-packages (from matplotlib) (1.0.5)\n",
      "Requirement already satisfied: cycler>=0.10 in /Users/n0c09jf/anaconda3/lib/python3.11/site-packages (from matplotlib) (0.11.0)\n",
      "Requirement already satisfied: fonttools>=4.22.0 in /Users/n0c09jf/anaconda3/lib/python3.11/site-packages (from matplotlib) (4.25.0)\n",
      "Requirement already satisfied: kiwisolver>=1.0.1 in /Users/n0c09jf/anaconda3/lib/python3.11/site-packages (from matplotlib) (1.4.4)\n",
      "Requirement already satisfied: numpy>=1.20 in /Users/n0c09jf/anaconda3/lib/python3.11/site-packages (from matplotlib) (1.24.3)\n",
      "Requirement already satisfied: packaging>=20.0 in /Users/n0c09jf/anaconda3/lib/python3.11/site-packages (from matplotlib) (23.0)\n",
      "Requirement already satisfied: pillow>=6.2.0 in /Users/n0c09jf/anaconda3/lib/python3.11/site-packages (from matplotlib) (9.4.0)\n",
      "Requirement already satisfied: pyparsing>=2.3.1 in /Users/n0c09jf/anaconda3/lib/python3.11/site-packages (from matplotlib) (3.0.9)\n",
      "Requirement already satisfied: python-dateutil>=2.7 in /Users/n0c09jf/anaconda3/lib/python3.11/site-packages (from matplotlib) (2.8.2)\n",
      "Requirement already satisfied: six>=1.5 in /Users/n0c09jf/anaconda3/lib/python3.11/site-packages (from python-dateutil>=2.7->matplotlib) (1.16.0)\n"
     ]
    }
   ],
   "source": [
    "!pip3 install matplotlib"
   ]
  },
  {
   "cell_type": "code",
   "execution_count": 1,
   "metadata": {},
   "outputs": [
    {
     "ename": "NameError",
     "evalue": "name 'history' is not defined",
     "output_type": "error",
     "traceback": [
      "\u001b[0;31m---------------------------------------------------------------------------\u001b[0m",
      "\u001b[0;31mNameError\u001b[0m                                 Traceback (most recent call last)",
      "Cell \u001b[0;32mIn[1], line 5\u001b[0m\n\u001b[1;32m      1\u001b[0m \u001b[39mimport\u001b[39;00m \u001b[39mmatplotlib\u001b[39;00m\u001b[39m.\u001b[39;00m\u001b[39mpyplot\u001b[39;00m \u001b[39mas\u001b[39;00m \u001b[39mplt\u001b[39;00m\n\u001b[1;32m      4\u001b[0m \u001b[39m# Plotting the learning curve\u001b[39;00m\n\u001b[0;32m----> 5\u001b[0m plt\u001b[39m.\u001b[39mplot(history\u001b[39m.\u001b[39mhistory[\u001b[39m'\u001b[39m\u001b[39mloss\u001b[39m\u001b[39m'\u001b[39m])\n\u001b[1;32m      6\u001b[0m plt\u001b[39m.\u001b[39mplot(history\u001b[39m.\u001b[39mhistory[\u001b[39m'\u001b[39m\u001b[39mval_loss\u001b[39m\u001b[39m'\u001b[39m])\n\u001b[1;32m      7\u001b[0m plt\u001b[39m.\u001b[39mxlabel(\u001b[39m\"\u001b[39m\u001b[39mEpochs\u001b[39m\u001b[39m\"\u001b[39m)\n",
      "\u001b[0;31mNameError\u001b[0m: name 'history' is not defined"
     ]
    }
   ],
   "source": [
    "import matplotlib.pyplot as plt\n",
    "\n",
    "\n",
    "# Plotting the learning curve\n",
    "plt.plot(history.history['loss'])\n",
    "plt.plot(history.history['val_loss'])\n",
    "plt.xlabel(\"Epochs\")\n",
    "plt.ylabel(\"Loss\")\n",
    "plt.title('Learning Curve')\n",
    "plt.legend(['Training Loss','Valdiation Loss'])\n",
    "plt.show()\n",
    "\n",
    "# Plotting the accuracy curve\n",
    "plt.plot(history.history['accuracy'])\n",
    "plt.plot(history.history['val_accuracy'])\n",
    "plt.xlabel(\"Epochs\")\n",
    "plt.ylabel(\"Accuracy\")\n",
    "plt.title('Learning Curve')\n",
    "plt.legend(['Training Accuracy','Valdiation Accuracy'])\n",
    "plt.show()\n"
   ]
  },
  {
   "cell_type": "code",
   "execution_count": 144,
   "metadata": {},
   "outputs": [
    {
     "name": "stdout",
     "output_type": "stream",
     "text": [
      "Train: 0.953, Test: 0.947\n"
     ]
    },
    {
     "data": {
      "image/png": "[encoded data removed]",
      "text/plain": [
       "<Figure size 640x480 with 1 Axes>"
      ]
     },
     "metadata": {},
     "output_type": "display_data"
    }
   ],
   "source": [
    "# evaluate the model\n",
    "_, test_acc = model.evaluate(X_test_scaled, Y_test, verbose=0)\n",
    "print('Test: %.3f' % (test_acc))\n"
   ]
  }
 ],
 "metadata": {
  "kernelspec": {
   "display_name": "base",
   "language": "python",
   "name": "python3"
  },
  "language_info": {
   "codemirror_mode": {
    "name": "ipython",
    "version": 3
   },
   "file_extension": ".py",
   "mimetype": "text/x-python",
   "name": "python",
   "nbconvert_exporter": "python",
   "pygments_lexer": "ipython3",
   "version": "3.11.3"
  },
  "orig_nbformat": 4
 },
 "nbformat": 4,
 "nbformat_minor": 2
}
